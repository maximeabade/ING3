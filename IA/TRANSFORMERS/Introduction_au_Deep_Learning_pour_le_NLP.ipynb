{
 "cells": [
  {
   "cell_type": "markdown",
   "id": "7c2fd613",
   "metadata": {},
   "source": [
    "\n",
    "\n",
    "<h1 style=\"border: 2px solid black; padding: 15px; border-radius: 12px;\" align='center'>IA pour la cyber</h1>    \n",
    "\n",
    "<h2 align='center'> Introduction au NLP </h2>\n",
    "\n",
    "<h3 align='center'> Jordy Palafox </h3>\n",
    "<h3 align='center'> Ing3 CS - 2024/2025 </h3>\n",
    "      \n",
    "      \n",
    "<div style=\"display:flex\"> \n",
    "    <img src=\"cytech.png\", style=\"width:250px;height:50\"> \n",
    "    <img src=\"cy.jpg\", style=\"width:300px;height:100px\"> \n",
    "</div> "
   ]
  },
  {
   "cell_type": "markdown",
   "id": "8fc242a9",
   "metadata": {},
   "source": [
    "Dans ce TP, nous allons faire de la classification de requêtes SQL. Le but est de déterminer si une requête SQl a été comprise ou non. \n",
    "\n",
    "Le dataset est disponible à l'adresse suivante : https://www.kaggle.com/datasets/sajid576/sql-injection-dataset/data"
   ]
  },
  {
   "cell_type": "code",
   "execution_count": 1,
   "id": "011eff42",
   "metadata": {},
   "outputs": [],
   "source": [
    "import pandas as pd\n",
    "import matplotlib.pyplot as plt"
   ]
  },
  {
   "cell_type": "code",
   "execution_count": 2,
   "id": "82d3def6",
   "metadata": {},
   "outputs": [],
   "source": [
    "df = pd.read_csv('Modified_SQL_Dataset.csv')"
   ]
  },
  {
   "cell_type": "code",
   "execution_count": 3,
   "id": "840e0a6b",
   "metadata": {},
   "outputs": [
    {
     "data": {
      "text/html": [
       "<div>\n",
       "<style scoped>\n",
       "    .dataframe tbody tr th:only-of-type {\n",
       "        vertical-align: middle;\n",
       "    }\n",
       "\n",
       "    .dataframe tbody tr th {\n",
       "        vertical-align: top;\n",
       "    }\n",
       "\n",
       "    .dataframe thead th {\n",
       "        text-align: right;\n",
       "    }\n",
       "</style>\n",
       "<table border=\"1\" class=\"dataframe\">\n",
       "  <thead>\n",
       "    <tr style=\"text-align: right;\">\n",
       "      <th></th>\n",
       "      <th>Query</th>\n",
       "      <th>Label</th>\n",
       "    </tr>\n",
       "  </thead>\n",
       "  <tbody>\n",
       "    <tr>\n",
       "      <th>0</th>\n",
       "      <td>\" or pg_sleep  (  __TIME__  )  --</td>\n",
       "      <td>1</td>\n",
       "    </tr>\n",
       "    <tr>\n",
       "      <th>1</th>\n",
       "      <td>create user name identified by pass123 tempora...</td>\n",
       "      <td>1</td>\n",
       "    </tr>\n",
       "    <tr>\n",
       "      <th>2</th>\n",
       "      <td>AND 1  =  utl_inaddr.get_host_address   (    ...</td>\n",
       "      <td>1</td>\n",
       "    </tr>\n",
       "    <tr>\n",
       "      <th>3</th>\n",
       "      <td>select * from users where id  =  '1' or @ @1 ...</td>\n",
       "      <td>1</td>\n",
       "    </tr>\n",
       "    <tr>\n",
       "      <th>4</th>\n",
       "      <td>select * from users where id  =  1 or 1#\"  ( ...</td>\n",
       "      <td>1</td>\n",
       "    </tr>\n",
       "    <tr>\n",
       "      <th>...</th>\n",
       "      <td>...</td>\n",
       "      <td>...</td>\n",
       "    </tr>\n",
       "    <tr>\n",
       "      <th>30914</th>\n",
       "      <td>DELETE FROM door WHERE grow = 'small'</td>\n",
       "      <td>0</td>\n",
       "    </tr>\n",
       "    <tr>\n",
       "      <th>30915</th>\n",
       "      <td>DELETE FROM tomorrow</td>\n",
       "      <td>0</td>\n",
       "    </tr>\n",
       "    <tr>\n",
       "      <th>30916</th>\n",
       "      <td>SELECT wide ( s )  FROM west</td>\n",
       "      <td>0</td>\n",
       "    </tr>\n",
       "    <tr>\n",
       "      <th>30917</th>\n",
       "      <td>SELECT * FROM  ( SELECT slide FROM breath )</td>\n",
       "      <td>0</td>\n",
       "    </tr>\n",
       "    <tr>\n",
       "      <th>30918</th>\n",
       "      <td>SELECT TOP 3 * FROM race</td>\n",
       "      <td>0</td>\n",
       "    </tr>\n",
       "  </tbody>\n",
       "</table>\n",
       "<p>30919 rows × 2 columns</p>\n",
       "</div>"
      ],
      "text/plain": [
       "                                                   Query  Label\n",
       "0                      \" or pg_sleep  (  __TIME__  )  --      1\n",
       "1      create user name identified by pass123 tempora...      1\n",
       "2       AND 1  =  utl_inaddr.get_host_address   (    ...      1\n",
       "3       select * from users where id  =  '1' or @ @1 ...      1\n",
       "4       select * from users where id  =  1 or 1#\"  ( ...      1\n",
       "...                                                  ...    ...\n",
       "30914              DELETE FROM door WHERE grow = 'small'      0\n",
       "30915                               DELETE FROM tomorrow      0\n",
       "30916                       SELECT wide ( s )  FROM west      0\n",
       "30917       SELECT * FROM  ( SELECT slide FROM breath )       0\n",
       "30918                           SELECT TOP 3 * FROM race      0\n",
       "\n",
       "[30919 rows x 2 columns]"
      ]
     },
     "execution_count": 3,
     "metadata": {},
     "output_type": "execute_result"
    }
   ],
   "source": [
    "df"
   ]
  },
  {
   "cell_type": "code",
   "execution_count": 4,
   "id": "970c52ae",
   "metadata": {},
   "outputs": [],
   "source": [
    "compte_classes = df['Label']"
   ]
  },
  {
   "cell_type": "code",
   "execution_count": 5,
   "id": "6dda4e57",
   "metadata": {},
   "outputs": [
    {
     "data": {
      "text/plain": [
       "(array([19537.,     0.,     0.,     0.,     0.,     0.,     0.,     0.,\n",
       "            0., 11382.]),\n",
       " array([0. , 0.1, 0.2, 0.3, 0.4, 0.5, 0.6, 0.7, 0.8, 0.9, 1. ]),\n",
       " <BarContainer object of 10 artists>)"
      ]
     },
     "execution_count": 5,
     "metadata": {},
     "output_type": "execute_result"
    },
    {
     "data": {
      "image/png": "[encoded data removed]",
      "text/plain": [
       "<Figure size 432x288 with 1 Axes>"
      ]
     },
     "metadata": {
      "needs_background": "light"
     },
     "output_type": "display_data"
    }
   ],
   "source": [
    "plt.hist(compte_classes)"
   ]
  },
  {
   "cell_type": "markdown",
   "id": "edf10d15",
   "metadata": {},
   "source": [
    "# Partie 1 : **Approche fréquentiste** "
   ]
  },
  {
   "cell_type": "markdown",
   "id": "100317de",
   "metadata": {},
   "source": [
    "On va aborder dans cette partie rapide l'approche fréquentiste avec CountVectorizer et TdIDF avec des modèles de classifications \"basiques\""
   ]
  },
  {
   "cell_type": "code",
   "execution_count": 15,
   "id": "0873ff3f",
   "metadata": {},
   "outputs": [],
   "source": [
    "import numpy as np\n",
    "from sklearn.feature_extraction.text import CountVectorizer\n",
    "from sklearn.feature_extraction.text import TfidfVectorizer\n",
    "from sklearn.model_selection import train_test_split\n",
    "from nltk.corpus import stopwords\n",
    "from sklearn.metrics import accuracy_score, f1_score\n",
    "from sklearn.linear_model import LogisticRegression\n",
    "from sklearn.ensemble import RandomForestClassifier\n",
    "from sklearn.svm import SVC\n",
    "from sklearn.naive_bayes import GaussianNB\n",
    "from sklearn.metrics import confusion_matrix\n",
    "import warnings\n",
    "from nltk.corpus import stopwords\n",
    "import seaborn as sns\n",
    "\n",
    "warnings.filterwarnings('ignore')"
   ]
  },
  {
   "cell_type": "code",
   "execution_count": 7,
   "id": "d27bc39a",
   "metadata": {},
   "outputs": [],
   "source": [
    "X = df['Query']\n",
    "y = df['Label']"
   ]
  },
  {
   "cell_type": "code",
   "execution_count": 8,
   "id": "e72e5419",
   "metadata": {},
   "outputs": [],
   "source": [
    "vectorizer = CountVectorizer(min_df = 2, max_df = 0.8, stop_words = stopwords.words('english'))\n",
    "tfidf = TfidfVectorizer(min_df = 2, max_df = 0.8, stop_words = stopwords.words('english'))"
   ]
  },
  {
   "cell_type": "code",
   "execution_count": 9,
   "id": "7c8bacb3",
   "metadata": {},
   "outputs": [],
   "source": [
    "X1 = vectorizer.fit_transform(X.values.astype('U')).toarray()\n",
    "\n",
    "X2 = tfidf.fit_transform(X.values.astype('U')).toarray()"
   ]
  },
  {
   "cell_type": "code",
   "execution_count": 10,
   "id": "a2e36192",
   "metadata": {},
   "outputs": [
    {
     "name": "stdout",
     "output_type": "stream",
     "text": [
      "(24735, 6594)\n",
      "(24735,)\n",
      "(6184, 6594)\n",
      "(6184,)\n"
     ]
    }
   ],
   "source": [
    "X1_train, X1_test, y1_train, y1_test = train_test_split(X1, y, test_size = 0.2, random_state=1)\n",
    "\n",
    "print(X1_train.shape)\n",
    "print(y1_train.shape)\n",
    "print(X1_test.shape)\n",
    "print(y1_test.shape)"
   ]
  },
  {
   "cell_type": "code",
   "execution_count": 11,
   "id": "65d5f19a",
   "metadata": {},
   "outputs": [
    {
     "name": "stdout",
     "output_type": "stream",
     "text": [
      "(24735, 6594)\n",
      "(24735,)\n",
      "(6184, 6594)\n",
      "(6184,)\n"
     ]
    }
   ],
   "source": [
    "X2_train, X2_test, y2_train, y2_test = train_test_split(X2, y, test_size = 0.2, random_state=1)\n",
    "\n",
    "print(X2_train.shape)\n",
    "print(y2_train.shape)\n",
    "print(X2_test.shape)\n",
    "print(y2_test.shape)"
   ]
  },
  {
   "cell_type": "code",
   "execution_count": 34,
   "id": "43e34fba",
   "metadata": {},
   "outputs": [
    {
     "name": "stdout",
     "output_type": "stream",
     "text": [
      "CPU times: user 1.61 s, sys: 516 ms, total: 2.12 s\n",
      "Wall time: 2.12 s\n",
      "Modèle Gaussian NB avec CountVectorizer\n",
      "Accuracy of Naive Bayes on test set : 0.8203428201811126\n",
      "F1 Score of Naive Bayes on test set : 0.8053267916593656\n",
      "sensitivity= 0.9862660944206009\n",
      "specificity= 0.7200311364815776\n",
      "Precision= 0.6804856381403612\n",
      "===============================================================\n",
      "CPU times: user 1.29 s, sys: 421 ms, total: 1.71 s\n",
      "Wall time: 1.71 s\n",
      "Modèle Gaussian NB avec Tfidf\n",
      "Accuracy of Naive Bayes on test set : 0.818078913324709\n",
      "F1 Score of Naive Bayes on test set : 0.8022499560555457\n",
      "sensitivity= 0.9793991416309012\n",
      "specificity= 0.720550077841204\n",
      "Precision= 0.6793688597796963\n",
      "====================================================================================================\n"
     ]
    },
    {
     "data": {
      "image/png": "[encoded data removed]",
      "text/plain": [
       "<Figure size 864x432 with 2 Axes>"
      ]
     },
     "metadata": {
      "needs_background": "light"
     },
     "output_type": "display_data"
    }
   ],
   "source": [
    "nb_clf = GaussianNB()\n",
    "%time nb_clf.fit(X1_train, y1_train)\n",
    "y_pred = nb_clf.predict(X1_test)\n",
    "\n",
    "print(\"Modèle Gaussian NB avec CountVectorizer\")\n",
    "\n",
    "print(f\"Accuracy of Naive Bayes on test set : {accuracy_score(y_pred, y1_test)}\")\n",
    "print(f\"F1 Score of Naive Bayes on test set : {f1_score(y_pred, y1_test)}\")\n",
    "\n",
    "confusion1 = confusion_matrix(y1_test, y_pred)\n",
    "\n",
    "TP = confusion1[1, 1]\n",
    "TN = confusion1[0, 0]\n",
    "FP = confusion1[0, 1]\n",
    "FN = confusion1[1, 0]\n",
    "\n",
    "sensitivity = TP / float(FN + TP)\n",
    "print(\"sensitivity=\",sensitivity)\n",
    "\n",
    "specificity = TN / (TN + FP)\n",
    "print(\"specificity=\",specificity)\n",
    "\n",
    "Precision = TP / float(TP + FP)\n",
    "#Recall = TP / float(TP + FN)\n",
    "#F1 = 2*((Precision*Recall)/(Precision+Recall))\n",
    "print (\"Precision=\",Precision)\n",
    "\n",
    "\n",
    "\n",
    "print('===============================================================')\n",
    "\n",
    "\n",
    "nb_clf = GaussianNB()\n",
    "%time nb_clf.fit(X2_train, y2_train)\n",
    "y_pred = nb_clf.predict(X2_test)\n",
    "\n",
    "print(\"Modèle Gaussian NB avec Tfidf\")\n",
    "\n",
    "print(f\"Accuracy of Naive Bayes on test set : {accuracy_score(y_pred, y2_test)}\")\n",
    "print(f\"F1 Score of Naive Bayes on test set : {f1_score(y_pred, y2_test)}\")\n",
    "\n",
    "confusion2 = confusion_matrix(y2_test, y_pred)\n",
    "\n",
    "TP = confusion2[1, 1]\n",
    "TN = confusion2[0, 0]\n",
    "FP = confusion2[0, 1]\n",
    "FN = confusion2[1, 0]\n",
    "\n",
    "sensitivity = TP / float(FN + TP)\n",
    "print(\"sensitivity=\",sensitivity)\n",
    "\n",
    "specificity = TN / (TN + FP)\n",
    "print(\"specificity=\",specificity)\n",
    "\n",
    "Precision = TP / float(TP + FP)\n",
    "#Recall = TP / float(TP + FN)\n",
    "#F1 = 2*((Precision*Recall)/(Precision+Recall))\n",
    "print (\"Precision=\",Precision)\n",
    "\n",
    "print('=='*50)\n",
    "\n",
    "# Créer une figure avec 2 sous-graphes côte à côte (1 ligne, 2 colonnes)\n",
    "fig, (ax1, ax2) = plt.subplots(1, 2, figsize=(12, 6))  # 12x6 est la taille de la figure\n",
    "\n",
    "# Dessiner la première heatmap dans le premier subplot (ax1)\n",
    "sns.heatmap(pd.DataFrame(confusion1,  \\\n",
    "                         columns=['False_predict', 'True_predict'], \\\n",
    "                         index=['False_truth', 'True_truth']),ax=ax1, annot=True, linewidth=.5, cbar=False)\n",
    "\n",
    "# Dessiner la deuxième heatmap dans le second subplot (ax2)\n",
    "sns.heatmap(pd.DataFrame(confusion2, \\\n",
    "                         columns=['False_predict', 'True_predict'], \\\n",
    "                         index=['False_truth', 'True_truth']), ax=ax2,annot=True, linewidth=.5, cbar=False)\n",
    "\n",
    "# Ajouter un titre pour chaque heatmap\n",
    "ax1.set_title(\"Countvectorizer\")\n",
    "ax2.set_title(\"TfIdf\")\n",
    "\n",
    "# Afficher la figure\n",
    "plt.tight_layout()  # Ajuster la disposition pour éviter les chevauchements\n",
    "plt.show()"
   ]
  },
  {
   "cell_type": "code",
   "execution_count": 36,
   "id": "a5efba0f",
   "metadata": {},
   "outputs": [
    {
     "name": "stdout",
     "output_type": "stream",
     "text": [
      "CPU times: user 1min 29s, sys: 22.8 s, total: 1min 52s\n",
      "Wall time: 18.3 s\n",
      "Modèle Regression Logistique avec CountVectorizer\n",
      "Accuracy of Naive Bayes on test set : 0.9401681759379042\n",
      "F1 Score of Naive Bayes on test set : 0.9152542372881355\n",
      "sensitivity= 0.8575107296137339\n",
      "specificity= 0.9901401141670991\n",
      "Precision= 0.981335952848723\n",
      "===============================================================\n",
      "CPU times: user 1min 37s, sys: 21.2 s, total: 1min 58s\n",
      "Wall time: 19.3 s\n",
      "Modèle Regression Logistique avec Tfidf\n",
      "Accuracy of Naive Bayes on test set : 0.9196313065976714\n",
      "F1 Score of Naive Bayes on test set : 0.8813559322033899\n",
      "sensitivity= 0.792274678111588\n",
      "specificity= 0.9966268811624286\n",
      "Precision= 0.993006993006993\n",
      "====================================================================================================\n"
     ]
    },
    {
     "data": {
      "image/png": "[encoded data removed]",
      "text/plain": [
       "<Figure size 864x432 with 2 Axes>"
      ]
     },
     "metadata": {
      "needs_background": "light"
     },
     "output_type": "display_data"
    }
   ],
   "source": [
    "nb_clf = LogisticRegression()\n",
    "%time nb_clf.fit(X1_train, y1_train)\n",
    "y_pred = nb_clf.predict(X1_test)\n",
    "\n",
    "print(\"Modèle Regression Logistique avec CountVectorizer\")\n",
    "\n",
    "print(f\"Accuracy of Naive Bayes on test set : {accuracy_score(y_pred, y1_test)}\")\n",
    "print(f\"F1 Score of Naive Bayes on test set : {f1_score(y_pred, y1_test)}\")\n",
    "\n",
    "confusion1 = confusion_matrix(y1_test, y_pred)\n",
    "\n",
    "TP = confusion1[1, 1]\n",
    "TN = confusion1[0, 0]\n",
    "FP = confusion1[0, 1]\n",
    "FN = confusion1[1, 0]\n",
    "\n",
    "sensitivity = TP / float(FN + TP)\n",
    "print(\"sensitivity=\",sensitivity)\n",
    "\n",
    "specificity = TN / (TN + FP)\n",
    "print(\"specificity=\",specificity)\n",
    "\n",
    "Precision = TP / float(TP + FP)\n",
    "#Recall = TP / float(TP + FN)\n",
    "#F1 = 2*((Precision*Recall)/(Precision+Recall))\n",
    "print (\"Precision=\",Precision)\n",
    "\n",
    "\n",
    "\n",
    "print('===============================================================')\n",
    "\n",
    "\n",
    "nb_clf = LogisticRegression()\n",
    "%time nb_clf.fit(X2_train, y2_train)\n",
    "y_pred = nb_clf.predict(X2_test)\n",
    "\n",
    "print(\"Modèle Regression Logistique avec Tfidf\")\n",
    "\n",
    "print(f\"Accuracy of Naive Bayes on test set : {accuracy_score(y_pred, y2_test)}\")\n",
    "print(f\"F1 Score of Naive Bayes on test set : {f1_score(y_pred, y2_test)}\")\n",
    "\n",
    "confusion2 = confusion_matrix(y2_test, y_pred)\n",
    "\n",
    "TP = confusion2[1, 1]\n",
    "TN = confusion2[0, 0]\n",
    "FP = confusion2[0, 1]\n",
    "FN = confusion2[1, 0]\n",
    "\n",
    "sensitivity = TP / float(FN + TP)\n",
    "print(\"sensitivity=\",sensitivity)\n",
    "\n",
    "specificity = TN / (TN + FP)\n",
    "print(\"specificity=\",specificity)\n",
    "\n",
    "Precision = TP / float(TP + FP)\n",
    "#Recall = TP / float(TP + FN)\n",
    "#F1 = 2*((Precision*Recall)/(Precision+Recall))\n",
    "print (\"Precision=\",Precision)\n",
    "\n",
    "print('=='*50)\n",
    "\n",
    "# Créer une figure avec 2 sous-graphes côte à côte (1 ligne, 2 colonnes)\n",
    "fig, (ax1, ax2) = plt.subplots(1, 2, figsize=(12, 6))  # 12x6 est la taille de la figure\n",
    "\n",
    "# Dessiner la première heatmap dans le premier subplot (ax1)\n",
    "sns.heatmap(pd.DataFrame(confusion1,  \\\n",
    "                         columns=['False_predict', 'True_predict'], \\\n",
    "                         index=['False_truth', 'True_truth']),ax=ax1, annot=True, linewidth=.5, cbar=False)\n",
    "\n",
    "# Dessiner la deuxième heatmap dans le second subplot (ax2)\n",
    "sns.heatmap(pd.DataFrame(confusion2, \\\n",
    "                         columns=['False_predict', 'True_predict'], \\\n",
    "                         index=['False_truth', 'True_truth']), ax=ax2,annot=True, linewidth=.5, cbar=False)\n",
    "\n",
    "# Ajouter un titre pour chaque heatmap\n",
    "ax1.set_title(\"Countvectorizer\")\n",
    "ax2.set_title(\"TfIdf\")\n",
    "\n",
    "# Afficher la figure\n",
    "plt.tight_layout()  # Ajuster la disposition pour éviter les chevauchements\n",
    "plt.show()"
   ]
  },
  {
   "cell_type": "markdown",
   "id": "3aac448c",
   "metadata": {},
   "source": [
    "# Approche par réseaux de neurones : RNN, LSTM, Transformers "
   ]
  },
  {
   "cell_type": "markdown",
   "id": "9a102f67",
   "metadata": {},
   "source": [
    "Dans ce notebook, nous ferons une première exploration dans l'**approche connexionniste**."
   ]
  },
  {
   "cell_type": "markdown",
   "id": "2e1888fe",
   "metadata": {},
   "source": [
    "# Comment traiter du texte ? \n",
    "\n",
    "Un des premiers problèmes en NLP est la représentation du texte pour le rendre \"compréhensible\" par l'ordinateur.\n",
    "\n",
    "Pour cela, on **vectorise** le texte, autrement dit on transforme le texte sous forme de tenseur.\n",
    "Il existe plusieurs approches possibles : \n",
    "+ segmenter le texte en mots et chaque mot est représenté par un vecteur, \n",
    "+ segmenter le texte en caractères et chaque caractère est représenté par un vecteur, \n",
    "+ extraire des n-grammes qui sont des groupes de mots ou caractères qui se chevauchent.\n",
    "\n",
    "*Exemple de n-grammes* : \n",
    "Prenons la phrase \"Le chien joue et aboie\"\n",
    "2-grammes : {\"Le\", \"Le chien\", \"chien joue\", \"joue\", \"joue et\", \"et\", \"et aboie\", \"aboie\"}\n",
    "On parle de **sac de mots** (**bag of words**).\n",
    "    Si l'ordre ne compte pas, on peut s'intéresser à des notions de fréquences de n-grammes, c'est une approche *statistique*. Par exemple, les méthodes td-idf en font partie (https://scikit-learn.org/stable/modules/generated/sklearn.feature_extraction.text.TfidfVectorizer.html) Par exemple chercher les bi-grams donc les associations de 2 mots les plus fréquents."
   ]
  },
  {
   "cell_type": "markdown",
   "id": "2671c115",
   "metadata": {},
   "source": [
    "On va ensuite transformer chaque unité en un token (jeton), c'est la **tokenisation** et décomposer notre texte (c'est l'*analyse lexicale* !).\n",
    "\n",
    "On peut ensuite choisir entre deux méthodes : \n",
    "+ l'**encodage** des tokens en one-hot encoding => problème de sparsité !\n",
    "+ le **plongement** de tokens (**word embedding**).\n",
    "\n",
    "Remarque : on n'a pas encore parlé d'une autre étape de prétraitement : stemming, lemmatization, choix des stopwords (les mots communs qui n'apportent que peu d'informations au texte), retrait des majuscules etc. ça vient !"
   ]
  },
  {
   "cell_type": "code",
   "execution_count": 37,
   "id": "2ee7b0d6",
   "metadata": {},
   "outputs": [
    {
     "name": "stderr",
     "output_type": "stream",
     "text": [
      "2024-10-02 14:41:47.728837: I tensorflow/core/util/port.cc:153] oneDNN custom operations are on. You may see slightly different numerical results due to floating-point round-off errors from different computation orders. To turn them off, set the environment variable `TF_ENABLE_ONEDNN_OPTS=0`.\n",
      "2024-10-02 14:41:47.735751: I external/local_xla/xla/tsl/cuda/cudart_stub.cc:32] Could not find cuda drivers on your machine, GPU will not be used.\n",
      "2024-10-02 14:41:47.813019: I external/local_xla/xla/tsl/cuda/cudart_stub.cc:32] Could not find cuda drivers on your machine, GPU will not be used.\n",
      "2024-10-02 14:41:47.881484: E external/local_xla/xla/stream_executor/cuda/cuda_fft.cc:485] Unable to register cuFFT factory: Attempting to register factory for plugin cuFFT when one has already been registered\n",
      "2024-10-02 14:41:47.956827: E external/local_xla/xla/stream_executor/cuda/cuda_dnn.cc:8454] Unable to register cuDNN factory: Attempting to register factory for plugin cuDNN when one has already been registered\n",
      "2024-10-02 14:41:47.983173: E external/local_xla/xla/stream_executor/cuda/cuda_blas.cc:1452] Unable to register cuBLAS factory: Attempting to register factory for plugin cuBLAS when one has already been registered\n",
      "2024-10-02 14:41:48.096408: I tensorflow/core/platform/cpu_feature_guard.cc:210] This TensorFlow binary is optimized to use available CPU instructions in performance-critical operations.\n",
      "To enable the following instructions: AVX2 AVX512F AVX512_VNNI FMA, in other operations, rebuild TensorFlow with the appropriate compiler flags.\n",
      "2024-10-02 14:41:49.271100: W tensorflow/compiler/tf2tensorrt/utils/py_utils.cc:38] TF-TRT Warning: Could not find TensorRT\n"
     ]
    }
   ],
   "source": [
    "import tensorflow as tf \n",
    "\n",
    "gpus = tf.config.list_physical_devices('GPU')\n",
    "\n",
    "if gpus:\n",
    "    try:\n",
    "        #Currenlty memory growth needs to be the same across GPUs\n",
    "        for gpu in gpus :\n",
    "            tf.config.experimental.set_memory_growth(gpu, True)\n",
    "        logical_gpus = tf.config.experimental.list_logical_devices('GPU')\n",
    "        print(len(gpus), \"Physical devices\", len(logical_gpus), \"Logical GPUs\")\n",
    "    except RuntimeError as e:\n",
    "        # Memory growth must be set before GPUs have been initialized\n",
    "        print(e)"
   ]
  },
  {
   "cell_type": "markdown",
   "id": "8f26868e",
   "metadata": {},
   "source": [
    "# Chargeons à nouveau notre jeu de données contenant les requêtes SQm"
   ]
  },
  {
   "cell_type": "code",
   "execution_count": 38,
   "id": "a1d1205d",
   "metadata": {},
   "outputs": [],
   "source": [
    "from tensorflow import keras\n",
    "import pandas as pd, numpy as np"
   ]
  },
  {
   "cell_type": "code",
   "execution_count": 39,
   "id": "7be81e87",
   "metadata": {},
   "outputs": [],
   "source": [
    "df = pd.read_csv('Modified_SQL_Dataset.csv')"
   ]
  },
  {
   "cell_type": "code",
   "execution_count": 40,
   "id": "5a40441f",
   "metadata": {},
   "outputs": [
    {
     "data": {
      "text/html": [
       "<div>\n",
       "<style scoped>\n",
       "    .dataframe tbody tr th:only-of-type {\n",
       "        vertical-align: middle;\n",
       "    }\n",
       "\n",
       "    .dataframe tbody tr th {\n",
       "        vertical-align: top;\n",
       "    }\n",
       "\n",
       "    .dataframe thead th {\n",
       "        text-align: right;\n",
       "    }\n",
       "</style>\n",
       "<table border=\"1\" class=\"dataframe\">\n",
       "  <thead>\n",
       "    <tr style=\"text-align: right;\">\n",
       "      <th></th>\n",
       "      <th>Query</th>\n",
       "      <th>Label</th>\n",
       "    </tr>\n",
       "  </thead>\n",
       "  <tbody>\n",
       "    <tr>\n",
       "      <th>0</th>\n",
       "      <td>\" or pg_sleep  (  __TIME__  )  --</td>\n",
       "      <td>1</td>\n",
       "    </tr>\n",
       "    <tr>\n",
       "      <th>1</th>\n",
       "      <td>create user name identified by pass123 tempora...</td>\n",
       "      <td>1</td>\n",
       "    </tr>\n",
       "    <tr>\n",
       "      <th>2</th>\n",
       "      <td>AND 1  =  utl_inaddr.get_host_address   (    ...</td>\n",
       "      <td>1</td>\n",
       "    </tr>\n",
       "    <tr>\n",
       "      <th>3</th>\n",
       "      <td>select * from users where id  =  '1' or @ @1 ...</td>\n",
       "      <td>1</td>\n",
       "    </tr>\n",
       "    <tr>\n",
       "      <th>4</th>\n",
       "      <td>select * from users where id  =  1 or 1#\"  ( ...</td>\n",
       "      <td>1</td>\n",
       "    </tr>\n",
       "  </tbody>\n",
       "</table>\n",
       "</div>"
      ],
      "text/plain": [
       "                                               Query  Label\n",
       "0                  \" or pg_sleep  (  __TIME__  )  --      1\n",
       "1  create user name identified by pass123 tempora...      1\n",
       "2   AND 1  =  utl_inaddr.get_host_address   (    ...      1\n",
       "3   select * from users where id  =  '1' or @ @1 ...      1\n",
       "4   select * from users where id  =  1 or 1#\"  ( ...      1"
      ]
     },
     "execution_count": 40,
     "metadata": {},
     "output_type": "execute_result"
    }
   ],
   "source": [
    "df.head()"
   ]
  },
  {
   "cell_type": "markdown",
   "id": "2ce5e880",
   "metadata": {},
   "source": [
    "# Prétraitement \n",
    "On va explorer la première étape : le nettoyage du texte ! \n"
   ]
  },
  {
   "cell_type": "code",
   "execution_count": 41,
   "id": "24a25bd4",
   "metadata": {},
   "outputs": [
    {
     "name": "stderr",
     "output_type": "stream",
     "text": [
      "[nltk_data] Downloading package stopwords to /home/cytech/nltk_data...\n",
      "[nltk_data]   Package stopwords is already up-to-date!\n",
      "[nltk_data] Downloading package wordnet to /home/cytech/nltk_data...\n",
      "[nltk_data]   Package wordnet is already up-to-date!\n"
     ]
    }
   ],
   "source": [
    "import string, re\n",
    "import nltk\n",
    "nltk.download('stopwords')\n",
    "nltk.download('wordnet')\n",
    "from nltk.tokenize import word_tokenize\n",
    "from nltk.corpus import stopwords\n",
    "\n",
    "from tqdm import tqdm\n",
    "import os\n",
    "stop_words =set(stopwords.words('english'))"
   ]
  },
  {
   "cell_type": "code",
   "execution_count": 42,
   "id": "b36dbac0",
   "metadata": {},
   "outputs": [],
   "source": [
    "# suppresion de la ponctuation, passage en minuscule, stemming, lemmatisation, stopwords\n",
    "\n",
    "def clean_tweet(text, flg_stemm=False, flg_lemm=True, lst_stopwords=None):\n",
    "    \"\"\"\n",
    "    Cette fonction va nettoyer le texte : \n",
    "    + mettre en minuscule, \n",
    "    + supprimer un certain nombre d'expression,\n",
    "    + choix lemmatisation / stemming,\n",
    "    + choix d'une liste de stopwords\n",
    "    \"\"\"\n",
    "    \n",
    "    text = text.lower()\n",
    "    text = text.replace('\\n', ' ').replace('\\r', '')\n",
    "    text = ' '.join(text.split())\n",
    "    text = re.sub(r\"[A-Za-z\\.]*[0-9]+[A-Za-z%°\\.]*\", \"\", text)\n",
    "    text = re.sub(r\"(\\s\\-\\s|-$)\", \"\", text)\n",
    "    text = re.sub(r\"[,\\!\\?\\%\\(\\)\\/\\\"]\", \"\", text)\n",
    "    text = re.sub(r\"\\&\\S*\\s\", \"\", text)\n",
    "    text = re.sub(r\"\\&\", \"\", text)\n",
    "    text = re.sub(r\"\\+\", \"\", text)\n",
    "    text = re.sub(r\"\\#\", \"\", text)\n",
    "    text = re.sub(r\"\\$\", \"\", text)\n",
    "    text = re.sub(r\"\\£\", \"\", text)\n",
    "    text = re.sub(r\"\\%\", \"\", text)\n",
    "    text = re.sub(r\"\\:\", \"\", text)\n",
    "    text = re.sub(r\"\\@\", \"\", text)\n",
    "    text = re.sub(r\"\\-\", \"\", text)\n",
    "    \n",
    "    ## transforme en tokens\n",
    "    lst_text = text.split()\n",
    "    ## remove Stopwords\n",
    "    if lst_stopwords is not None:\n",
    "        lst_text = [word for word in lst_text if word not in \n",
    "                    \n",
    "                    lst_stopwords]\n",
    "                \n",
    "    ## Stemming (supprime -ing, -ly, ...)\n",
    "    if flg_stemm == True:\n",
    "        ps = nltk.stem.porter.PorterStemmer()\n",
    "        lst_text = [ps.stem(word) for word in lst_text]\n",
    "                \n",
    "    ## Lemmatisation (retourne la racine du mot)\n",
    "    if flg_lemm == True:\n",
    "        lem = nltk.stem.wordnet.WordNetLemmatizer()\n",
    "        lst_text = [lem.lemmatize(word) for word in lst_text]\n",
    "            \n",
    "    ## liste => string\n",
    "    text = \" \".join(lst_text)\n",
    "    return text\n"
   ]
  },
  {
   "cell_type": "code",
   "execution_count": 44,
   "id": "b5c29ec9",
   "metadata": {},
   "outputs": [
    {
     "name": "stderr",
     "output_type": "stream",
     "text": [
      "[nltk_data] Downloading package omw-1.4 to /home/cytech/nltk_data...\n"
     ]
    },
    {
     "data": {
      "text/plain": [
       "True"
      ]
     },
     "execution_count": 44,
     "metadata": {},
     "output_type": "execute_result"
    }
   ],
   "source": [
    "import nltk\n",
    "nltk.download('omw-1.4')"
   ]
  },
  {
   "cell_type": "code",
   "execution_count": 45,
   "id": "bf053210",
   "metadata": {},
   "outputs": [],
   "source": [
    "df['clean'] = df['Query'].apply(lambda row : clean_tweet(row, flg_stemm=False, \n",
    "                                                      flg_lemm=True, lst_stopwords=stop_words))"
   ]
  },
  {
   "cell_type": "code",
   "execution_count": 46,
   "id": "0949465c",
   "metadata": {},
   "outputs": [
    {
     "data": {
      "text/html": [
       "<div>\n",
       "<style scoped>\n",
       "    .dataframe tbody tr th:only-of-type {\n",
       "        vertical-align: middle;\n",
       "    }\n",
       "\n",
       "    .dataframe tbody tr th {\n",
       "        vertical-align: top;\n",
       "    }\n",
       "\n",
       "    .dataframe thead th {\n",
       "        text-align: right;\n",
       "    }\n",
       "</style>\n",
       "<table border=\"1\" class=\"dataframe\">\n",
       "  <thead>\n",
       "    <tr style=\"text-align: right;\">\n",
       "      <th></th>\n",
       "      <th>Query</th>\n",
       "      <th>Label</th>\n",
       "      <th>clean</th>\n",
       "    </tr>\n",
       "  </thead>\n",
       "  <tbody>\n",
       "    <tr>\n",
       "      <th>0</th>\n",
       "      <td>\" or pg_sleep  (  __TIME__  )  --</td>\n",
       "      <td>1</td>\n",
       "      <td>pg_sleep __time__</td>\n",
       "    </tr>\n",
       "    <tr>\n",
       "      <th>1</th>\n",
       "      <td>create user name identified by pass123 tempora...</td>\n",
       "      <td>1</td>\n",
       "      <td>create user name identified temporary tablespa...</td>\n",
       "    </tr>\n",
       "    <tr>\n",
       "      <th>2</th>\n",
       "      <td>AND 1  =  utl_inaddr.get_host_address   (    ...</td>\n",
       "      <td>1</td>\n",
       "      <td>= utl_inaddr.get_host_address select distinct ...</td>\n",
       "    </tr>\n",
       "    <tr>\n",
       "      <th>3</th>\n",
       "      <td>select * from users where id  =  '1' or @ @1 ...</td>\n",
       "      <td>1</td>\n",
       "      <td>select * user id = '' = union select version '</td>\n",
       "    </tr>\n",
       "    <tr>\n",
       "      <th>4</th>\n",
       "      <td>select * from users where id  =  1 or 1#\"  ( ...</td>\n",
       "      <td>1</td>\n",
       "      <td>select * user id = union select version</td>\n",
       "    </tr>\n",
       "    <tr>\n",
       "      <th>...</th>\n",
       "      <td>...</td>\n",
       "      <td>...</td>\n",
       "      <td>...</td>\n",
       "    </tr>\n",
       "    <tr>\n",
       "      <th>30914</th>\n",
       "      <td>DELETE FROM door WHERE grow = 'small'</td>\n",
       "      <td>0</td>\n",
       "      <td>delete door grow = 'small'</td>\n",
       "    </tr>\n",
       "    <tr>\n",
       "      <th>30915</th>\n",
       "      <td>DELETE FROM tomorrow</td>\n",
       "      <td>0</td>\n",
       "      <td>delete tomorrow</td>\n",
       "    </tr>\n",
       "    <tr>\n",
       "      <th>30916</th>\n",
       "      <td>SELECT wide ( s )  FROM west</td>\n",
       "      <td>0</td>\n",
       "      <td>select wide west</td>\n",
       "    </tr>\n",
       "    <tr>\n",
       "      <th>30917</th>\n",
       "      <td>SELECT * FROM  ( SELECT slide FROM breath )</td>\n",
       "      <td>0</td>\n",
       "      <td>select * select slide breath</td>\n",
       "    </tr>\n",
       "    <tr>\n",
       "      <th>30918</th>\n",
       "      <td>SELECT TOP 3 * FROM race</td>\n",
       "      <td>0</td>\n",
       "      <td>select top * race</td>\n",
       "    </tr>\n",
       "  </tbody>\n",
       "</table>\n",
       "<p>30919 rows × 3 columns</p>\n",
       "</div>"
      ],
      "text/plain": [
       "                                                   Query  Label  \\\n",
       "0                      \" or pg_sleep  (  __TIME__  )  --      1   \n",
       "1      create user name identified by pass123 tempora...      1   \n",
       "2       AND 1  =  utl_inaddr.get_host_address   (    ...      1   \n",
       "3       select * from users where id  =  '1' or @ @1 ...      1   \n",
       "4       select * from users where id  =  1 or 1#\"  ( ...      1   \n",
       "...                                                  ...    ...   \n",
       "30914              DELETE FROM door WHERE grow = 'small'      0   \n",
       "30915                               DELETE FROM tomorrow      0   \n",
       "30916                       SELECT wide ( s )  FROM west      0   \n",
       "30917       SELECT * FROM  ( SELECT slide FROM breath )       0   \n",
       "30918                           SELECT TOP 3 * FROM race      0   \n",
       "\n",
       "                                                   clean  \n",
       "0                                      pg_sleep __time__  \n",
       "1      create user name identified temporary tablespa...  \n",
       "2      = utl_inaddr.get_host_address select distinct ...  \n",
       "3         select * user id = '' = union select version '  \n",
       "4                select * user id = union select version  \n",
       "...                                                  ...  \n",
       "30914                         delete door grow = 'small'  \n",
       "30915                                    delete tomorrow  \n",
       "30916                                   select wide west  \n",
       "30917                       select * select slide breath  \n",
       "30918                                  select top * race  \n",
       "\n",
       "[30919 rows x 3 columns]"
      ]
     },
     "execution_count": 46,
     "metadata": {},
     "output_type": "execute_result"
    }
   ],
   "source": [
    "df"
   ]
  },
  {
   "cell_type": "code",
   "execution_count": 10,
   "id": "8852e0d1",
   "metadata": {},
   "outputs": [
    {
     "data": {
      "text/plain": [
       "{'a',\n",
       " 'about',\n",
       " 'above',\n",
       " 'after',\n",
       " 'again',\n",
       " 'against',\n",
       " 'ain',\n",
       " 'all',\n",
       " 'am',\n",
       " 'an',\n",
       " 'and',\n",
       " 'any',\n",
       " 'are',\n",
       " 'aren',\n",
       " \"aren't\",\n",
       " 'as',\n",
       " 'at',\n",
       " 'be',\n",
       " 'because',\n",
       " 'been',\n",
       " 'before',\n",
       " 'being',\n",
       " 'below',\n",
       " 'between',\n",
       " 'both',\n",
       " 'but',\n",
       " 'by',\n",
       " 'can',\n",
       " 'couldn',\n",
       " \"couldn't\",\n",
       " 'd',\n",
       " 'did',\n",
       " 'didn',\n",
       " \"didn't\",\n",
       " 'do',\n",
       " 'does',\n",
       " 'doesn',\n",
       " \"doesn't\",\n",
       " 'doing',\n",
       " 'don',\n",
       " \"don't\",\n",
       " 'down',\n",
       " 'during',\n",
       " 'each',\n",
       " 'few',\n",
       " 'for',\n",
       " 'from',\n",
       " 'further',\n",
       " 'had',\n",
       " 'hadn',\n",
       " \"hadn't\",\n",
       " 'has',\n",
       " 'hasn',\n",
       " \"hasn't\",\n",
       " 'have',\n",
       " 'haven',\n",
       " \"haven't\",\n",
       " 'having',\n",
       " 'he',\n",
       " 'her',\n",
       " 'here',\n",
       " 'hers',\n",
       " 'herself',\n",
       " 'him',\n",
       " 'himself',\n",
       " 'his',\n",
       " 'how',\n",
       " 'i',\n",
       " 'if',\n",
       " 'in',\n",
       " 'into',\n",
       " 'is',\n",
       " 'isn',\n",
       " \"isn't\",\n",
       " 'it',\n",
       " \"it's\",\n",
       " 'its',\n",
       " 'itself',\n",
       " 'just',\n",
       " 'll',\n",
       " 'm',\n",
       " 'ma',\n",
       " 'me',\n",
       " 'mightn',\n",
       " \"mightn't\",\n",
       " 'more',\n",
       " 'most',\n",
       " 'mustn',\n",
       " \"mustn't\",\n",
       " 'my',\n",
       " 'myself',\n",
       " 'needn',\n",
       " \"needn't\",\n",
       " 'no',\n",
       " 'nor',\n",
       " 'not',\n",
       " 'now',\n",
       " 'o',\n",
       " 'of',\n",
       " 'off',\n",
       " 'on',\n",
       " 'once',\n",
       " 'only',\n",
       " 'or',\n",
       " 'other',\n",
       " 'our',\n",
       " 'ours',\n",
       " 'ourselves',\n",
       " 'out',\n",
       " 'over',\n",
       " 'own',\n",
       " 're',\n",
       " 's',\n",
       " 'same',\n",
       " 'shan',\n",
       " \"shan't\",\n",
       " 'she',\n",
       " \"she's\",\n",
       " 'should',\n",
       " \"should've\",\n",
       " 'shouldn',\n",
       " \"shouldn't\",\n",
       " 'so',\n",
       " 'some',\n",
       " 'such',\n",
       " 't',\n",
       " 'than',\n",
       " 'that',\n",
       " \"that'll\",\n",
       " 'the',\n",
       " 'their',\n",
       " 'theirs',\n",
       " 'them',\n",
       " 'themselves',\n",
       " 'then',\n",
       " 'there',\n",
       " 'these',\n",
       " 'they',\n",
       " 'this',\n",
       " 'those',\n",
       " 'through',\n",
       " 'to',\n",
       " 'too',\n",
       " 'under',\n",
       " 'until',\n",
       " 'up',\n",
       " 've',\n",
       " 'very',\n",
       " 'was',\n",
       " 'wasn',\n",
       " \"wasn't\",\n",
       " 'we',\n",
       " 'were',\n",
       " 'weren',\n",
       " \"weren't\",\n",
       " 'what',\n",
       " 'when',\n",
       " 'where',\n",
       " 'which',\n",
       " 'while',\n",
       " 'who',\n",
       " 'whom',\n",
       " 'why',\n",
       " 'will',\n",
       " 'with',\n",
       " 'won',\n",
       " \"won't\",\n",
       " 'wouldn',\n",
       " \"wouldn't\",\n",
       " 'y',\n",
       " 'you',\n",
       " \"you'd\",\n",
       " \"you'll\",\n",
       " \"you're\",\n",
       " \"you've\",\n",
       " 'your',\n",
       " 'yours',\n",
       " 'yourself',\n",
       " 'yourselves'}"
      ]
     },
     "execution_count": 10,
     "metadata": {},
     "output_type": "execute_result"
    }
   ],
   "source": [
    "stop_words"
   ]
  },
  {
   "cell_type": "markdown",
   "id": "7e7c71a7",
   "metadata": {},
   "source": [
    "Il existe d'autres listes de stopwords disponibles, par exempel Spacy en propose une :\n",
    "\n",
    "https://spacy.io/"
   ]
  },
  {
   "cell_type": "markdown",
   "id": "d7962419",
   "metadata": {},
   "source": [
    "# On va maintenant **Tokenizer**\n",
    "Keras en propose un, NLTK, Spacy, vous pouvez aussi créer le votre !"
   ]
  },
  {
   "cell_type": "code",
   "execution_count": 47,
   "id": "991ed613",
   "metadata": {},
   "outputs": [],
   "source": [
    "from tensorflow.keras.preprocessing.text import Tokenizer\n",
    "\n",
    "tokenizer = Tokenizer(num_words=10000,\n",
    "                     filters='!\"#$%&()*+,-./:;<=>?@[\\\\]^_`{|}~\\t\\n',\n",
    "                     lower=True,\n",
    "                     char_level=False #si True, chaque caractère est un token\n",
    "                     )"
   ]
  },
  {
   "cell_type": "markdown",
   "id": "07e95415",
   "metadata": {},
   "source": [
    "On va séparer les données en train, val et test. \n",
    "\n",
    "En effet, le tokenizer va être entrainé sur les données d'entraînement.\n",
    "Il se peut que de nouveaux mots apparaissent, le modèle ne les connaîtra donc pas."
   ]
  },
  {
   "cell_type": "code",
   "execution_count": 48,
   "id": "c69b3eeb",
   "metadata": {},
   "outputs": [],
   "source": [
    "from sklearn.model_selection import train_test_split"
   ]
  },
  {
   "cell_type": "code",
   "execution_count": 50,
   "id": "74abb8ae",
   "metadata": {},
   "outputs": [
    {
     "data": {
      "text/html": [
       "<div>\n",
       "<style scoped>\n",
       "    .dataframe tbody tr th:only-of-type {\n",
       "        vertical-align: middle;\n",
       "    }\n",
       "\n",
       "    .dataframe tbody tr th {\n",
       "        vertical-align: top;\n",
       "    }\n",
       "\n",
       "    .dataframe thead th {\n",
       "        text-align: right;\n",
       "    }\n",
       "</style>\n",
       "<table border=\"1\" class=\"dataframe\">\n",
       "  <thead>\n",
       "    <tr style=\"text-align: right;\">\n",
       "      <th></th>\n",
       "      <th>Query</th>\n",
       "      <th>Label</th>\n",
       "      <th>clean</th>\n",
       "    </tr>\n",
       "  </thead>\n",
       "  <tbody>\n",
       "    <tr>\n",
       "      <th>0</th>\n",
       "      <td>\" or pg_sleep  (  __TIME__  )  --</td>\n",
       "      <td>1</td>\n",
       "      <td>pg_sleep __time__</td>\n",
       "    </tr>\n",
       "    <tr>\n",
       "      <th>1</th>\n",
       "      <td>create user name identified by pass123 tempora...</td>\n",
       "      <td>1</td>\n",
       "      <td>create user name identified temporary tablespa...</td>\n",
       "    </tr>\n",
       "    <tr>\n",
       "      <th>2</th>\n",
       "      <td>AND 1  =  utl_inaddr.get_host_address   (    ...</td>\n",
       "      <td>1</td>\n",
       "      <td>= utl_inaddr.get_host_address select distinct ...</td>\n",
       "    </tr>\n",
       "    <tr>\n",
       "      <th>3</th>\n",
       "      <td>select * from users where id  =  '1' or @ @1 ...</td>\n",
       "      <td>1</td>\n",
       "      <td>select * user id = '' = union select version '</td>\n",
       "    </tr>\n",
       "    <tr>\n",
       "      <th>4</th>\n",
       "      <td>select * from users where id  =  1 or 1#\"  ( ...</td>\n",
       "      <td>1</td>\n",
       "      <td>select * user id = union select version</td>\n",
       "    </tr>\n",
       "    <tr>\n",
       "      <th>...</th>\n",
       "      <td>...</td>\n",
       "      <td>...</td>\n",
       "      <td>...</td>\n",
       "    </tr>\n",
       "    <tr>\n",
       "      <th>30914</th>\n",
       "      <td>DELETE FROM door WHERE grow = 'small'</td>\n",
       "      <td>0</td>\n",
       "      <td>delete door grow = 'small'</td>\n",
       "    </tr>\n",
       "    <tr>\n",
       "      <th>30915</th>\n",
       "      <td>DELETE FROM tomorrow</td>\n",
       "      <td>0</td>\n",
       "      <td>delete tomorrow</td>\n",
       "    </tr>\n",
       "    <tr>\n",
       "      <th>30916</th>\n",
       "      <td>SELECT wide ( s )  FROM west</td>\n",
       "      <td>0</td>\n",
       "      <td>select wide west</td>\n",
       "    </tr>\n",
       "    <tr>\n",
       "      <th>30917</th>\n",
       "      <td>SELECT * FROM  ( SELECT slide FROM breath )</td>\n",
       "      <td>0</td>\n",
       "      <td>select * select slide breath</td>\n",
       "    </tr>\n",
       "    <tr>\n",
       "      <th>30918</th>\n",
       "      <td>SELECT TOP 3 * FROM race</td>\n",
       "      <td>0</td>\n",
       "      <td>select top * race</td>\n",
       "    </tr>\n",
       "  </tbody>\n",
       "</table>\n",
       "<p>30919 rows × 3 columns</p>\n",
       "</div>"
      ],
      "text/plain": [
       "                                                   Query  Label  \\\n",
       "0                      \" or pg_sleep  (  __TIME__  )  --      1   \n",
       "1      create user name identified by pass123 tempora...      1   \n",
       "2       AND 1  =  utl_inaddr.get_host_address   (    ...      1   \n",
       "3       select * from users where id  =  '1' or @ @1 ...      1   \n",
       "4       select * from users where id  =  1 or 1#\"  ( ...      1   \n",
       "...                                                  ...    ...   \n",
       "30914              DELETE FROM door WHERE grow = 'small'      0   \n",
       "30915                               DELETE FROM tomorrow      0   \n",
       "30916                       SELECT wide ( s )  FROM west      0   \n",
       "30917       SELECT * FROM  ( SELECT slide FROM breath )       0   \n",
       "30918                           SELECT TOP 3 * FROM race      0   \n",
       "\n",
       "                                                   clean  \n",
       "0                                      pg_sleep __time__  \n",
       "1      create user name identified temporary tablespa...  \n",
       "2      = utl_inaddr.get_host_address select distinct ...  \n",
       "3         select * user id = '' = union select version '  \n",
       "4                select * user id = union select version  \n",
       "...                                                  ...  \n",
       "30914                         delete door grow = 'small'  \n",
       "30915                                    delete tomorrow  \n",
       "30916                                   select wide west  \n",
       "30917                       select * select slide breath  \n",
       "30918                                  select top * race  \n",
       "\n",
       "[30919 rows x 3 columns]"
      ]
     },
     "execution_count": 50,
     "metadata": {},
     "output_type": "execute_result"
    }
   ],
   "source": [
    "df"
   ]
  },
  {
   "cell_type": "code",
   "execution_count": 51,
   "id": "d562309c",
   "metadata": {},
   "outputs": [],
   "source": [
    "x_train, x_test, y_train, y_test = train_test_split(\n",
    "    df['clean'], df['Label'], train_size=0.8, stratify=df['Label'], random_state=42)\n",
    "\n",
    "x_train, x_val, y_train, y_val = train_test_split(\n",
    "    x_train, y_train, train_size=0.8 ,stratify=y_train, random_state=42)"
   ]
  },
  {
   "cell_type": "code",
   "execution_count": 52,
   "id": "433ec343",
   "metadata": {},
   "outputs": [
    {
     "name": "stdout",
     "output_type": "stream",
     "text": [
      "========== Données d'entraînement ========== \n",
      " 25443                             select count grandmother\n",
      "15267                                            tronchuda\n",
      "7866                                                     =\n",
      "10139    ' = ctxsys.drithsx.sn chr ||chr ||chr ||chr ||...\n",
      "16822                                                     \n",
      "                               ...                        \n",
      "9338                                         = = benchmark\n",
      "27389                                         select * end\n",
      "6822                                          union select\n",
      "3280     ' = select count * all_users all_users all_use...\n",
      "14204                                   de asbaje abarzuza\n",
      "Name: clean, Length: 19788, dtype: object \n",
      " ========== Données de validation ========== \n",
      " 8441                                          union select\n",
      "7838                  ' = = select count * generate_series\n",
      "13394                                                 eial\n",
      "12134                                 slezakballerpoker.kn\n",
      "30775                      select prepare shade right join\n",
      "                               ...                        \n",
      "22753                     select * order ask asc mine desc\n",
      "11252    = ctxsys.drithsx.sn chr ||chr ||chr ||chr ||ch...\n",
      "11125    ' boolean mode = dbms_pipe.receive_message chr...\n",
      "24799                                      select * report\n",
      "30836         select top * doll = 'adventure' select * try\n",
      "Name: clean, Length: 6184, dtype: object \n",
      " ========== Données de test ========== \n",
      " 6789     ' yyja = = select count * sysibm.systables sys...\n",
      "16639                                                     \n",
      "7548     ' = procedure analyse extractvalue concat benc...\n",
      "9990                                     ' select 'drqj' =\n",
      "17187                                            juglandea\n",
      "                               ...                        \n",
      "29292           select * everywhere color 'vapor' 'silent'\n",
      "28710                           select * cloud quiet '' ''\n",
      "19529    select option_value wp_options option_name = '...\n",
      "13194                                   barrenechea sadurn\n",
      "25435                select * dog replied = 'golden' limit\n",
      "Name: clean, Length: 4947, dtype: object\n"
     ]
    }
   ],
   "source": [
    "print(\"========== Données d'entraînement ========== \\n\", x_train,  \"\\n\",\n",
    "      \"========== Données de validation ========== \\n\", x_test,  \"\\n\",\n",
    "      \"========== Données de test ========== \\n\", x_val)"
   ]
  },
  {
   "cell_type": "markdown",
   "id": "a1c4b354",
   "metadata": {},
   "source": [
    "Entrainons le tokenizer ! "
   ]
  },
  {
   "cell_type": "code",
   "execution_count": 53,
   "id": "e657a764",
   "metadata": {},
   "outputs": [],
   "source": [
    "tokens = tokenizer.fit_on_texts(x_train)"
   ]
  },
  {
   "cell_type": "code",
   "execution_count": 54,
   "id": "0f6399c0",
   "metadata": {},
   "outputs": [
    {
     "data": {
      "text/plain": [
       "19788"
      ]
     },
     "execution_count": 54,
     "metadata": {},
     "output_type": "execute_result"
    }
   ],
   "source": [
    "tokenizer.document_count"
   ]
  },
  {
   "cell_type": "code",
   "execution_count": 55,
   "id": "31518050",
   "metadata": {},
   "outputs": [
    {
     "data": {
      "text/plain": [
       "10000"
      ]
     },
     "execution_count": 55,
     "metadata": {},
     "output_type": "execute_result"
    }
   ],
   "source": [
    "tokenizer.num_words"
   ]
  },
  {
   "cell_type": "code",
   "execution_count": 56,
   "id": "f9889e4e",
   "metadata": {},
   "outputs": [
    {
     "data": {
      "text/plain": [
       "{1: 'select',\n",
       " 2: \"'\",\n",
       " 3: 'chr',\n",
       " 4: 'char',\n",
       " 5: 'union',\n",
       " 6: 'count',\n",
       " 7: 'end',\n",
       " 8: 'else',\n",
       " 9: 'case',\n",
       " 10: 'like',\n",
       " 11: 'order',\n",
       " 12: 'id',\n",
       " 13: 'null',\n",
       " 14: 'sysusers',\n",
       " 15: 'sleep',\n",
       " 16: 'users',\n",
       " 17: \"''\",\n",
       " 18: 'all',\n",
       " 19: 'elt',\n",
       " 20: 'join',\n",
       " 21: 'row',\n",
       " 22: 'top',\n",
       " 23: 'dual',\n",
       " 24: 'concat',\n",
       " 25: 'first',\n",
       " 26: 'fetch',\n",
       " 27: 'avg',\n",
       " 28: 'wp',\n",
       " 29: 'percent',\n",
       " 30: 'orders',\n",
       " 31: 'sysibm',\n",
       " 32: 'systables',\n",
       " 33: 'domain',\n",
       " 34: 'repeat',\n",
       " 35: 'substring',\n",
       " 36: 'x',\n",
       " 37: 'value',\n",
       " 38: 'regexp',\n",
       " 39: 'employees',\n",
       " 40: 'left',\n",
       " 41: 'limit',\n",
       " 42: 'post',\n",
       " 43: 'user',\n",
       " 44: 'sum',\n",
       " 45: 'name',\n",
       " 46: 'set',\n",
       " 47: 'key',\n",
       " 48: 'meta',\n",
       " 49: 'distinct',\n",
       " 50: 'posts',\n",
       " 51: 'right',\n",
       " 52: 'benchmark',\n",
       " 53: 'asc',\n",
       " 54: 'dbms',\n",
       " 55: 'de',\n",
       " 56: 'city',\n",
       " 57: 'rlike',\n",
       " 58: 'group',\n",
       " 59: 'crypt',\n",
       " 60: 'floor',\n",
       " 61: 'series',\n",
       " 62: 'generate',\n",
       " 63: 'rand',\n",
       " 64: 'pg',\n",
       " 65: 'min',\n",
       " 66: 'c',\n",
       " 67: 'inner',\n",
       " 68: 'extractvalue',\n",
       " 69: 'price',\n",
       " 70: 'make',\n",
       " 71: 'rdbfields',\n",
       " 72: 'rdbtypes',\n",
       " 73: 'rdbcollations',\n",
       " 74: 'rdbfunctions',\n",
       " 75: 'receive',\n",
       " 76: 'desc',\n",
       " 77: 'option',\n",
       " 78: 'pipe',\n",
       " 79: 'insert',\n",
       " 80: 'update',\n",
       " 81: 'information',\n",
       " 82: 'message',\n",
       " 83: \"'abcdefg'upper\",\n",
       " 84: 'hex',\n",
       " 85: 'randomblob',\n",
       " 86: 'columns',\n",
       " 87: 'tables',\n",
       " 88: 'schema',\n",
       " 89: 'domains',\n",
       " 90: 'onlyselect',\n",
       " 91: 'delete',\n",
       " 92: 'calle',\n",
       " 93: 'version',\n",
       " 94: 'cast',\n",
       " 95: 'column',\n",
       " 96: 'sn',\n",
       " 97: 'character',\n",
       " 98: 'address',\n",
       " 99: 'int',\n",
       " 100: 'get',\n",
       " 101: 'sets',\n",
       " 102: 'postmeta',\n",
       " 103: 'host',\n",
       " 104: 'utl',\n",
       " 105: 'inaddr',\n",
       " 106: 'options',\n",
       " 107: 'procedure',\n",
       " 108: 'mode',\n",
       " 109: 'boolean',\n",
       " 110: 'analyse',\n",
       " 111: 'waitfor',\n",
       " 112: 'delay',\n",
       " 113: 'full',\n",
       " 114: 'outer',\n",
       " 115: 'employeeid',\n",
       " 116: 'to',\n",
       " 117: 'upper',\n",
       " 118: 'employee',\n",
       " 119: 'exp',\n",
       " 120: 'ordersinner',\n",
       " 121: 'updatexml',\n",
       " 122: 'text',\n",
       " 123: 'customer',\n",
       " 124: \"'qqpjq'\",\n",
       " 125: \"'qzvzq'\",\n",
       " 126: 'rdbdatabase',\n",
       " 127: 'ordersright',\n",
       " 128: 'numeric',\n",
       " 129: 'term',\n",
       " 130: 'la',\n",
       " 131: 'xmltype',\n",
       " 132: 'call',\n",
       " 133: 'country',\n",
       " 134: 'utility',\n",
       " 135: 'sqlid',\n",
       " 136: 'sqlhash',\n",
       " 137: 'master',\n",
       " 138: 'convert',\n",
       " 139: 'ctxsys',\n",
       " 140: 'drithsx',\n",
       " 141: 'customername',\n",
       " 142: 'nullnullnullnullnull',\n",
       " 143: 'com',\n",
       " 144: 'nullnullnullnullnullnullnullnull',\n",
       " 145: 'customers',\n",
       " 146: 'tt',\n",
       " 147: 'type',\n",
       " 148: 'nullnullnullnullnullnullnull',\n",
       " 149: 'nullnullnullnullnullnullnullnullnull',\n",
       " 150: 'nullnullnullnullnullnull',\n",
       " 151: 'nullnullnullnull',\n",
       " 152: 'table',\n",
       " 153: 'del',\n",
       " 154: 'system',\n",
       " 155: 'sysdatabases',\n",
       " 156: 'rownum',\n",
       " 157: 'nullnullnull',\n",
       " 158: 'drop',\n",
       " 159: 'function',\n",
       " 160: 'time',\n",
       " 161: 'nullnullnullnullnullnullnullnullnullnull',\n",
       " 162: 'fzno',\n",
       " 163: 'mysql',\n",
       " 164: 'db',\n",
       " 165: 'nullnull',\n",
       " 166: 'sgvo',\n",
       " 167: 'status',\n",
       " 168: 'ydpu',\n",
       " 169: 'date',\n",
       " 170: 'taxonomy',\n",
       " 171: 'title',\n",
       " 172: 't',\n",
       " 173: 'iif',\n",
       " 174: 'vwyq',\n",
       " 175: \"'i'\",\n",
       " 176: \"'i\",\n",
       " 177: 'e',\n",
       " 178: 'srmq',\n",
       " 179: \"'publish'\",\n",
       " 180: 'b',\n",
       " 181: 'property',\n",
       " 182: 'child',\n",
       " 183: 'sddo',\n",
       " 184: 'sys',\n",
       " 185: 'gcrr',\n",
       " 186: 'nullversion',\n",
       " 187: 'san',\n",
       " 188: 'mouse',\n",
       " 189: 'customerid',\n",
       " 190: 'h',\n",
       " 191: 'create',\n",
       " 192: 'doctor',\n",
       " 193: 'lunch',\n",
       " 194: 'menu',\n",
       " 195: 'orderid',\n",
       " 196: 'general',\n",
       " 197: 'dull',\n",
       " 198: 'tr',\n",
       " 199: 'add',\n",
       " 200: 'sql',\n",
       " 201: 'f',\n",
       " 202: 'money',\n",
       " 203: 'tutorial',\n",
       " 204: 'service',\n",
       " 205: 'hand',\n",
       " 206: 'product',\n",
       " 207: 'expect',\n",
       " 208: 'sudden',\n",
       " 209: 'several',\n",
       " 210: 'condition',\n",
       " 211: 'farm',\n",
       " 212: 'naturally',\n",
       " 213: 'quantity',\n",
       " 214: 'truth',\n",
       " 215: 'username',\n",
       " 216: 'object',\n",
       " 217: 'salt',\n",
       " 218: 'son',\n",
       " 219: 'slipped',\n",
       " 220: 'something',\n",
       " 221: 'exactly',\n",
       " 222: 'g',\n",
       " 223: 'juan',\n",
       " 224: 'go',\n",
       " 225: 'contactname',\n",
       " 226: 'parent',\n",
       " 227: 'came',\n",
       " 228: 'sound',\n",
       " 229: 'part',\n",
       " 230: 'test',\n",
       " 231: 'hello',\n",
       " 232: 'cover',\n",
       " 233: 'el',\n",
       " 234: 'frozen',\n",
       " 235: 'instrument',\n",
       " 236: \"'acffield'\",\n",
       " 237: 'canal',\n",
       " 238: 'month',\n",
       " 239: 'rice',\n",
       " 240: 'laid',\n",
       " 241: 'widely',\n",
       " 242: 'football',\n",
       " 243: 'house',\n",
       " 244: 'bone',\n",
       " 245: 'sit',\n",
       " 246: 'vversion',\n",
       " 247: 'around',\n",
       " 248: 'announced',\n",
       " 249: 'load',\n",
       " 250: 'riding',\n",
       " 251: 'strike',\n",
       " 252: 'corner',\n",
       " 253: 'minute',\n",
       " 254: 'worth',\n",
       " 255: 'cdata',\n",
       " 256: \"'field\",\n",
       " 257: 'saved',\n",
       " 258: 'struggle',\n",
       " 259: 'crew',\n",
       " 260: 'safe',\n",
       " 261: 'supply',\n",
       " 262: 'court',\n",
       " 263: 'habit',\n",
       " 264: 'thumb',\n",
       " 265: 'pile',\n",
       " 266: 'think',\n",
       " 267: 'individual',\n",
       " 268: 'gate',\n",
       " 269: 'market',\n",
       " 270: 'password',\n",
       " 271: 'visit',\n",
       " 272: 'hurt',\n",
       " 273: 'wing',\n",
       " 274: 'automobile',\n",
       " 275: 'outline',\n",
       " 276: 'bark',\n",
       " 277: 'plate',\n",
       " 278: 'greatest',\n",
       " 279: 'view',\n",
       " 280: 'behavior',\n",
       " 281: 'power',\n",
       " 282: 'particular',\n",
       " 283: 'indicate',\n",
       " 284: 'day',\n",
       " 285: 'roof',\n",
       " 286: 'engineer',\n",
       " 287: 'practice',\n",
       " 288: 'productname',\n",
       " 289: 'role',\n",
       " 290: 'exec',\n",
       " 291: 'wealth',\n",
       " 292: 'correctly',\n",
       " 293: 'fly',\n",
       " 294: 'agree',\n",
       " 295: 'managed',\n",
       " 296: 'mine',\n",
       " 297: 'houzez',\n",
       " 298: 'park',\n",
       " 299: 'halfway',\n",
       " 300: 'bottom',\n",
       " 301: 'shelf',\n",
       " 302: 'finger',\n",
       " 303: 'deeply',\n",
       " 304: 'certain',\n",
       " 305: \"'germany'\",\n",
       " 306: 'opinion',\n",
       " 307: 'chamber',\n",
       " 308: 'fastened',\n",
       " 309: 'space',\n",
       " 310: 'opposite',\n",
       " 311: 'congress',\n",
       " 312: 'night',\n",
       " 313: 'growth',\n",
       " 314: 'attached',\n",
       " 315: 'today',\n",
       " 316: 'suppose',\n",
       " 317: 'increase',\n",
       " 318: 'footer',\n",
       " 319: 'adult',\n",
       " 320: 'standard',\n",
       " 321: 'toward',\n",
       " 322: 'half',\n",
       " 323: 'creature',\n",
       " 324: 'gulf',\n",
       " 325: 'entire',\n",
       " 326: 'triangle',\n",
       " 327: 'force',\n",
       " 328: 'curious',\n",
       " 329: 'list',\n",
       " 330: 'current',\n",
       " 331: 'egg',\n",
       " 332: 'q',\n",
       " 333: 'history',\n",
       " 334: 'angry',\n",
       " 335: 'composition',\n",
       " 336: 'press',\n",
       " 337: 'found',\n",
       " 338: 'tear',\n",
       " 339: 'memory',\n",
       " 340: 'foot',\n",
       " 341: 'products',\n",
       " 342: 'seen',\n",
       " 343: 'involved',\n",
       " 344: 'wind',\n",
       " 345: 'quarter',\n",
       " 346: 'occur',\n",
       " 347: 'task',\n",
       " 348: 'heading',\n",
       " 349: 'nearby',\n",
       " 350: 'santa',\n",
       " 351: 'find',\n",
       " 352: 'sheet',\n",
       " 353: 'year',\n",
       " 354: 'shoot',\n",
       " 355: 'gravity',\n",
       " 356: 'bare',\n",
       " 357: 'instant',\n",
       " 358: 'friend',\n",
       " 359: 'know',\n",
       " 360: 'couple',\n",
       " 361: 'blood',\n",
       " 362: 'usually',\n",
       " 363: 'roll',\n",
       " 364: 'process',\n",
       " 365: 'using',\n",
       " 366: 'judge',\n",
       " 367: 'class',\n",
       " 368: 'write',\n",
       " 369: 'wrapped',\n",
       " 370: 'good',\n",
       " 371: 'wrong',\n",
       " 372: 'lastname',\n",
       " 373: 'stream',\n",
       " 374: 'aware',\n",
       " 375: 'blue',\n",
       " 376: 'work',\n",
       " 377: 'baseball',\n",
       " 378: 'wore',\n",
       " 379: 'rear',\n",
       " 380: 'situation',\n",
       " 381: 'either',\n",
       " 382: 'swimming',\n",
       " 383: 'airplane',\n",
       " 384: 'five',\n",
       " 385: 'railroad',\n",
       " 386: 'imagine',\n",
       " 387: 'discover',\n",
       " 388: 'pl',\n",
       " 389: 'die',\n",
       " 390: 'ought',\n",
       " 391: 'phrase',\n",
       " 392: 'stepped',\n",
       " 393: 'field',\n",
       " 394: 'section',\n",
       " 395: 'diagram',\n",
       " 396: 'gold',\n",
       " 397: 'necessary',\n",
       " 398: 'curdate',\n",
       " 399: 'button',\n",
       " 400: 'support',\n",
       " 401: 'fat',\n",
       " 402: 'explore',\n",
       " 403: 'shown',\n",
       " 404: 'sure',\n",
       " 405: 'equipment',\n",
       " 406: 'hour',\n",
       " 407: 'forget',\n",
       " 408: 'promised',\n",
       " 409: 'bend',\n",
       " 410: 'lift',\n",
       " 411: 'locate',\n",
       " 412: 'fence',\n",
       " 413: 'stock',\n",
       " 414: 'frog',\n",
       " 415: 'teach',\n",
       " 416: \"admin'\",\n",
       " 417: 'happily',\n",
       " 418: 'slow',\n",
       " 419: 'also',\n",
       " 420: 'mountain',\n",
       " 421: 'long',\n",
       " 422: 'citizen',\n",
       " 423: 'varchar',\n",
       " 424: 'label',\n",
       " 425: 'cowboy',\n",
       " 426: 'courage',\n",
       " 427: 'sail',\n",
       " 428: 'line',\n",
       " 429: 'popular',\n",
       " 430: 'wire',\n",
       " 431: 'decide',\n",
       " 432: 'spend',\n",
       " 433: 'breakfast',\n",
       " 434: 'mass',\n",
       " 435: 'society',\n",
       " 436: 'surprise',\n",
       " 437: 'improve',\n",
       " 438: 'vegetable',\n",
       " 439: 'former',\n",
       " 440: 'complete',\n",
       " 441: 'parallel',\n",
       " 442: 'figure',\n",
       " 443: 'favorite',\n",
       " 444: 'wonder',\n",
       " 445: 'speech',\n",
       " 446: 'daughter',\n",
       " 447: 'mean',\n",
       " 448: 'near',\n",
       " 449: 'welcome',\n",
       " 450: 'enemy',\n",
       " 451: 'stick',\n",
       " 452: 'sugar',\n",
       " 453: 'social',\n",
       " 454: 'port',\n",
       " 455: 'flow',\n",
       " 456: 'pleasant',\n",
       " 457: 'broke',\n",
       " 458: 'grabbed',\n",
       " 459: 'weak',\n",
       " 460: 'thing',\n",
       " 461: 'instead',\n",
       " 462: 'hunt',\n",
       " 463: 'cool',\n",
       " 464: 'furniture',\n",
       " 465: 'question',\n",
       " 466: 'major',\n",
       " 467: 'card',\n",
       " 468: 'gray',\n",
       " 469: 'four',\n",
       " 470: 'still',\n",
       " 471: 'common',\n",
       " 472: 'busy',\n",
       " 473: 'include',\n",
       " 474: 'mainly',\n",
       " 475: 'famous',\n",
       " 476: 'paper',\n",
       " 477: 'consist',\n",
       " 478: 'admin',\n",
       " 479: 'sat',\n",
       " 480: 'north',\n",
       " 481: 'written',\n",
       " 482: 'eight',\n",
       " 483: 'number',\n",
       " 484: 'without',\n",
       " 485: 'limited',\n",
       " 486: 'need',\n",
       " 487: 'fellow',\n",
       " 488: 'shut',\n",
       " 489: 'wheel',\n",
       " 490: 'team',\n",
       " 491: 'wish',\n",
       " 492: 'flame',\n",
       " 493: 'keep',\n",
       " 494: 'chest',\n",
       " 495: 'invented',\n",
       " 496: 'industrial',\n",
       " 497: 'yard',\n",
       " 498: 'weigh',\n",
       " 499: 'pay',\n",
       " 500: 'prove',\n",
       " 501: 'dollar',\n",
       " 502: 'kept',\n",
       " 503: 'average',\n",
       " 504: 'gas',\n",
       " 505: 'throat',\n",
       " 506: 'manufacturing',\n",
       " 507: 'production',\n",
       " 508: 'walk',\n",
       " 509: 'rubber',\n",
       " 510: \"'options\",\n",
       " 511: 'try',\n",
       " 512: 'sink',\n",
       " 513: 'fill',\n",
       " 514: 'length',\n",
       " 515: 'writer',\n",
       " 516: 'simple',\n",
       " 517: 'sale',\n",
       " 518: 'printed',\n",
       " 519: 'clothes',\n",
       " 520: 'lying',\n",
       " 521: 'coal',\n",
       " 522: 'shell',\n",
       " 523: 'potato',\n",
       " 524: 'coming',\n",
       " 525: 'frame',\n",
       " 526: 'might',\n",
       " 527: 'relationship',\n",
       " 528: 'barn',\n",
       " 529: 'soldier',\n",
       " 530: 'tribe',\n",
       " 531: 'plant',\n",
       " 532: 'church',\n",
       " 533: 'safety',\n",
       " 534: 'dozen',\n",
       " 535: 'somehow',\n",
       " 536: 'sport',\n",
       " 537: 'facing',\n",
       " 538: 'store',\n",
       " 539: 'frighten',\n",
       " 540: 'real',\n",
       " 541: 'anywhere',\n",
       " 542: 'ride',\n",
       " 543: 'exclaimed',\n",
       " 544: 'past',\n",
       " 545: 'hearing',\n",
       " 546: 'policeman',\n",
       " 547: 'high',\n",
       " 548: 'lay',\n",
       " 549: 'cat',\n",
       " 550: 'bee',\n",
       " 551: 'proud',\n",
       " 552: 'activity',\n",
       " 553: 'clearly',\n",
       " 554: 'club',\n",
       " 555: 'effort',\n",
       " 556: 'enter',\n",
       " 557: 'accurate',\n",
       " 558: 'center',\n",
       " 559: 'apple',\n",
       " 560: 'circle',\n",
       " 561: 'sky',\n",
       " 562: 'official',\n",
       " 563: 'sort',\n",
       " 564: 'doubt',\n",
       " 565: 'studied',\n",
       " 566: 'nothing',\n",
       " 567: 'goose',\n",
       " 568: 'volume',\n",
       " 569: 'remove',\n",
       " 570: 'slowly',\n",
       " 571: 'grain',\n",
       " 572: 'edge',\n",
       " 573: 'woman',\n",
       " 574: 'principal',\n",
       " 575: 'highest',\n",
       " 576: 'replace',\n",
       " 577: 'reach',\n",
       " 578: 'change',\n",
       " 579: 'within',\n",
       " 580: 'dangerous',\n",
       " 581: 'string',\n",
       " 582: 'apartment',\n",
       " 583: 'plus',\n",
       " 584: 'cloud',\n",
       " 585: 'result',\n",
       " 586: 'unhappy',\n",
       " 587: 'clock',\n",
       " 588: 'mirror',\n",
       " 589: 'stared',\n",
       " 590: 'nice',\n",
       " 591: 'terms',\n",
       " 592: 'silk',\n",
       " 593: 'nervous',\n",
       " 594: 'heard',\n",
       " 595: 'car',\n",
       " 596: 'least',\n",
       " 597: 'melted',\n",
       " 598: 'yesterday',\n",
       " 599: 'entirely',\n",
       " 600: 'depth',\n",
       " 601: 'milk',\n",
       " 602: 'tax',\n",
       " 603: 'cooky',\n",
       " 604: 'somewhere',\n",
       " 605: 'bank',\n",
       " 606: 'sea',\n",
       " 607: 'complex',\n",
       " 608: 'movement',\n",
       " 609: 'sad',\n",
       " 610: 'family',\n",
       " 611: 'consonant',\n",
       " 612: 'refused',\n",
       " 613: 'pink',\n",
       " 614: 'soon',\n",
       " 615: 'folk',\n",
       " 616: 'rising',\n",
       " 617: 'every',\n",
       " 618: 'street',\n",
       " 619: 'driving',\n",
       " 620: 'stop',\n",
       " 621: 'funny',\n",
       " 622: 'breathing',\n",
       " 623: 'offer',\n",
       " 624: 'bean',\n",
       " 625: 'outside',\n",
       " 626: 'stand',\n",
       " 627: 'banner',\n",
       " 628: 'dance',\n",
       " 629: 'leader',\n",
       " 630: 'mineral',\n",
       " 631: 'underline',\n",
       " 632: 'kill',\n",
       " 633: 'last',\n",
       " 634: 'becoming',\n",
       " 635: 'letter',\n",
       " 636: 'everything',\n",
       " 637: 'smooth',\n",
       " 638: 'silly',\n",
       " 639: 'inch',\n",
       " 640: 'early',\n",
       " 641: 'jump',\n",
       " 642: 'flew',\n",
       " 643: 'statement',\n",
       " 644: 'central',\n",
       " 645: 'drive',\n",
       " 646: 'copy',\n",
       " 647: 'shout',\n",
       " 648: 'serious',\n",
       " 649: 'push',\n",
       " 650: 'straw',\n",
       " 651: 'fell',\n",
       " 652: 'giant',\n",
       " 653: 'carry',\n",
       " 654: 'bite',\n",
       " 655: 'idea',\n",
       " 656: 'chief',\n",
       " 657: 'observe',\n",
       " 658: 'darkness',\n",
       " 659: 'definition',\n",
       " 660: 'grow',\n",
       " 661: 'forest',\n",
       " 662: 'storm',\n",
       " 663: 'could',\n",
       " 664: 'dog',\n",
       " 665: 'body',\n",
       " 666: 'declare',\n",
       " 667: 'thirty',\n",
       " 668: 'desk',\n",
       " 669: 'solve',\n",
       " 670: 'physical',\n",
       " 671: 'meal',\n",
       " 672: 'pair',\n",
       " 673: 'mind',\n",
       " 674: 'start',\n",
       " 675: 'prize',\n",
       " 676: 'zulu',\n",
       " 677: 'program',\n",
       " 678: 'spread',\n",
       " 679: 'page',\n",
       " 680: 'kitchen',\n",
       " 681: 'even',\n",
       " 682: 'exchange',\n",
       " 683: 'ever',\n",
       " 684: 'tale',\n",
       " 685: 'location',\n",
       " 686: 'college',\n",
       " 687: 'report',\n",
       " 688: 'fuel',\n",
       " 689: 'shoe',\n",
       " 690: 'interest',\n",
       " 691: 'wave',\n",
       " 692: 'built',\n",
       " 693: 'reader',\n",
       " 694: 'game',\n",
       " 695: 'ordinary',\n",
       " 696: 'break',\n",
       " 697: 'book',\n",
       " 698: 'tired',\n",
       " 699: 'tool',\n",
       " 700: 'bar',\n",
       " 701: 'ran',\n",
       " 702: 'positive',\n",
       " 703: 'upward',\n",
       " 704: 'shape',\n",
       " 705: 'anyone',\n",
       " 706: 'poor',\n",
       " 707: 'exact',\n",
       " 708: 'natural',\n",
       " 709: 'lower',\n",
       " 710: 'wherever',\n",
       " 711: 'community',\n",
       " 712: 'poetry',\n",
       " 713: 'nature',\n",
       " 714: 'tide',\n",
       " 715: 'map',\n",
       " 716: 'blank',\n",
       " 717: 'similar',\n",
       " 718: 'thick',\n",
       " 719: 'rod',\n",
       " 720: 'account',\n",
       " 721: 'turn',\n",
       " 722: 'mostly',\n",
       " 723: 'voice',\n",
       " 724: 'engine',\n",
       " 725: 'double',\n",
       " 726: 'addition',\n",
       " 727: 'essential',\n",
       " 728: 'settler',\n",
       " 729: 'consider',\n",
       " 730: 'basic',\n",
       " 731: 'ate',\n",
       " 732: 'lady',\n",
       " 733: 'secret',\n",
       " 734: 'contentdisposition',\n",
       " 735: 'wall',\n",
       " 736: 'building',\n",
       " 737: 'win',\n",
       " 738: 'amount',\n",
       " 739: 'classroom',\n",
       " 740: 'water',\n",
       " 741: 'rope',\n",
       " 742: 'experiment',\n",
       " 743: 'uncle',\n",
       " 744: 'total',\n",
       " 745: 'signal',\n",
       " 746: 'rule',\n",
       " 747: 'strange',\n",
       " 748: 'earn',\n",
       " 749: 'rhythm',\n",
       " 750: 'mysterious',\n",
       " 751: 'equally',\n",
       " 752: 'present',\n",
       " 753: 'period',\n",
       " 754: 'discovery',\n",
       " 755: 'substance',\n",
       " 756: 'specific',\n",
       " 757: 'wise',\n",
       " 758: 'pattern',\n",
       " 759: 'sun',\n",
       " 760: 'cause',\n",
       " 761: 'broad',\n",
       " 762: 'suit',\n",
       " 763: 'root',\n",
       " 764: 'bus',\n",
       " 765: 'yes',\n",
       " 766: 'course',\n",
       " 767: 'greater',\n",
       " 768: 'talk',\n",
       " 769: 'conversation',\n",
       " 770: 'fighting',\n",
       " 771: 'heart',\n",
       " 772: 'pool',\n",
       " 773: 'answer',\n",
       " 774: 'strong',\n",
       " 775: 'said',\n",
       " 776: 'control',\n",
       " 777: 'paint',\n",
       " 778: 'hide',\n",
       " 779: 'wonderful',\n",
       " 780: 'foreign',\n",
       " 781: 'population',\n",
       " 782: 'excitement',\n",
       " 783: 'level',\n",
       " 784: 'duck',\n",
       " 785: 'machinery',\n",
       " 786: 'orange',\n",
       " 787: 'plural',\n",
       " 788: 'neck',\n",
       " 789: 'anybody',\n",
       " 790: 'castle',\n",
       " 791: 'breeze',\n",
       " 792: 'lip',\n",
       " 793: 'deal',\n",
       " 794: 'alphabet',\n",
       " 795: 'chart',\n",
       " 796: 'surrounded',\n",
       " 797: 'far',\n",
       " 798: 'farther',\n",
       " 799: 'thou',\n",
       " 800: 'draw',\n",
       " 801: 'since',\n",
       " 802: 'mouth',\n",
       " 803: 'steep',\n",
       " 804: 'earth',\n",
       " 805: 'tie',\n",
       " 806: 'tin',\n",
       " 807: 'layer',\n",
       " 808: 'dot',\n",
       " 809: 'please',\n",
       " 810: 'search',\n",
       " 811: 'disease',\n",
       " 812: 'air',\n",
       " 813: 'point',\n",
       " 814: 'making',\n",
       " 815: 'arrangement',\n",
       " 816: 'jet',\n",
       " 817: 'express',\n",
       " 818: 'quiet',\n",
       " 819: 'porch',\n",
       " 820: 'private',\n",
       " 821: 'large',\n",
       " 822: 'willing',\n",
       " 823: 'difference',\n",
       " 824: 'war',\n",
       " 825: 'seldom',\n",
       " 826: 'connected',\n",
       " 827: 'jungle',\n",
       " 828: 'lot',\n",
       " 829: 'thought',\n",
       " 830: 'future',\n",
       " 831: 'hospital',\n",
       " 832: 'led',\n",
       " 833: 'bill',\n",
       " 834: 'smaller',\n",
       " 835: 'afraid',\n",
       " 836: 'hay',\n",
       " 837: 'crack',\n",
       " 838: 'younger',\n",
       " 839: 'captured',\n",
       " 840: 'bet',\n",
       " 841: 'enjoy',\n",
       " 842: 'tomorrow',\n",
       " 843: 'captain',\n",
       " 844: 'clean',\n",
       " 845: 'kind',\n",
       " 846: 'clothing',\n",
       " 847: 'var',\n",
       " 848: 'second',\n",
       " 849: 'smoke',\n",
       " 850: 'sick',\n",
       " 851: 'baby',\n",
       " 852: 'action',\n",
       " 853: 'teeth',\n",
       " 854: 'slope',\n",
       " 855: 'higher',\n",
       " 856: 'heat',\n",
       " 857: 'raw',\n",
       " 858: 'chain',\n",
       " 859: 'per',\n",
       " 860: 'chose',\n",
       " 861: 'herd',\n",
       " 862: 'party',\n",
       " 863: 'granted',\n",
       " 864: 'choice',\n",
       " 865: 'principle',\n",
       " 866: 'feed',\n",
       " 867: 'brain',\n",
       " 868: 'chicken',\n",
       " 869: 'planning',\n",
       " 870: 'although',\n",
       " 871: 'powerful',\n",
       " 872: 'everyone',\n",
       " 873: 'bad',\n",
       " 874: 'atom',\n",
       " 875: 'gift',\n",
       " 876: 'plza',\n",
       " 877: 'blow',\n",
       " 878: 'form',\n",
       " 879: 'bound',\n",
       " 880: 'pot',\n",
       " 881: 'yet',\n",
       " 882: 'therefore',\n",
       " 883: 'mighty',\n",
       " 884: 'week',\n",
       " 885: 'wide',\n",
       " 886: 'felt',\n",
       " 887: 'los',\n",
       " 888: 'black',\n",
       " 889: 'mistake',\n",
       " 890: 'battle',\n",
       " 891: 'dirty',\n",
       " 892: 'bottle',\n",
       " 893: 'duty',\n",
       " 894: 'leather',\n",
       " 895: 'atmosphere',\n",
       " 896: 'beginning',\n",
       " 897: 'excellent',\n",
       " 898: 'oil',\n",
       " 899: 'occasionally',\n",
       " 900: 'wild',\n",
       " 901: 'rose',\n",
       " 902: 'pencil',\n",
       " 903: 'scientific',\n",
       " 904: 'save',\n",
       " 905: 'fifth',\n",
       " 906: 'spring',\n",
       " 907: 'primitive',\n",
       " 908: 'slide',\n",
       " 909: 'sant',\n",
       " 910: 'food',\n",
       " 911: 'fire',\n",
       " 912: 'rabbit',\n",
       " 913: 'travel',\n",
       " 914: 'star',\n",
       " 915: 'muscle',\n",
       " 916: 'loose',\n",
       " 917: 'tonight',\n",
       " 918: 'belt',\n",
       " 919: 'careful',\n",
       " 920: 'oxygen',\n",
       " 921: 'boy',\n",
       " 922: 'apart',\n",
       " 923: 'badly',\n",
       " 924: 'headed',\n",
       " 925: 'age',\n",
       " 926: 'brief',\n",
       " 927: 'missing',\n",
       " 928: 'whale',\n",
       " 929: 'fix',\n",
       " 930: 'verb',\n",
       " 931: 'arm',\n",
       " 932: 'nation',\n",
       " 933: 'shop',\n",
       " 934: 'position',\n",
       " 935: 'floating',\n",
       " 936: 'colony',\n",
       " 937: 'model',\n",
       " 938: 'guide',\n",
       " 939: 'mixture',\n",
       " 940: 'cold',\n",
       " 941: 'fresh',\n",
       " 942: 'formdata',\n",
       " 943: 'grandmother',\n",
       " 944: 'side',\n",
       " 945: 'problem',\n",
       " 946: 'huge',\n",
       " 947: 'personal',\n",
       " 948: 'equal',\n",
       " 949: 'made',\n",
       " 950: 'twice',\n",
       " 951: 'describe',\n",
       " 952: 'supplier',\n",
       " 953: 'direct',\n",
       " 954: 'accept',\n",
       " 955: 'river',\n",
       " 956: 'pen',\n",
       " 957: 'clay',\n",
       " 958: 'stomach',\n",
       " 959: 'silver',\n",
       " 960: 'recognize',\n",
       " 961: 'birthday',\n",
       " 962: 'wood',\n",
       " 963: 'proper',\n",
       " 964: 'kid',\n",
       " 965: 'box',\n",
       " 966: 'return',\n",
       " 967: 'powder',\n",
       " 968: 'sang',\n",
       " 969: 'shadow',\n",
       " 970: 'plane',\n",
       " 971: 'symbol',\n",
       " 972: 'president',\n",
       " 973: 'south',\n",
       " 974: 'direction',\n",
       " 975: 'labor',\n",
       " 976: 'independent',\n",
       " 977: 'bread',\n",
       " 978: 'onto',\n",
       " 979: 'act',\n",
       " 980: 'able',\n",
       " 981: 'possibly',\n",
       " 982: 'tape',\n",
       " 983: 'seed',\n",
       " 984: 'notice',\n",
       " 985: 'neighborhood',\n",
       " 986: 'larger',\n",
       " 987: 'spite',\n",
       " 988: 'may',\n",
       " 989: 'machine',\n",
       " 990: 'freedom',\n",
       " 991: 'fallen',\n",
       " 992: 'room',\n",
       " 993: 'dropped',\n",
       " 994: 'next',\n",
       " 995: 'dress',\n",
       " 996: 'separate',\n",
       " 997: 'hidden',\n",
       " 998: 'television',\n",
       " 999: 'rush',\n",
       " 1000: 'learn',\n",
       " ...}"
      ]
     },
     "execution_count": 56,
     "metadata": {},
     "output_type": "execute_result"
    }
   ],
   "source": [
    "tokenizer.index_word"
   ]
  },
  {
   "cell_type": "markdown",
   "id": "ceefd630",
   "metadata": {},
   "source": [
    "Transforme le texte en liste de tokens pour chaque texte :"
   ]
  },
  {
   "cell_type": "code",
   "execution_count": 57,
   "id": "76d2c242",
   "metadata": {},
   "outputs": [],
   "source": [
    "x_train_seq = tokenizer.texts_to_sequences(x_train)\n",
    "x_val_seq = tokenizer.texts_to_sequences(x_val)\n",
    "x_test_seq = tokenizer.texts_to_sequences(x_test)"
   ]
  },
  {
   "cell_type": "code",
   "execution_count": 58,
   "id": "5fb59a97",
   "metadata": {},
   "outputs": [
    {
     "data": {
      "text/plain": [
       "[1, 6, 943]"
      ]
     },
     "execution_count": 58,
     "metadata": {},
     "output_type": "execute_result"
    }
   ],
   "source": [
    "x_train_seq[0][:10]"
   ]
  },
  {
   "cell_type": "code",
   "execution_count": 59,
   "id": "b90ff79a",
   "metadata": {},
   "outputs": [],
   "source": [
    "from tensorflow.keras.preprocessing.sequence import pad_sequences\n",
    "from tensorflow.keras.preprocessing import sequence"
   ]
  },
  {
   "cell_type": "markdown",
   "id": "55d73aa4",
   "metadata": {},
   "source": [
    "On transforme ensuite les listes d'entiers en tenseur 2D d'entiers de la forme (sample, maxlen)"
   ]
  },
  {
   "cell_type": "code",
   "execution_count": 61,
   "id": "19d1e19a",
   "metadata": {},
   "outputs": [],
   "source": [
    "word_index = tokenizer.word_index\n",
    "\n",
    "maxlen = 300\n",
    "\n",
    "x_train_pad = sequence.pad_sequences(x_train_seq, maxlen=maxlen)\n",
    "x_val_pad = sequence.pad_sequences(x_val_seq, maxlen=maxlen)\n",
    "x_test_pad = sequence.pad_sequences(x_test_seq, maxlen=maxlen)"
   ]
  },
  {
   "cell_type": "code",
   "execution_count": 1,
   "id": "feb9775c",
   "metadata": {},
   "outputs": [
    {
     "ename": "NameError",
     "evalue": "name 'x_train_pad' is not defined",
     "output_type": "error",
     "traceback": [
      "\u001b[0;31m---------------------------------------------------------------------------\u001b[0m",
      "\u001b[0;31mNameError\u001b[0m                                 Traceback (most recent call last)",
      "Cell \u001b[0;32mIn[1], line 1\u001b[0m\n\u001b[0;32m----> 1\u001b[0m \u001b[43mx_train_pad\u001b[49m\n",
      "\u001b[0;31mNameError\u001b[0m: name 'x_train_pad' is not defined"
     ]
    }
   ],
   "source": [
    "x_train_pad"
   ]
  },
  {
   "cell_type": "markdown",
   "id": "1e1786f3",
   "metadata": {},
   "source": [
    "# Construisons notre premier modèle \n",
    "\n",
    "On va réaliser un modèle extrèmement basique mais on va déjà introduire la notion d'Embedding"
   ]
  },
  {
   "cell_type": "code",
   "execution_count": 63,
   "id": "04dff0b3",
   "metadata": {},
   "outputs": [],
   "source": [
    "from keras.models import Sequential\n",
    "from keras.layers import Embedding, Flatten, Dense"
   ]
  },
  {
   "cell_type": "code",
   "execution_count": 64,
   "id": "38bc095c",
   "metadata": {},
   "outputs": [],
   "source": [
    "model = Sequential()\n",
    "model.add(Embedding(10000, 8, input_length = maxlen))\n",
    "model.add(Flatten())\n",
    "model.add(Dense(10, activation='relu'))\n",
    "model.add(Dense(1, activation='sigmoid'))"
   ]
  },
  {
   "cell_type": "code",
   "execution_count": 65,
   "id": "5b96f592",
   "metadata": {},
   "outputs": [
    {
     "data": {
      "text/html": [
       "<pre style=\"white-space:pre;overflow-x:auto;line-height:normal;font-family:Menlo,'DejaVu Sans Mono',consolas,'Courier New',monospace\"><span style=\"font-weight: bold\">Model: \"sequential\"</span>\n",
       "</pre>\n"
      ],
      "text/plain": [
       "\u001b[1mModel: \"sequential\"\u001b[0m\n"
      ]
     },
     "metadata": {},
     "output_type": "display_data"
    },
    {
     "data": {
      "text/html": [
       "<pre style=\"white-space:pre;overflow-x:auto;line-height:normal;font-family:Menlo,'DejaVu Sans Mono',consolas,'Courier New',monospace\">┏━━━━━━━━━━━━━━━━━━━━━━━━━━━━━━━━━┳━━━━━━━━━━━━━━━━━━━━━━━━┳━━━━━━━━━━━━━━━┓\n",
       "┃<span style=\"font-weight: bold\"> Layer (type)                    </span>┃<span style=\"font-weight: bold\"> Output Shape           </span>┃<span style=\"font-weight: bold\">       Param # </span>┃\n",
       "┡━━━━━━━━━━━━━━━━━━━━━━━━━━━━━━━━━╇━━━━━━━━━━━━━━━━━━━━━━━━╇━━━━━━━━━━━━━━━┩\n",
       "│ embedding (<span style=\"color: #0087ff; text-decoration-color: #0087ff\">Embedding</span>)           │ ?                      │   <span style=\"color: #00af00; text-decoration-color: #00af00\">0</span> (unbuilt) │\n",
       "├─────────────────────────────────┼────────────────────────┼───────────────┤\n",
       "│ flatten (<span style=\"color: #0087ff; text-decoration-color: #0087ff\">Flatten</span>)               │ ?                      │   <span style=\"color: #00af00; text-decoration-color: #00af00\">0</span> (unbuilt) │\n",
       "├─────────────────────────────────┼────────────────────────┼───────────────┤\n",
       "│ dense (<span style=\"color: #0087ff; text-decoration-color: #0087ff\">Dense</span>)                   │ ?                      │   <span style=\"color: #00af00; text-decoration-color: #00af00\">0</span> (unbuilt) │\n",
       "├─────────────────────────────────┼────────────────────────┼───────────────┤\n",
       "│ dense_1 (<span style=\"color: #0087ff; text-decoration-color: #0087ff\">Dense</span>)                 │ ?                      │   <span style=\"color: #00af00; text-decoration-color: #00af00\">0</span> (unbuilt) │\n",
       "└─────────────────────────────────┴────────────────────────┴───────────────┘\n",
       "</pre>\n"
      ],
      "text/plain": [
       "┏━━━━━━━━━━━━━━━━━━━━━━━━━━━━━━━━━┳━━━━━━━━━━━━━━━━━━━━━━━━┳━━━━━━━━━━━━━━━┓\n",
       "┃\u001b[1m \u001b[0m\u001b[1mLayer (type)                   \u001b[0m\u001b[1m \u001b[0m┃\u001b[1m \u001b[0m\u001b[1mOutput Shape          \u001b[0m\u001b[1m \u001b[0m┃\u001b[1m \u001b[0m\u001b[1m      Param #\u001b[0m\u001b[1m \u001b[0m┃\n",
       "┡━━━━━━━━━━━━━━━━━━━━━━━━━━━━━━━━━╇━━━━━━━━━━━━━━━━━━━━━━━━╇━━━━━━━━━━━━━━━┩\n",
       "│ embedding (\u001b[38;5;33mEmbedding\u001b[0m)           │ ?                      │   \u001b[38;5;34m0\u001b[0m (unbuilt) │\n",
       "├─────────────────────────────────┼────────────────────────┼───────────────┤\n",
       "│ flatten (\u001b[38;5;33mFlatten\u001b[0m)               │ ?                      │   \u001b[38;5;34m0\u001b[0m (unbuilt) │\n",
       "├─────────────────────────────────┼────────────────────────┼───────────────┤\n",
       "│ dense (\u001b[38;5;33mDense\u001b[0m)                   │ ?                      │   \u001b[38;5;34m0\u001b[0m (unbuilt) │\n",
       "├─────────────────────────────────┼────────────────────────┼───────────────┤\n",
       "│ dense_1 (\u001b[38;5;33mDense\u001b[0m)                 │ ?                      │   \u001b[38;5;34m0\u001b[0m (unbuilt) │\n",
       "└─────────────────────────────────┴────────────────────────┴───────────────┘\n"
      ]
     },
     "metadata": {},
     "output_type": "display_data"
    },
    {
     "data": {
      "text/html": [
       "<pre style=\"white-space:pre;overflow-x:auto;line-height:normal;font-family:Menlo,'DejaVu Sans Mono',consolas,'Courier New',monospace\"><span style=\"font-weight: bold\"> Total params: </span><span style=\"color: #00af00; text-decoration-color: #00af00\">0</span> (0.00 B)\n",
       "</pre>\n"
      ],
      "text/plain": [
       "\u001b[1m Total params: \u001b[0m\u001b[38;5;34m0\u001b[0m (0.00 B)\n"
      ]
     },
     "metadata": {},
     "output_type": "display_data"
    },
    {
     "data": {
      "text/html": [
       "<pre style=\"white-space:pre;overflow-x:auto;line-height:normal;font-family:Menlo,'DejaVu Sans Mono',consolas,'Courier New',monospace\"><span style=\"font-weight: bold\"> Trainable params: </span><span style=\"color: #00af00; text-decoration-color: #00af00\">0</span> (0.00 B)\n",
       "</pre>\n"
      ],
      "text/plain": [
       "\u001b[1m Trainable params: \u001b[0m\u001b[38;5;34m0\u001b[0m (0.00 B)\n"
      ]
     },
     "metadata": {},
     "output_type": "display_data"
    },
    {
     "data": {
      "text/html": [
       "<pre style=\"white-space:pre;overflow-x:auto;line-height:normal;font-family:Menlo,'DejaVu Sans Mono',consolas,'Courier New',monospace\"><span style=\"font-weight: bold\"> Non-trainable params: </span><span style=\"color: #00af00; text-decoration-color: #00af00\">0</span> (0.00 B)\n",
       "</pre>\n"
      ],
      "text/plain": [
       "\u001b[1m Non-trainable params: \u001b[0m\u001b[38;5;34m0\u001b[0m (0.00 B)\n"
      ]
     },
     "metadata": {},
     "output_type": "display_data"
    }
   ],
   "source": [
    "model.summary()"
   ]
  },
  {
   "cell_type": "markdown",
   "id": "e837ee6a",
   "metadata": {},
   "source": [
    "A quoi correspond cette couche d'Embedding ? \n",
    "\n",
    "L'objectif est d'associer de manière logique un mot à un vecteur !\n",
    "10000 correspond au nombre de tokens, \n",
    "8 est la dimension des vecteurs.\n",
    "\n",
    "Voici un exemple :"
   ]
  },
  {
   "cell_type": "code",
   "execution_count": 66,
   "id": "96397f5e",
   "metadata": {},
   "outputs": [
    {
     "data": {
      "text/plain": [
       "<tf.Tensor: shape=(300, 8), dtype=float32, numpy=\n",
       "array([[-0.04514585, -0.03938425, -0.00239947, ...,  0.04175121,\n",
       "         0.0073568 ,  0.01903805],\n",
       "       [-0.04514585, -0.03938425, -0.00239947, ...,  0.04175121,\n",
       "         0.0073568 ,  0.01903805],\n",
       "       [-0.04514585, -0.03938425, -0.00239947, ...,  0.04175121,\n",
       "         0.0073568 ,  0.01903805],\n",
       "       ...,\n",
       "       [-0.00904281,  0.04435262,  0.00191953, ..., -0.0414137 ,\n",
       "        -0.0392107 ,  0.04151777],\n",
       "       [-0.02648737,  0.04891262, -0.00636001, ..., -0.01073537,\n",
       "         0.00763316, -0.00566732],\n",
       "       [-0.02873131,  0.0386592 ,  0.02455593, ...,  0.01573241,\n",
       "         0.0432188 , -0.03691918]], dtype=float32)>"
      ]
     },
     "execution_count": 66,
     "metadata": {},
     "output_type": "execute_result"
    }
   ],
   "source": [
    "Embedding(10000, 8, input_length = maxlen)(x_train_pad[0])"
   ]
  },
  {
   "cell_type": "code",
   "execution_count": 67,
   "id": "3e7fc618",
   "metadata": {},
   "outputs": [],
   "source": [
    "model.compile(optimizer=\"rmsprop\", loss=\"binary_crossentropy\", metrics=['acc'])"
   ]
  },
  {
   "cell_type": "code",
   "execution_count": 68,
   "id": "bf41eb0d",
   "metadata": {},
   "outputs": [
    {
     "name": "stdout",
     "output_type": "stream",
     "text": [
      "Epoch 1/10\n",
      "\u001b[1m619/619\u001b[0m \u001b[32m━━━━━━━━━━━━━━━━━━━━\u001b[0m\u001b[37m\u001b[0m \u001b[1m2s\u001b[0m 2ms/step - acc: 0.6918 - loss: 0.5787 - val_acc: 0.9317 - val_loss: 0.2612\n",
      "Epoch 2/10\n",
      "\u001b[1m619/619\u001b[0m \u001b[32m━━━━━━━━━━━━━━━━━━━━\u001b[0m\u001b[37m\u001b[0m \u001b[1m1s\u001b[0m 2ms/step - acc: 0.9330 - loss: 0.2133 - val_acc: 0.9440 - val_loss: 0.1512\n",
      "Epoch 3/10\n",
      "\u001b[1m619/619\u001b[0m \u001b[32m━━━━━━━━━━━━━━━━━━━━\u001b[0m\u001b[37m\u001b[0m \u001b[1m1s\u001b[0m 2ms/step - acc: 0.9491 - loss: 0.1508 - val_acc: 0.9503 - val_loss: 0.1357\n",
      "Epoch 4/10\n",
      "\u001b[1m619/619\u001b[0m \u001b[32m━━━━━━━━━━━━━━━━━━━━\u001b[0m\u001b[37m\u001b[0m \u001b[1m1s\u001b[0m 2ms/step - acc: 0.9553 - loss: 0.1266 - val_acc: 0.9555 - val_loss: 0.1315\n",
      "Epoch 5/10\n",
      "\u001b[1m619/619\u001b[0m \u001b[32m━━━━━━━━━━━━━━━━━━━━\u001b[0m\u001b[37m\u001b[0m \u001b[1m1s\u001b[0m 2ms/step - acc: 0.9574 - loss: 0.1201 - val_acc: 0.9559 - val_loss: 0.1245\n",
      "Epoch 6/10\n",
      "\u001b[1m619/619\u001b[0m \u001b[32m━━━━━━━━━━━━━━━━━━━━\u001b[0m\u001b[37m\u001b[0m \u001b[1m1s\u001b[0m 2ms/step - acc: 0.9607 - loss: 0.1123 - val_acc: 0.9563 - val_loss: 0.1216\n",
      "Epoch 7/10\n",
      "\u001b[1m619/619\u001b[0m \u001b[32m━━━━━━━━━━━━━━━━━━━━\u001b[0m\u001b[37m\u001b[0m \u001b[1m1s\u001b[0m 2ms/step - acc: 0.9628 - loss: 0.1040 - val_acc: 0.9578 - val_loss: 0.1245\n",
      "Epoch 8/10\n",
      "\u001b[1m619/619\u001b[0m \u001b[32m━━━━━━━━━━━━━━━━━━━━\u001b[0m\u001b[37m\u001b[0m \u001b[1m2s\u001b[0m 2ms/step - acc: 0.9616 - loss: 0.1057 - val_acc: 0.9578 - val_loss: 0.1192\n",
      "Epoch 9/10\n",
      "\u001b[1m619/619\u001b[0m \u001b[32m━━━━━━━━━━━━━━━━━━━━\u001b[0m\u001b[37m\u001b[0m \u001b[1m1s\u001b[0m 2ms/step - acc: 0.9627 - loss: 0.1012 - val_acc: 0.9588 - val_loss: 0.1191\n",
      "Epoch 10/10\n",
      "\u001b[1m619/619\u001b[0m \u001b[32m━━━━━━━━━━━━━━━━━━━━\u001b[0m\u001b[37m\u001b[0m \u001b[1m1s\u001b[0m 2ms/step - acc: 0.9621 - loss: 0.0999 - val_acc: 0.9596 - val_loss: 0.1185\n"
     ]
    }
   ],
   "source": [
    "history = model.fit(x_train_pad, y_train, epochs=10, batch_size=32, validation_data=[x_val_pad, y_val])"
   ]
  },
  {
   "cell_type": "markdown",
   "id": "ab3d73fb",
   "metadata": {},
   "source": [
    "# Données de test ? "
   ]
  },
  {
   "cell_type": "code",
   "execution_count": 69,
   "id": "ae5e4fb9",
   "metadata": {},
   "outputs": [
    {
     "name": "stdout",
     "output_type": "stream",
     "text": [
      "\u001b[1m194/194\u001b[0m \u001b[32m━━━━━━━━━━━━━━━━━━━━\u001b[0m\u001b[37m\u001b[0m \u001b[1m0s\u001b[0m 777us/step - acc: 0.9641 - loss: 0.1121\n"
     ]
    }
   ],
   "source": [
    "loss, acc = model.evaluate(x_test_pad, y_test)"
   ]
  },
  {
   "cell_type": "code",
   "execution_count": 70,
   "id": "5c4cc0d4",
   "metadata": {},
   "outputs": [
    {
     "name": "stdout",
     "output_type": "stream",
     "text": [
      "La perte est de 0.11355379968881607 et l'accuracy 0.9645860195159912.\n"
     ]
    }
   ],
   "source": [
    "print(f\"La perte est de {loss} et l'accuracy {acc}.\")"
   ]
  },
  {
   "cell_type": "markdown",
   "id": "5dc24d49",
   "metadata": {},
   "source": [
    "# Visualisation rapide"
   ]
  },
  {
   "cell_type": "code",
   "execution_count": 71,
   "id": "70482903",
   "metadata": {},
   "outputs": [],
   "source": [
    "import matplotlib.pyplot as plt"
   ]
  },
  {
   "cell_type": "code",
   "execution_count": 72,
   "id": "3137dc07",
   "metadata": {},
   "outputs": [
    {
     "data": {
      "text/plain": [
       "Text(0, 0.5, 'Loss & Acc')"
      ]
     },
     "execution_count": 72,
     "metadata": {},
     "output_type": "execute_result"
    },
    {
     "data": {
      "image/png": "[encoded data removed]",
      "text/plain": [
       "<Figure size 432x288 with 1 Axes>"
      ]
     },
     "metadata": {
      "needs_background": "light"
     },
     "output_type": "display_data"
    }
   ],
   "source": [
    "plt.plot(range(10),history.history['loss'], label=\"loss_train\", marker='x')\n",
    "plt.plot(range(10),history.history['val_loss'], label=\"loss_val\", marker='o')\n",
    "plt.plot(range(10),history.history['acc'], label=\"acc_train\", marker='x')\n",
    "plt.plot(range(10),history.history['val_acc'], label=\"acc_val\", marker='o')\n",
    "plt.legend()\n",
    "plt.xlabel('Epochs')\n",
    "plt.ylabel('Loss & Acc')"
   ]
  },
  {
   "cell_type": "markdown",
   "id": "e331e109",
   "metadata": {},
   "source": [
    "# Comment aller plus loin ? \n",
    "\n",
    "Nous allons voir plusieurs pistes :\n",
    "+ utiliser des embeddings de mots pré-entrainés : GloVe, Fastext, Word2Vec,\n",
    "+ utiliser une architecture de réseaux ou des neurones plus appropriés !\n"
   ]
  },
  {
   "cell_type": "markdown",
   "id": "8130aa98",
   "metadata": {},
   "source": [
    "## *Utiliser des embeddings pré-entrainés !*"
   ]
  },
  {
   "cell_type": "markdown",
   "id": "8a431068",
   "metadata": {},
   "source": [
    "## 1 . Glove\n",
    "\n",
    "\"The GloVe model is trained on the non-zero entries of a global word-word co-occurrence matrix, which tabulates how frequently words co-occur with one another in a given corpus. Populating this matrix requires a single pass through the entire corpus to collect the statistics. For large corpora, this pass can be computationally expensive, but it is a one-time up-front cost. Subsequent training iterations are much faster because the number of non-zero matrix entries is typically much smaller than the total number of words in the corpus.\n",
    "\n",
    "\n",
    "The tools provided in this package automate the collection and preparation of co-occurrence statistics for input into the model. The core training code is separated from these preprocessing steps and can be executed independently.\"\n",
    "\n",
    "https://nlp.stanford.edu/projects/glove/"
   ]
  },
  {
   "cell_type": "code",
   "execution_count": 74,
   "id": "e6a94172",
   "metadata": {},
   "outputs": [
    {
     "name": "stdout",
     "output_type": "stream",
     "text": [
      "loading word embeddings...\n"
     ]
    },
    {
     "name": "stderr",
     "output_type": "stream",
     "text": [
      "1193518it [00:54, 22084.84it/s]"
     ]
    },
    {
     "name": "stdout",
     "output_type": "stream",
     "text": [
      "found 1193515 word vectors\n"
     ]
    },
    {
     "name": "stderr",
     "output_type": "stream",
     "text": [
      "\n"
     ]
    }
   ],
   "source": [
    "import codecs\n",
    "\n",
    "print('loading word embeddings...')\n",
    "\n",
    "embeddings_index = {}\n",
    "f = codecs.open('glove.twitter.27B/glove.twitter.27B.200d.txt', encoding='utf-8')\n",
    "\n",
    "for line in tqdm(f):\n",
    "    values = line.rstrip().rsplit(' ')\n",
    "    word = values[0]\n",
    "    coefs = np.asarray(values[1:], dtype='float32')\n",
    "    embeddings_index[word] = coefs\n",
    "f.close()\n",
    "\n",
    "print('found %s word vectors' % len(embeddings_index))\n"
   ]
  },
  {
   "cell_type": "code",
   "execution_count": 75,
   "id": "c89b3979",
   "metadata": {},
   "outputs": [],
   "source": [
    "from keras.layers import Dropout"
   ]
  },
  {
   "cell_type": "code",
   "execution_count": 76,
   "id": "b0575d13",
   "metadata": {},
   "outputs": [
    {
     "name": "stdout",
     "output_type": "stream",
     "text": [
      "number of null word embeddings: 6310\n"
     ]
    },
    {
     "data": {
      "text/html": [
       "<pre style=\"white-space:pre;overflow-x:auto;line-height:normal;font-family:Menlo,'DejaVu Sans Mono',consolas,'Courier New',monospace\"><span style=\"font-weight: bold\">Model: \"sequential_1\"</span>\n",
       "</pre>\n"
      ],
      "text/plain": [
       "\u001b[1mModel: \"sequential_1\"\u001b[0m\n"
      ]
     },
     "metadata": {},
     "output_type": "display_data"
    },
    {
     "data": {
      "text/html": [
       "<pre style=\"white-space:pre;overflow-x:auto;line-height:normal;font-family:Menlo,'DejaVu Sans Mono',consolas,'Courier New',monospace\">┏━━━━━━━━━━━━━━━━━━━━━━━━━━━━━━━━━┳━━━━━━━━━━━━━━━━━━━━━━━━┳━━━━━━━━━━━━━━━┓\n",
       "┃<span style=\"font-weight: bold\"> Layer (type)                    </span>┃<span style=\"font-weight: bold\"> Output Shape           </span>┃<span style=\"font-weight: bold\">       Param # </span>┃\n",
       "┡━━━━━━━━━━━━━━━━━━━━━━━━━━━━━━━━━╇━━━━━━━━━━━━━━━━━━━━━━━━╇━━━━━━━━━━━━━━━┩\n",
       "│ embedding_2 (<span style=\"color: #0087ff; text-decoration-color: #0087ff\">Embedding</span>)         │ ?                      │     <span style=\"color: #00af00; text-decoration-color: #00af00\">2,000,000</span> │\n",
       "├─────────────────────────────────┼────────────────────────┼───────────────┤\n",
       "│ flatten_1 (<span style=\"color: #0087ff; text-decoration-color: #0087ff\">Flatten</span>)             │ ?                      │   <span style=\"color: #00af00; text-decoration-color: #00af00\">0</span> (unbuilt) │\n",
       "├─────────────────────────────────┼────────────────────────┼───────────────┤\n",
       "│ dense_2 (<span style=\"color: #0087ff; text-decoration-color: #0087ff\">Dense</span>)                 │ ?                      │   <span style=\"color: #00af00; text-decoration-color: #00af00\">0</span> (unbuilt) │\n",
       "├─────────────────────────────────┼────────────────────────┼───────────────┤\n",
       "│ dense_3 (<span style=\"color: #0087ff; text-decoration-color: #0087ff\">Dense</span>)                 │ ?                      │   <span style=\"color: #00af00; text-decoration-color: #00af00\">0</span> (unbuilt) │\n",
       "└─────────────────────────────────┴────────────────────────┴───────────────┘\n",
       "</pre>\n"
      ],
      "text/plain": [
       "┏━━━━━━━━━━━━━━━━━━━━━━━━━━━━━━━━━┳━━━━━━━━━━━━━━━━━━━━━━━━┳━━━━━━━━━━━━━━━┓\n",
       "┃\u001b[1m \u001b[0m\u001b[1mLayer (type)                   \u001b[0m\u001b[1m \u001b[0m┃\u001b[1m \u001b[0m\u001b[1mOutput Shape          \u001b[0m\u001b[1m \u001b[0m┃\u001b[1m \u001b[0m\u001b[1m      Param #\u001b[0m\u001b[1m \u001b[0m┃\n",
       "┡━━━━━━━━━━━━━━━━━━━━━━━━━━━━━━━━━╇━━━━━━━━━━━━━━━━━━━━━━━━╇━━━━━━━━━━━━━━━┩\n",
       "│ embedding_2 (\u001b[38;5;33mEmbedding\u001b[0m)         │ ?                      │     \u001b[38;5;34m2,000,000\u001b[0m │\n",
       "├─────────────────────────────────┼────────────────────────┼───────────────┤\n",
       "│ flatten_1 (\u001b[38;5;33mFlatten\u001b[0m)             │ ?                      │   \u001b[38;5;34m0\u001b[0m (unbuilt) │\n",
       "├─────────────────────────────────┼────────────────────────┼───────────────┤\n",
       "│ dense_2 (\u001b[38;5;33mDense\u001b[0m)                 │ ?                      │   \u001b[38;5;34m0\u001b[0m (unbuilt) │\n",
       "├─────────────────────────────────┼────────────────────────┼───────────────┤\n",
       "│ dense_3 (\u001b[38;5;33mDense\u001b[0m)                 │ ?                      │   \u001b[38;5;34m0\u001b[0m (unbuilt) │\n",
       "└─────────────────────────────────┴────────────────────────┴───────────────┘\n"
      ]
     },
     "metadata": {},
     "output_type": "display_data"
    },
    {
     "data": {
      "text/html": [
       "<pre style=\"white-space:pre;overflow-x:auto;line-height:normal;font-family:Menlo,'DejaVu Sans Mono',consolas,'Courier New',monospace\"><span style=\"font-weight: bold\"> Total params: </span><span style=\"color: #00af00; text-decoration-color: #00af00\">2,000,000</span> (7.63 MB)\n",
       "</pre>\n"
      ],
      "text/plain": [
       "\u001b[1m Total params: \u001b[0m\u001b[38;5;34m2,000,000\u001b[0m (7.63 MB)\n"
      ]
     },
     "metadata": {},
     "output_type": "display_data"
    },
    {
     "data": {
      "text/html": [
       "<pre style=\"white-space:pre;overflow-x:auto;line-height:normal;font-family:Menlo,'DejaVu Sans Mono',consolas,'Courier New',monospace\"><span style=\"font-weight: bold\"> Trainable params: </span><span style=\"color: #00af00; text-decoration-color: #00af00\">0</span> (0.00 B)\n",
       "</pre>\n"
      ],
      "text/plain": [
       "\u001b[1m Trainable params: \u001b[0m\u001b[38;5;34m0\u001b[0m (0.00 B)\n"
      ]
     },
     "metadata": {},
     "output_type": "display_data"
    },
    {
     "data": {
      "text/html": [
       "<pre style=\"white-space:pre;overflow-x:auto;line-height:normal;font-family:Menlo,'DejaVu Sans Mono',consolas,'Courier New',monospace\"><span style=\"font-weight: bold\"> Non-trainable params: </span><span style=\"color: #00af00; text-decoration-color: #00af00\">2,000,000</span> (7.63 MB)\n",
       "</pre>\n"
      ],
      "text/plain": [
       "\u001b[1m Non-trainable params: \u001b[0m\u001b[38;5;34m2,000,000\u001b[0m (7.63 MB)\n"
      ]
     },
     "metadata": {},
     "output_type": "display_data"
    }
   ],
   "source": [
    "words_not_found = []\n",
    "embed_dim = 200 \n",
    "MAX_NB_WORDS = 10000\n",
    "max_seq_len = 300\n",
    "nb_words = min(MAX_NB_WORDS, len(word_index)+1)\n",
    "embedding_matrix = np.zeros((nb_words, embed_dim))\n",
    "\n",
    "for word, i in word_index.items():\n",
    "    if i >= nb_words:\n",
    "        continue\n",
    "    embedding_vector = embeddings_index.get(word)\n",
    "\n",
    "    if (embedding_vector is not None) and len(embedding_vector) > 0:\n",
    "        embedding_matrix[i] = embedding_vector\n",
    "    else:\n",
    "        words_not_found.append(word)\n",
    "print('number of null word embeddings: %d' %\n",
    "      np.sum(np.sum(embedding_matrix, axis=1) == 0))\n",
    "      \n",
    "      \n",
    "model_glove = tf.keras.Sequential()\n",
    "\n",
    "model_glove.add(Embedding(nb_words,embed_dim,input_length=max_seq_len, weights=[embedding_matrix],trainable=False))\n",
    "model_glove.add(Flatten())\n",
    "model_glove.add(Dense(32,activation='relu'))\n",
    "model_glove.add(Dense(1,activation='sigmoid'))\n",
    "model_glove.summary()     "
   ]
  },
  {
   "cell_type": "code",
   "execution_count": 77,
   "id": "8625c988",
   "metadata": {},
   "outputs": [],
   "source": [
    "from tensorflow.keras.callbacks import EarlyStopping\n",
    "es_callback = EarlyStopping(monitor='val_loss', patience=5)"
   ]
  },
  {
   "cell_type": "code",
   "execution_count": 78,
   "id": "25fdb07b",
   "metadata": {},
   "outputs": [
    {
     "name": "stdout",
     "output_type": "stream",
     "text": [
      "Epoch 1/15\n",
      "\u001b[1m1237/1237\u001b[0m \u001b[32m━━━━━━━━━━━━━━━━━━━━\u001b[0m\u001b[37m\u001b[0m \u001b[1m2s\u001b[0m 2ms/step - acc: 0.9672 - loss: 0.0904 - val_acc: 0.9588 - val_loss: 0.1349\n",
      "Epoch 2/15\n",
      "\u001b[1m1237/1237\u001b[0m \u001b[32m━━━━━━━━━━━━━━━━━━━━\u001b[0m\u001b[37m\u001b[0m \u001b[1m2s\u001b[0m 2ms/step - acc: 0.9701 - loss: 0.0877 - val_acc: 0.9590 - val_loss: 0.1429\n",
      "Epoch 3/15\n",
      "\u001b[1m1237/1237\u001b[0m \u001b[32m━━━━━━━━━━━━━━━━━━━━\u001b[0m\u001b[37m\u001b[0m \u001b[1m2s\u001b[0m 2ms/step - acc: 0.9722 - loss: 0.0850 - val_acc: 0.9598 - val_loss: 0.1468\n",
      "Epoch 4/15\n",
      "\u001b[1m1237/1237\u001b[0m \u001b[32m━━━━━━━━━━━━━━━━━━━━\u001b[0m\u001b[37m\u001b[0m \u001b[1m2s\u001b[0m 2ms/step - acc: 0.9729 - loss: 0.0828 - val_acc: 0.9600 - val_loss: 0.1366\n",
      "Epoch 5/15\n",
      "\u001b[1m1237/1237\u001b[0m \u001b[32m━━━━━━━━━━━━━━━━━━━━\u001b[0m\u001b[37m\u001b[0m \u001b[1m2s\u001b[0m 2ms/step - acc: 0.9731 - loss: 0.0808 - val_acc: 0.9600 - val_loss: 0.1324\n",
      "Epoch 6/15\n",
      "\u001b[1m1237/1237\u001b[0m \u001b[32m━━━━━━━━━━━━━━━━━━━━\u001b[0m\u001b[37m\u001b[0m \u001b[1m2s\u001b[0m 2ms/step - acc: 0.9735 - loss: 0.0794 - val_acc: 0.9600 - val_loss: 0.1317\n",
      "Epoch 7/15\n",
      "\u001b[1m1237/1237\u001b[0m \u001b[32m━━━━━━━━━━━━━━━━━━━━\u001b[0m\u001b[37m\u001b[0m \u001b[1m2s\u001b[0m 2ms/step - acc: 0.9739 - loss: 0.0782 - val_acc: 0.9600 - val_loss: 0.1322\n",
      "Epoch 8/15\n",
      "\u001b[1m1237/1237\u001b[0m \u001b[32m━━━━━━━━━━━━━━━━━━━━\u001b[0m\u001b[37m\u001b[0m \u001b[1m2s\u001b[0m 2ms/step - acc: 0.9740 - loss: 0.0772 - val_acc: 0.9600 - val_loss: 0.1326\n",
      "Epoch 9/15\n",
      "\u001b[1m1237/1237\u001b[0m \u001b[32m━━━━━━━━━━━━━━━━━━━━\u001b[0m\u001b[37m\u001b[0m \u001b[1m2s\u001b[0m 2ms/step - acc: 0.9741 - loss: 0.0762 - val_acc: 0.9600 - val_loss: 0.1300\n",
      "Epoch 10/15\n",
      "\u001b[1m1237/1237\u001b[0m \u001b[32m━━━━━━━━━━━━━━━━━━━━\u001b[0m\u001b[37m\u001b[0m \u001b[1m2s\u001b[0m 2ms/step - acc: 0.9744 - loss: 0.0751 - val_acc: 0.9598 - val_loss: 0.1302\n",
      "Epoch 11/15\n",
      "\u001b[1m1237/1237\u001b[0m \u001b[32m━━━━━━━━━━━━━━━━━━━━\u001b[0m\u001b[37m\u001b[0m \u001b[1m2s\u001b[0m 2ms/step - acc: 0.9744 - loss: 0.0745 - val_acc: 0.9598 - val_loss: 0.1282\n",
      "Epoch 12/15\n",
      "\u001b[1m1237/1237\u001b[0m \u001b[32m━━━━━━━━━━━━━━━━━━━━\u001b[0m\u001b[37m\u001b[0m \u001b[1m2s\u001b[0m 2ms/step - acc: 0.9743 - loss: 0.0735 - val_acc: 0.9598 - val_loss: 0.1287\n",
      "Epoch 13/15\n",
      "\u001b[1m1237/1237\u001b[0m \u001b[32m━━━━━━━━━━━━━━━━━━━━\u001b[0m\u001b[37m\u001b[0m \u001b[1m2s\u001b[0m 2ms/step - acc: 0.9742 - loss: 0.0732 - val_acc: 0.9596 - val_loss: 0.1362\n",
      "Epoch 14/15\n",
      "\u001b[1m1237/1237\u001b[0m \u001b[32m━━━━━━━━━━━━━━━━━━━━\u001b[0m\u001b[37m\u001b[0m \u001b[1m2s\u001b[0m 2ms/step - acc: 0.9745 - loss: 0.0732 - val_acc: 0.9596 - val_loss: 0.1320\n",
      "Epoch 15/15\n",
      "\u001b[1m1237/1237\u001b[0m \u001b[32m━━━━━━━━━━━━━━━━━━━━\u001b[0m\u001b[37m\u001b[0m \u001b[1m2s\u001b[0m 2ms/step - acc: 0.9745 - loss: 0.0726 - val_acc: 0.9596 - val_loss: 0.1362\n"
     ]
    }
   ],
   "source": [
    "model_glove.compile(loss='binary_crossentropy', optimizer='adam', metrics=['accuracy'])\n",
    "\n",
    "history_glove = model.fit(x_train_pad, y_train, batch_size=16,\n",
    "          epochs=15, validation_data=(x_val_pad, y_val), callbacks=[es_callback], shuffle=False)"
   ]
  },
  {
   "cell_type": "code",
   "execution_count": 79,
   "id": "19ee6323",
   "metadata": {},
   "outputs": [
    {
     "name": "stdout",
     "output_type": "stream",
     "text": [
      "\u001b[1m194/194\u001b[0m \u001b[32m━━━━━━━━━━━━━━━━━━━━\u001b[0m\u001b[37m\u001b[0m \u001b[1m1s\u001b[0m 4ms/step - accuracy: 0.5407 - loss: 0.6947\n",
      "La perte est de 0.6949640512466431 et l'accuracy 0.541073739528656.\n"
     ]
    }
   ],
   "source": [
    "loss, acc = model_glove.evaluate(x_test_pad, y_test)\n",
    "\n",
    "print(f\"La perte est de {loss} et l'accuracy {acc}.\")"
   ]
  },
  {
   "cell_type": "code",
   "execution_count": 81,
   "id": "6df95b74",
   "metadata": {},
   "outputs": [
    {
     "data": {
      "text/plain": [
       "Text(0, 0.5, 'Loss & Acc')"
      ]
     },
     "execution_count": 81,
     "metadata": {},
     "output_type": "execute_result"
    },
    {
     "data": {
      "image/png": "[encoded data removed]",
      "text/plain": [
       "<Figure size 432x288 with 1 Axes>"
      ]
     },
     "metadata": {
      "needs_background": "light"
     },
     "output_type": "display_data"
    }
   ],
   "source": [
    "plt.plot(range(15),history_glove.history['loss'], label=\"loss_train\", marker='x')\n",
    "plt.plot(range(15),history_glove.history['val_loss'], label=\"loss_val\", marker='o')\n",
    "plt.plot(range(15),history_glove.history['acc'], label=\"acc_train\", marker='x')\n",
    "plt.plot(range(15),history_glove.history['val_acc'], label=\"acc_val\", marker='o')\n",
    "plt.legend()\n",
    "plt.xlabel('Epochs')\n",
    "plt.ylabel('Loss & Acc')"
   ]
  },
  {
   "cell_type": "markdown",
   "id": "ead9fab2",
   "metadata": {},
   "source": [
    "## 2. Fastext\n",
    "\n",
    "Voir ici :\n",
    "https://fasttext.cc/ "
   ]
  },
  {
   "cell_type": "code",
   "execution_count": 85,
   "id": "2d07cc8c",
   "metadata": {},
   "outputs": [
    {
     "name": "stdout",
     "output_type": "stream",
     "text": [
      "loading word embeddings...\n"
     ]
    },
    {
     "name": "stderr",
     "output_type": "stream",
     "text": [
      "999995it [00:43, 23250.08it/s]"
     ]
    },
    {
     "name": "stdout",
     "output_type": "stream",
     "text": [
      "found 999995 word vectors\n",
      "number of null word embeddings: 7014\n"
     ]
    },
    {
     "name": "stderr",
     "output_type": "stream",
     "text": [
      "\n"
     ]
    },
    {
     "data": {
      "text/html": [
       "<pre style=\"white-space:pre;overflow-x:auto;line-height:normal;font-family:Menlo,'DejaVu Sans Mono',consolas,'Courier New',monospace\"><span style=\"font-weight: bold\">Model: \"sequential_2\"</span>\n",
       "</pre>\n"
      ],
      "text/plain": [
       "\u001b[1mModel: \"sequential_2\"\u001b[0m\n"
      ]
     },
     "metadata": {},
     "output_type": "display_data"
    },
    {
     "data": {
      "text/html": [
       "<pre style=\"white-space:pre;overflow-x:auto;line-height:normal;font-family:Menlo,'DejaVu Sans Mono',consolas,'Courier New',monospace\">┏━━━━━━━━━━━━━━━━━━━━━━━━━━━━━━━━━┳━━━━━━━━━━━━━━━━━━━━━━━━┳━━━━━━━━━━━━━━━┓\n",
       "┃<span style=\"font-weight: bold\"> Layer (type)                    </span>┃<span style=\"font-weight: bold\"> Output Shape           </span>┃<span style=\"font-weight: bold\">       Param # </span>┃\n",
       "┡━━━━━━━━━━━━━━━━━━━━━━━━━━━━━━━━━╇━━━━━━━━━━━━━━━━━━━━━━━━╇━━━━━━━━━━━━━━━┩\n",
       "│ embedding_3 (<span style=\"color: #0087ff; text-decoration-color: #0087ff\">Embedding</span>)         │ ?                      │     <span style=\"color: #00af00; text-decoration-color: #00af00\">3,000,000</span> │\n",
       "├─────────────────────────────────┼────────────────────────┼───────────────┤\n",
       "│ flatten_2 (<span style=\"color: #0087ff; text-decoration-color: #0087ff\">Flatten</span>)             │ ?                      │   <span style=\"color: #00af00; text-decoration-color: #00af00\">0</span> (unbuilt) │\n",
       "├─────────────────────────────────┼────────────────────────┼───────────────┤\n",
       "│ dense_4 (<span style=\"color: #0087ff; text-decoration-color: #0087ff\">Dense</span>)                 │ ?                      │   <span style=\"color: #00af00; text-decoration-color: #00af00\">0</span> (unbuilt) │\n",
       "├─────────────────────────────────┼────────────────────────┼───────────────┤\n",
       "│ dropout (<span style=\"color: #0087ff; text-decoration-color: #0087ff\">Dropout</span>)               │ ?                      │   <span style=\"color: #00af00; text-decoration-color: #00af00\">0</span> (unbuilt) │\n",
       "├─────────────────────────────────┼────────────────────────┼───────────────┤\n",
       "│ dense_5 (<span style=\"color: #0087ff; text-decoration-color: #0087ff\">Dense</span>)                 │ ?                      │   <span style=\"color: #00af00; text-decoration-color: #00af00\">0</span> (unbuilt) │\n",
       "└─────────────────────────────────┴────────────────────────┴───────────────┘\n",
       "</pre>\n"
      ],
      "text/plain": [
       "┏━━━━━━━━━━━━━━━━━━━━━━━━━━━━━━━━━┳━━━━━━━━━━━━━━━━━━━━━━━━┳━━━━━━━━━━━━━━━┓\n",
       "┃\u001b[1m \u001b[0m\u001b[1mLayer (type)                   \u001b[0m\u001b[1m \u001b[0m┃\u001b[1m \u001b[0m\u001b[1mOutput Shape          \u001b[0m\u001b[1m \u001b[0m┃\u001b[1m \u001b[0m\u001b[1m      Param #\u001b[0m\u001b[1m \u001b[0m┃\n",
       "┡━━━━━━━━━━━━━━━━━━━━━━━━━━━━━━━━━╇━━━━━━━━━━━━━━━━━━━━━━━━╇━━━━━━━━━━━━━━━┩\n",
       "│ embedding_3 (\u001b[38;5;33mEmbedding\u001b[0m)         │ ?                      │     \u001b[38;5;34m3,000,000\u001b[0m │\n",
       "├─────────────────────────────────┼────────────────────────┼───────────────┤\n",
       "│ flatten_2 (\u001b[38;5;33mFlatten\u001b[0m)             │ ?                      │   \u001b[38;5;34m0\u001b[0m (unbuilt) │\n",
       "├─────────────────────────────────┼────────────────────────┼───────────────┤\n",
       "│ dense_4 (\u001b[38;5;33mDense\u001b[0m)                 │ ?                      │   \u001b[38;5;34m0\u001b[0m (unbuilt) │\n",
       "├─────────────────────────────────┼────────────────────────┼───────────────┤\n",
       "│ dropout (\u001b[38;5;33mDropout\u001b[0m)               │ ?                      │   \u001b[38;5;34m0\u001b[0m (unbuilt) │\n",
       "├─────────────────────────────────┼────────────────────────┼───────────────┤\n",
       "│ dense_5 (\u001b[38;5;33mDense\u001b[0m)                 │ ?                      │   \u001b[38;5;34m0\u001b[0m (unbuilt) │\n",
       "└─────────────────────────────────┴────────────────────────┴───────────────┘\n"
      ]
     },
     "metadata": {},
     "output_type": "display_data"
    },
    {
     "data": {
      "text/html": [
       "<pre style=\"white-space:pre;overflow-x:auto;line-height:normal;font-family:Menlo,'DejaVu Sans Mono',consolas,'Courier New',monospace\"><span style=\"font-weight: bold\"> Total params: </span><span style=\"color: #00af00; text-decoration-color: #00af00\">3,000,000</span> (11.44 MB)\n",
       "</pre>\n"
      ],
      "text/plain": [
       "\u001b[1m Total params: \u001b[0m\u001b[38;5;34m3,000,000\u001b[0m (11.44 MB)\n"
      ]
     },
     "metadata": {},
     "output_type": "display_data"
    },
    {
     "data": {
      "text/html": [
       "<pre style=\"white-space:pre;overflow-x:auto;line-height:normal;font-family:Menlo,'DejaVu Sans Mono',consolas,'Courier New',monospace\"><span style=\"font-weight: bold\"> Trainable params: </span><span style=\"color: #00af00; text-decoration-color: #00af00\">0</span> (0.00 B)\n",
       "</pre>\n"
      ],
      "text/plain": [
       "\u001b[1m Trainable params: \u001b[0m\u001b[38;5;34m0\u001b[0m (0.00 B)\n"
      ]
     },
     "metadata": {},
     "output_type": "display_data"
    },
    {
     "data": {
      "text/html": [
       "<pre style=\"white-space:pre;overflow-x:auto;line-height:normal;font-family:Menlo,'DejaVu Sans Mono',consolas,'Courier New',monospace\"><span style=\"font-weight: bold\"> Non-trainable params: </span><span style=\"color: #00af00; text-decoration-color: #00af00\">3,000,000</span> (11.44 MB)\n",
       "</pre>\n"
      ],
      "text/plain": [
       "\u001b[1m Non-trainable params: \u001b[0m\u001b[38;5;34m3,000,000\u001b[0m (11.44 MB)\n"
      ]
     },
     "metadata": {},
     "output_type": "display_data"
    }
   ],
   "source": [
    "print('loading word embeddings...')\n",
    "\n",
    "embeddings_index = {}\n",
    "f = codecs.open('wiki-news-300d-1M-subword.vec', encoding='utf-8')\n",
    "\n",
    "for line in tqdm(f):\n",
    "    values = line.rstrip().rsplit(' ')\n",
    "    word = values[0]\n",
    "    coefs = np.asarray(values[1:], dtype='float32')\n",
    "    embeddings_index[word] = coefs\n",
    "f.close()\n",
    "\n",
    "print('found %s word vectors' % len(embeddings_index))\n",
    "\n",
    "\n",
    "words_not_found = []\n",
    "embed_dim = 300 \n",
    "nb_words = min(MAX_NB_WORDS, len(word_index)+1)\n",
    "embedding_matrix = np.zeros((nb_words, embed_dim))\n",
    "\n",
    "for word, i in word_index.items():\n",
    "    if i >= nb_words:\n",
    "        continue\n",
    "    embedding_vector = embeddings_index.get(word)\n",
    "\n",
    "    if (embedding_vector is not None) and len(embedding_vector) > 0:\n",
    "        embedding_matrix[i] = embedding_vector\n",
    "    else:\n",
    "        words_not_found.append(word)\n",
    "print('number of null word embeddings: %d' %\n",
    "      np.sum(np.sum(embedding_matrix, axis=1) == 0))\n",
    "      \n",
    "      \n",
    "#training params\n",
    "batch_size = 16 \n",
    "num_epochs = 40\n",
    "\n",
    "#model parameters\n",
    "num_filters = 64 \n",
    "embed_dim = 300 \n",
    "weight_decay = 1e-4\n",
    "\n",
    "model_fastext = tf.keras.Sequential()\n",
    "\n",
    "model_fastext.add(Embedding(nb_words,embed_dim,input_length=max_seq_len, weights=[embedding_matrix],trainable=False))\n",
    "model_fastext.add(Flatten())\n",
    "model_fastext.add(Dense(32,activation='relu'))\n",
    "model_fastext.add(Dropout(0.4))\n",
    "model_fastext.add(Dense(1,activation='sigmoid'))\n",
    "model_fastext.summary()  "
   ]
  },
  {
   "cell_type": "code",
   "execution_count": 86,
   "id": "bedbaa5b",
   "metadata": {},
   "outputs": [
    {
     "name": "stdout",
     "output_type": "stream",
     "text": [
      "Epoch 1/15\n",
      "\u001b[1m1237/1237\u001b[0m \u001b[32m━━━━━━━━━━━━━━━━━━━━\u001b[0m\u001b[37m\u001b[0m \u001b[1m47s\u001b[0m 37ms/step - accuracy: 0.8591 - loss: 0.3756 - val_accuracy: 0.9390 - val_loss: 0.1710\n",
      "Epoch 2/15\n",
      "\u001b[1m1237/1237\u001b[0m \u001b[32m━━━━━━━━━━━━━━━━━━━━\u001b[0m\u001b[37m\u001b[0m \u001b[1m45s\u001b[0m 36ms/step - accuracy: 0.9486 - loss: 0.1570 - val_accuracy: 0.9493 - val_loss: 0.1484\n",
      "Epoch 3/15\n",
      "\u001b[1m1237/1237\u001b[0m \u001b[32m━━━━━━━━━━━━━━━━━━━━\u001b[0m\u001b[37m\u001b[0m \u001b[1m43s\u001b[0m 35ms/step - accuracy: 0.9546 - loss: 0.1362 - val_accuracy: 0.9483 - val_loss: 0.1408\n",
      "Epoch 4/15\n",
      "\u001b[1m1237/1237\u001b[0m \u001b[32m━━━━━━━━━━━━━━━━━━━━\u001b[0m\u001b[37m\u001b[0m \u001b[1m46s\u001b[0m 37ms/step - accuracy: 0.9546 - loss: 0.1300 - val_accuracy: 0.9523 - val_loss: 0.1369\n",
      "Epoch 5/15\n",
      "\u001b[1m1237/1237\u001b[0m \u001b[32m━━━━━━━━━━━━━━━━━━━━\u001b[0m\u001b[37m\u001b[0m \u001b[1m80s\u001b[0m 36ms/step - accuracy: 0.9578 - loss: 0.1242 - val_accuracy: 0.9553 - val_loss: 0.1324\n"
     ]
    }
   ],
   "source": [
    "model_fastext.compile(loss='binary_crossentropy', optimizer='adam', metrics=['accuracy'])\n",
    "\n",
    "history_fastext = model_fastext.fit(x_train_pad, y_train, batch_size=16,\n",
    "          epochs=15, validation_data=(x_val_pad, y_val), callbacks=[es_callback], shuffle=False)\n",
    "                   "
   ]
  },
  {
   "cell_type": "code",
   "execution_count": 87,
   "id": "7b568c2f",
   "metadata": {},
   "outputs": [
    {
     "name": "stdout",
     "output_type": "stream",
     "text": [
      "\u001b[1m194/194\u001b[0m \u001b[32m━━━━━━━━━━━━━━━━━━━━\u001b[0m\u001b[37m\u001b[0m \u001b[1m1s\u001b[0m 6ms/step - accuracy: 0.9614 - loss: 0.1215\n",
      "La perte est de 0.12605728209018707 et l'accuracy 0.9611901640892029.\n"
     ]
    }
   ],
   "source": [
    "loss, acc = model_fastext.evaluate(x_test_pad, y_test)\n",
    "\n",
    "print(f\"La perte est de {loss} et l'accuracy {acc}.\")"
   ]
  },
  {
   "cell_type": "code",
   "execution_count": 91,
   "id": "092bb888",
   "metadata": {},
   "outputs": [],
   "source": [
    "length = len(history_fastext.history['loss'])"
   ]
  },
  {
   "cell_type": "code",
   "execution_count": 92,
   "id": "5d784870",
   "metadata": {},
   "outputs": [
    {
     "data": {
      "text/plain": [
       "Text(0, 0.5, 'Loss & Acc')"
      ]
     },
     "execution_count": 92,
     "metadata": {},
     "output_type": "execute_result"
    },
    {
     "data": {
      "image/png": "[encoded data removed]",
      "text/plain": [
       "<Figure size 432x288 with 1 Axes>"
      ]
     },
     "metadata": {
      "needs_background": "light"
     },
     "output_type": "display_data"
    }
   ],
   "source": [
    "plt.plot(range(length),history_fastext.history['loss'], label=\"loss_train\", marker='x')\n",
    "plt.plot(range(length),history_fastext.history['val_loss'], label=\"loss_val\", marker='o')\n",
    "plt.plot(range(length),history_fastext.history['accuracy'], label=\"acc_train\", marker='x')\n",
    "plt.plot(range(length),history_fastext.history['val_accuracy'], label=\"acc_val\", marker='o')\n",
    "plt.legend()\n",
    "plt.xlabel('Epochs')\n",
    "plt.ylabel('Loss & Acc')"
   ]
  },
  {
   "cell_type": "markdown",
   "id": "e3d187ba",
   "metadata": {},
   "source": [
    "Les résultats ne sont pas bons ! Pourquoi à votre avis ?\n",
    "\n",
    "https://levelup.gitconnected.com/glove-and-fasttext-clearly-explained-extracting-features-from-text-data-1d227ab017b2"
   ]
  },
  {
   "cell_type": "markdown",
   "id": "f1c90530",
   "metadata": {},
   "source": [
    "## 3. Word2Vec\n",
    "\n",
    "Une dernière idée est de créer son propre plongement, je vous renvoie ici : \n",
    "\n",
    "https://radimrehurek.com/gensim/index.html"
   ]
  },
  {
   "cell_type": "markdown",
   "id": "30e82e28",
   "metadata": {},
   "source": [
    "# On a parlé des embeddings, maintenant allons plus loin les neurones.\n",
    "# Nous allons voir : RNN, LSTM, Bert et les transformers brièvement "
   ]
  },
  {
   "cell_type": "markdown",
   "id": "bf28cefb",
   "metadata": {},
   "source": [
    "Pour se faire nous allons changer de jeu de données afin de détecter du Phishing ."
   ]
  },
  {
   "cell_type": "code",
   "execution_count": 95,
   "id": "ef4b17ce",
   "metadata": {},
   "outputs": [],
   "source": [
    "df=pd.read_csv(\"spam.csv\",encoding='ISO-8859-1')\n",
    "df.head()\n",
    "\n",
    "df = df[['v1', 'v2']]"
   ]
  },
  {
   "cell_type": "code",
   "execution_count": 103,
   "id": "680db3b1",
   "metadata": {},
   "outputs": [],
   "source": [
    "def spam_ham(str):\n",
    "    if str=='ham':\n",
    "        return 0\n",
    "    elif str=='spam':\n",
    "        return 1"
   ]
  },
  {
   "cell_type": "code",
   "execution_count": 104,
   "id": "5753df63",
   "metadata": {},
   "outputs": [
    {
     "data": {
      "text/html": [
       "<div>\n",
       "<style scoped>\n",
       "    .dataframe tbody tr th:only-of-type {\n",
       "        vertical-align: middle;\n",
       "    }\n",
       "\n",
       "    .dataframe tbody tr th {\n",
       "        vertical-align: top;\n",
       "    }\n",
       "\n",
       "    .dataframe thead th {\n",
       "        text-align: right;\n",
       "    }\n",
       "</style>\n",
       "<table border=\"1\" class=\"dataframe\">\n",
       "  <thead>\n",
       "    <tr style=\"text-align: right;\">\n",
       "      <th></th>\n",
       "      <th>v1</th>\n",
       "      <th>v2</th>\n",
       "    </tr>\n",
       "  </thead>\n",
       "  <tbody>\n",
       "    <tr>\n",
       "      <th>0</th>\n",
       "      <td>ham</td>\n",
       "      <td>Go until jurong point, crazy.. Available only ...</td>\n",
       "    </tr>\n",
       "    <tr>\n",
       "      <th>1</th>\n",
       "      <td>ham</td>\n",
       "      <td>Ok lar... Joking wif u oni...</td>\n",
       "    </tr>\n",
       "    <tr>\n",
       "      <th>2</th>\n",
       "      <td>spam</td>\n",
       "      <td>Free entry in 2 a wkly comp to win FA Cup fina...</td>\n",
       "    </tr>\n",
       "    <tr>\n",
       "      <th>3</th>\n",
       "      <td>ham</td>\n",
       "      <td>U dun say so early hor... U c already then say...</td>\n",
       "    </tr>\n",
       "    <tr>\n",
       "      <th>4</th>\n",
       "      <td>ham</td>\n",
       "      <td>Nah I don't think he goes to usf, he lives aro...</td>\n",
       "    </tr>\n",
       "    <tr>\n",
       "      <th>...</th>\n",
       "      <td>...</td>\n",
       "      <td>...</td>\n",
       "    </tr>\n",
       "    <tr>\n",
       "      <th>5567</th>\n",
       "      <td>spam</td>\n",
       "      <td>This is the 2nd time we have tried 2 contact u...</td>\n",
       "    </tr>\n",
       "    <tr>\n",
       "      <th>5568</th>\n",
       "      <td>ham</td>\n",
       "      <td>Will Ì_ b going to esplanade fr home?</td>\n",
       "    </tr>\n",
       "    <tr>\n",
       "      <th>5569</th>\n",
       "      <td>ham</td>\n",
       "      <td>Pity, * was in mood for that. So...any other s...</td>\n",
       "    </tr>\n",
       "    <tr>\n",
       "      <th>5570</th>\n",
       "      <td>ham</td>\n",
       "      <td>The guy did some bitching but I acted like i'd...</td>\n",
       "    </tr>\n",
       "    <tr>\n",
       "      <th>5571</th>\n",
       "      <td>ham</td>\n",
       "      <td>Rofl. Its true to its name</td>\n",
       "    </tr>\n",
       "  </tbody>\n",
       "</table>\n",
       "<p>5572 rows × 2 columns</p>\n",
       "</div>"
      ],
      "text/plain": [
       "        v1                                                 v2\n",
       "0      ham  Go until jurong point, crazy.. Available only ...\n",
       "1      ham                      Ok lar... Joking wif u oni...\n",
       "2     spam  Free entry in 2 a wkly comp to win FA Cup fina...\n",
       "3      ham  U dun say so early hor... U c already then say...\n",
       "4      ham  Nah I don't think he goes to usf, he lives aro...\n",
       "...    ...                                                ...\n",
       "5567  spam  This is the 2nd time we have tried 2 contact u...\n",
       "5568   ham              Will Ì_ b going to esplanade fr home?\n",
       "5569   ham  Pity, * was in mood for that. So...any other s...\n",
       "5570   ham  The guy did some bitching but I acted like i'd...\n",
       "5571   ham                         Rofl. Its true to its name\n",
       "\n",
       "[5572 rows x 2 columns]"
      ]
     },
     "execution_count": 104,
     "metadata": {},
     "output_type": "execute_result"
    }
   ],
   "source": [
    "df"
   ]
  },
  {
   "cell_type": "code",
   "execution_count": 106,
   "id": "7480d85a",
   "metadata": {},
   "outputs": [],
   "source": [
    "df['Label'] = df['v1'].apply(lambda row : spam_ham(row)) "
   ]
  },
  {
   "cell_type": "code",
   "execution_count": 108,
   "id": "30fe997a",
   "metadata": {},
   "outputs": [],
   "source": [
    "df = df.rename(columns={'v2': 'text'})"
   ]
  },
  {
   "cell_type": "code",
   "execution_count": 109,
   "id": "aec276ac",
   "metadata": {},
   "outputs": [],
   "source": [
    "x_train, x_test, y_train, y_test = train_test_split(\n",
    "    df['text'], df['Label'], train_size=0.8, stratify=df['Label'], random_state=42)\n",
    "\n",
    "x_train, x_val, y_train, y_val = train_test_split(\n",
    "    x_train, y_train, train_size=0.8 ,stratify=y_train, random_state=42)\n",
    "    \n",
    "    \n",
    "tokenizer = Tokenizer(num_words=10000,\n",
    "                     filters='!\"#$%&()*+,-./:;<=>?@[\\\\]^_`{|}~\\t\\n',\n",
    "                     lower=True,\n",
    "                     char_level=False #si True, chaque caractère est un token\n",
    "                     )\n",
    "    \n",
    "tokens = tokenizer.fit_on_texts(x_train)\n",
    "\n",
    "x_train_seq = tokenizer.texts_to_sequences(x_train)\n",
    "x_val_seq = tokenizer.texts_to_sequences(x_val)\n",
    "x_test_seq = tokenizer.texts_to_sequences(x_test)\n",
    "\n",
    "\n",
    "word_index = tokenizer.word_index\n",
    "\n",
    "maxlen = 300\n",
    "\n",
    "x_train_pad = sequence.pad_sequences(x_train_seq, maxlen=maxlen)\n",
    "x_val_pad = sequence.pad_sequences(x_val_seq, maxlen=maxlen)\n",
    "x_test_pad = sequence.pad_sequences(x_test_seq, maxlen=maxlen)"
   ]
  },
  {
   "cell_type": "markdown",
   "id": "9896e81f",
   "metadata": {},
   "source": [
    "## Les réseaux récurrents\n",
    "\n",
    "Les parties qui suivent sont librement inspirées (voir un peu plus du cours d'Introduction au deep learning de J.Rynkiewicz. On utilise aussi comme depuis le debut de le livre de François Chollet L'apprentissage profond avec Python édition machinelearning.fr / manning .\n",
    "\n",
    "### Les RNN"
   ]
  },
  {
   "cell_type": "markdown",
   "id": "ebf9bd15",
   "metadata": {},
   "source": [
    "L'idée des RNN est d'introduire une notion de temps dans l'algorithme.\n",
    "\n",
    "On note :\n",
    "+ $X_t$ l'observation au cours du temps, \n",
    "+ $h_t$ le vecteur d'état caché du réseau ,\n",
    "+ $Y_t$ la sortie au temps $t$,\n",
    "+ $\\theta$ le vecteur des poids du modèles.\n",
    "\n",
    "Comme tout réseau, le modèle est initialisé avec un vecteur d'état caché $h_0$. On peut alors visualiser le réseau comme un système dynamique :\n",
    "$$\n",
    "\\left\\{\n",
    "    \\begin{array}{ll}\n",
    "        h_t = g_\\theta(h_{t-1},X_t) \\\\\n",
    "        Y_t = f_\\theta(h_t)\n",
    "    \\end{array}\n",
    "\\right.\n",
    "$$\n",
    "\n",
    "<img src=\"rnn_simple.png\" \n",
    "        alt=\"Picture\" \n",
    "        style=\"display: block; margin: 0 auto\" />\n",
    "        \n",
    "        \n",
    "<img src=\"rnn_complet.png\" \n",
    "        alt=\"Picture\" \n",
    "        style=\"display: block; margin: 0 auto\" />\n",
    "        \n",
    "Cela permet par exemple d'introduire une notion d'ordre des mots dans les textes. "
   ]
  },
  {
   "cell_type": "code",
   "execution_count": 111,
   "id": "f928b5f5",
   "metadata": {},
   "outputs": [
    {
     "name": "stdout",
     "output_type": "stream",
     "text": [
      "Epoch 1/5\n",
      "\u001b[1m223/223\u001b[0m \u001b[32m━━━━━━━━━━━━━━━━━━━━\u001b[0m\u001b[37m\u001b[0m \u001b[1m7s\u001b[0m 29ms/step - acc: 0.8561 - loss: 0.3896 - val_acc: 0.9731 - val_loss: 0.1114\n",
      "Epoch 2/5\n",
      "\u001b[1m223/223\u001b[0m \u001b[32m━━━━━━━━━━━━━━━━━━━━\u001b[0m\u001b[37m\u001b[0m \u001b[1m6s\u001b[0m 28ms/step - acc: 0.9839 - loss: 0.0597 - val_acc: 0.9787 - val_loss: 0.0777\n",
      "Epoch 3/5\n",
      "\u001b[1m223/223\u001b[0m \u001b[32m━━━━━━━━━━━━━━━━━━━━\u001b[0m\u001b[37m\u001b[0m \u001b[1m7s\u001b[0m 30ms/step - acc: 0.9957 - loss: 0.0182 - val_acc: 0.9821 - val_loss: 0.0654\n",
      "Epoch 4/5\n",
      "\u001b[1m223/223\u001b[0m \u001b[32m━━━━━━━━━━━━━━━━━━━━\u001b[0m\u001b[37m\u001b[0m \u001b[1m6s\u001b[0m 28ms/step - acc: 0.9990 - loss: 0.0074 - val_acc: 0.9821 - val_loss: 0.0607\n",
      "Epoch 5/5\n",
      "\u001b[1m223/223\u001b[0m \u001b[32m━━━━━━━━━━━━━━━━━━━━\u001b[0m\u001b[37m\u001b[0m \u001b[1m6s\u001b[0m 27ms/step - acc: 0.9992 - loss: 0.0056 - val_acc: 0.9798 - val_loss: 0.0846\n"
     ]
    }
   ],
   "source": [
    "model_rnn = Sequential()\n",
    "\n",
    "model_rnn.add(Embedding(10000, 32))\n",
    "model_rnn.add(keras.layers.SimpleRNN(32))\n",
    "model_rnn.add(Dense(1, activation='sigmoid'))\n",
    "\n",
    "model_rnn.compile(optimizer='adam', loss='binary_crossentropy', metrics=['acc'])\n",
    "\n",
    "\n",
    "history_rnn = model_rnn.fit(x_train_pad, y_train,\n",
    "                   epochs=5,\n",
    "                   batch_size=16,\n",
    "                   validation_data=(x_val_pad, y_val))"
   ]
  },
  {
   "cell_type": "code",
   "execution_count": 112,
   "id": "8c42297e",
   "metadata": {},
   "outputs": [
    {
     "name": "stdout",
     "output_type": "stream",
     "text": [
      "\u001b[1m35/35\u001b[0m \u001b[32m━━━━━━━━━━━━━━━━━━━━\u001b[0m\u001b[37m\u001b[0m \u001b[1m0s\u001b[0m 7ms/step - acc: 0.9820 - loss: 0.0702\n",
      "loss : 0.07383625209331512  et acc : 0.9820627570152283\n"
     ]
    }
   ],
   "source": [
    "loss, acc = model_rnn.evaluate(x_test_pad, y_test)\n",
    "print(\"loss :\", loss, \" et acc :\", acc)"
   ]
  },
  {
   "cell_type": "code",
   "execution_count": 113,
   "id": "4ca679e4",
   "metadata": {},
   "outputs": [
    {
     "data": {
      "image/png": "[encoded data removed]",
      "text/plain": [
       "<Figure size 432x288 with 1 Axes>"
      ]
     },
     "metadata": {
      "needs_background": "light"
     },
     "output_type": "display_data"
    },
    {
     "data": {
      "image/png": "[encoded data removed]",
      "text/plain": [
       "<Figure size 432x288 with 1 Axes>"
      ]
     },
     "metadata": {
      "needs_background": "light"
     },
     "output_type": "display_data"
    }
   ],
   "source": [
    "acc = history_rnn.history['acc']\n",
    "val_acc = history_rnn.history['val_acc']\n",
    "loss = history_rnn.history['loss']\n",
    "val_loss = history_rnn.history['val_loss']\n",
    "\n",
    "epochs = range(len(acc))\n",
    "\n",
    "plt.plot(epochs, acc, 'bo', label='Training acc')\n",
    "plt.plot(epochs, val_acc, 'b', label='Validation acc')\n",
    "plt.title('Training and validation accuracy')\n",
    "plt.legend()\n",
    "\n",
    "plt.figure()\n",
    "\n",
    "plt.plot(epochs, loss, 'bo', label='Training loss')\n",
    "plt.plot(epochs, val_loss, 'b', label='Validation loss')\n",
    "plt.title('Training and validation loss')\n",
    "plt.legend()\n",
    "\n",
    "plt.show()"
   ]
  },
  {
   "cell_type": "markdown",
   "id": "d1a2f443",
   "metadata": {},
   "source": [
    "Plusieurs remarques : \n",
    "+ les scores sont bons, \n",
    "+ c'est long à entraîner, \n",
    "+ On pourrait certainement avoir un bien meilleur score.\n",
    "\n",
    "On va introduire de façon très légère une généralisation des RNN : les neurones LSTM via un schéma puis mettre en pratique.\n",
    "\n",
    "Il existe aussi les neurones GRU et les versions Bidirectionnelles : on lit les documents dans le sens de lecture et le sens inverse pour améliorer les performances."
   ]
  },
  {
   "cell_type": "markdown",
   "id": "2f61d2e7",
   "metadata": {},
   "source": [
    "<img src=\"lstm_simple.png\" \n",
    "        alt=\"Picture\" \n",
    "        style=\"display: block; margin: 0 auto\" />\n",
    "        \n",
    "        Un réseau LSTM simplifié !\n",
    "        On rajoute un canal d'information avec la \"retenue\"."
   ]
  },
  {
   "cell_type": "code",
   "execution_count": 114,
   "id": "ba3bc4a4",
   "metadata": {},
   "outputs": [
    {
     "name": "stdout",
     "output_type": "stream",
     "text": [
      "Epoch 1/20\n",
      "\u001b[1m223/223\u001b[0m \u001b[32m━━━━━━━━━━━━━━━━━━━━\u001b[0m\u001b[37m\u001b[0m \u001b[1m11s\u001b[0m 42ms/step - acc: 0.8788 - loss: 0.3402 - val_acc: 0.9787 - val_loss: 0.0759\n",
      "Epoch 2/20\n",
      "\u001b[1m223/223\u001b[0m \u001b[32m━━━━━━━━━━━━━━━━━━━━\u001b[0m\u001b[37m\u001b[0m \u001b[1m9s\u001b[0m 41ms/step - acc: 0.9943 - loss: 0.0298 - val_acc: 0.9809 - val_loss: 0.0651\n",
      "Epoch 3/20\n",
      "\u001b[1m223/223\u001b[0m \u001b[32m━━━━━━━━━━━━━━━━━━━━\u001b[0m\u001b[37m\u001b[0m \u001b[1m9s\u001b[0m 42ms/step - acc: 0.9974 - loss: 0.0115 - val_acc: 0.9854 - val_loss: 0.0534\n",
      "Epoch 4/20\n",
      "\u001b[1m223/223\u001b[0m \u001b[32m━━━━━━━━━━━━━━━━━━━━\u001b[0m\u001b[37m\u001b[0m \u001b[1m9s\u001b[0m 41ms/step - acc: 0.9983 - loss: 0.0064 - val_acc: 0.9809 - val_loss: 0.0860\n",
      "Epoch 5/20\n",
      "\u001b[1m223/223\u001b[0m \u001b[32m━━━━━━━━━━━━━━━━━━━━\u001b[0m\u001b[37m\u001b[0m \u001b[1m11s\u001b[0m 48ms/step - acc: 0.9975 - loss: 0.0057 - val_acc: 0.9821 - val_loss: 0.0907\n",
      "Epoch 6/20\n",
      "\u001b[1m223/223\u001b[0m \u001b[32m━━━━━━━━━━━━━━━━━━━━\u001b[0m\u001b[37m\u001b[0m \u001b[1m11s\u001b[0m 49ms/step - acc: 1.0000 - loss: 8.7880e-04 - val_acc: 0.9832 - val_loss: 0.0962\n",
      "Epoch 7/20\n",
      "\u001b[1m223/223\u001b[0m \u001b[32m━━━━━━━━━━━━━━━━━━━━\u001b[0m\u001b[37m\u001b[0m \u001b[1m11s\u001b[0m 48ms/step - acc: 1.0000 - loss: 1.0447e-04 - val_acc: 0.9865 - val_loss: 0.0795\n",
      "Epoch 8/20\n",
      "\u001b[1m223/223\u001b[0m \u001b[32m━━━━━━━━━━━━━━━━━━━━\u001b[0m\u001b[37m\u001b[0m \u001b[1m10s\u001b[0m 46ms/step - acc: 1.0000 - loss: 1.3980e-04 - val_acc: 0.9843 - val_loss: 0.1010\n"
     ]
    }
   ],
   "source": [
    "model_lstm = Sequential()\n",
    "\n",
    "model_lstm.add(Embedding(10000, 32))\n",
    "model_lstm.add(keras.layers.LSTM(32))\n",
    "model_lstm.add(Dropout(0.3))\n",
    "model_lstm.add(Dense(60, activation='relu'))\n",
    "model_lstm.add(Dense(1, activation='sigmoid'))\n",
    "\n",
    "model_lstm.compile(optimizer='adam', loss='binary_crossentropy', metrics=['acc'])\n",
    "\n",
    "history_lstm = model_lstm.fit(x_train_pad, y_train,\n",
    "                   epochs=20,\n",
    "                   batch_size=16,\n",
    "                   validation_data=(x_val_pad, y_val),\n",
    "                   callbacks=[es_callback])"
   ]
  },
  {
   "cell_type": "code",
   "execution_count": 115,
   "id": "77dc1eaa",
   "metadata": {},
   "outputs": [
    {
     "data": {
      "text/html": [
       "<pre style=\"white-space:pre;overflow-x:auto;line-height:normal;font-family:Menlo,'DejaVu Sans Mono',consolas,'Courier New',monospace\"><span style=\"font-weight: bold\">Model: \"sequential_5\"</span>\n",
       "</pre>\n"
      ],
      "text/plain": [
       "\u001b[1mModel: \"sequential_5\"\u001b[0m\n"
      ]
     },
     "metadata": {},
     "output_type": "display_data"
    },
    {
     "data": {
      "text/html": [
       "<pre style=\"white-space:pre;overflow-x:auto;line-height:normal;font-family:Menlo,'DejaVu Sans Mono',consolas,'Courier New',monospace\">┏━━━━━━━━━━━━━━━━━━━━━━━━━━━━━━━━━┳━━━━━━━━━━━━━━━━━━━━━━━━┳━━━━━━━━━━━━━━━┓\n",
       "┃<span style=\"font-weight: bold\"> Layer (type)                    </span>┃<span style=\"font-weight: bold\"> Output Shape           </span>┃<span style=\"font-weight: bold\">       Param # </span>┃\n",
       "┡━━━━━━━━━━━━━━━━━━━━━━━━━━━━━━━━━╇━━━━━━━━━━━━━━━━━━━━━━━━╇━━━━━━━━━━━━━━━┩\n",
       "│ embedding_6 (<span style=\"color: #0087ff; text-decoration-color: #0087ff\">Embedding</span>)         │ (<span style=\"color: #00d7ff; text-decoration-color: #00d7ff\">None</span>, <span style=\"color: #00af00; text-decoration-color: #00af00\">300</span>, <span style=\"color: #00af00; text-decoration-color: #00af00\">32</span>)        │       <span style=\"color: #00af00; text-decoration-color: #00af00\">320,000</span> │\n",
       "├─────────────────────────────────┼────────────────────────┼───────────────┤\n",
       "│ lstm (<span style=\"color: #0087ff; text-decoration-color: #0087ff\">LSTM</span>)                     │ (<span style=\"color: #00d7ff; text-decoration-color: #00d7ff\">None</span>, <span style=\"color: #00af00; text-decoration-color: #00af00\">32</span>)             │         <span style=\"color: #00af00; text-decoration-color: #00af00\">8,320</span> │\n",
       "├─────────────────────────────────┼────────────────────────┼───────────────┤\n",
       "│ dropout_1 (<span style=\"color: #0087ff; text-decoration-color: #0087ff\">Dropout</span>)             │ (<span style=\"color: #00d7ff; text-decoration-color: #00d7ff\">None</span>, <span style=\"color: #00af00; text-decoration-color: #00af00\">32</span>)             │             <span style=\"color: #00af00; text-decoration-color: #00af00\">0</span> │\n",
       "├─────────────────────────────────┼────────────────────────┼───────────────┤\n",
       "│ dense_8 (<span style=\"color: #0087ff; text-decoration-color: #0087ff\">Dense</span>)                 │ (<span style=\"color: #00d7ff; text-decoration-color: #00d7ff\">None</span>, <span style=\"color: #00af00; text-decoration-color: #00af00\">60</span>)             │         <span style=\"color: #00af00; text-decoration-color: #00af00\">1,980</span> │\n",
       "├─────────────────────────────────┼────────────────────────┼───────────────┤\n",
       "│ dense_9 (<span style=\"color: #0087ff; text-decoration-color: #0087ff\">Dense</span>)                 │ (<span style=\"color: #00d7ff; text-decoration-color: #00d7ff\">None</span>, <span style=\"color: #00af00; text-decoration-color: #00af00\">1</span>)              │            <span style=\"color: #00af00; text-decoration-color: #00af00\">61</span> │\n",
       "└─────────────────────────────────┴────────────────────────┴───────────────┘\n",
       "</pre>\n"
      ],
      "text/plain": [
       "┏━━━━━━━━━━━━━━━━━━━━━━━━━━━━━━━━━┳━━━━━━━━━━━━━━━━━━━━━━━━┳━━━━━━━━━━━━━━━┓\n",
       "┃\u001b[1m \u001b[0m\u001b[1mLayer (type)                   \u001b[0m\u001b[1m \u001b[0m┃\u001b[1m \u001b[0m\u001b[1mOutput Shape          \u001b[0m\u001b[1m \u001b[0m┃\u001b[1m \u001b[0m\u001b[1m      Param #\u001b[0m\u001b[1m \u001b[0m┃\n",
       "┡━━━━━━━━━━━━━━━━━━━━━━━━━━━━━━━━━╇━━━━━━━━━━━━━━━━━━━━━━━━╇━━━━━━━━━━━━━━━┩\n",
       "│ embedding_6 (\u001b[38;5;33mEmbedding\u001b[0m)         │ (\u001b[38;5;45mNone\u001b[0m, \u001b[38;5;34m300\u001b[0m, \u001b[38;5;34m32\u001b[0m)        │       \u001b[38;5;34m320,000\u001b[0m │\n",
       "├─────────────────────────────────┼────────────────────────┼───────────────┤\n",
       "│ lstm (\u001b[38;5;33mLSTM\u001b[0m)                     │ (\u001b[38;5;45mNone\u001b[0m, \u001b[38;5;34m32\u001b[0m)             │         \u001b[38;5;34m8,320\u001b[0m │\n",
       "├─────────────────────────────────┼────────────────────────┼───────────────┤\n",
       "│ dropout_1 (\u001b[38;5;33mDropout\u001b[0m)             │ (\u001b[38;5;45mNone\u001b[0m, \u001b[38;5;34m32\u001b[0m)             │             \u001b[38;5;34m0\u001b[0m │\n",
       "├─────────────────────────────────┼────────────────────────┼───────────────┤\n",
       "│ dense_8 (\u001b[38;5;33mDense\u001b[0m)                 │ (\u001b[38;5;45mNone\u001b[0m, \u001b[38;5;34m60\u001b[0m)             │         \u001b[38;5;34m1,980\u001b[0m │\n",
       "├─────────────────────────────────┼────────────────────────┼───────────────┤\n",
       "│ dense_9 (\u001b[38;5;33mDense\u001b[0m)                 │ (\u001b[38;5;45mNone\u001b[0m, \u001b[38;5;34m1\u001b[0m)              │            \u001b[38;5;34m61\u001b[0m │\n",
       "└─────────────────────────────────┴────────────────────────┴───────────────┘\n"
      ]
     },
     "metadata": {},
     "output_type": "display_data"
    },
    {
     "data": {
      "text/html": [
       "<pre style=\"white-space:pre;overflow-x:auto;line-height:normal;font-family:Menlo,'DejaVu Sans Mono',consolas,'Courier New',monospace\"><span style=\"font-weight: bold\"> Total params: </span><span style=\"color: #00af00; text-decoration-color: #00af00\">991,085</span> (3.78 MB)\n",
       "</pre>\n"
      ],
      "text/plain": [
       "\u001b[1m Total params: \u001b[0m\u001b[38;5;34m991,085\u001b[0m (3.78 MB)\n"
      ]
     },
     "metadata": {},
     "output_type": "display_data"
    },
    {
     "data": {
      "text/html": [
       "<pre style=\"white-space:pre;overflow-x:auto;line-height:normal;font-family:Menlo,'DejaVu Sans Mono',consolas,'Courier New',monospace\"><span style=\"font-weight: bold\"> Trainable params: </span><span style=\"color: #00af00; text-decoration-color: #00af00\">330,361</span> (1.26 MB)\n",
       "</pre>\n"
      ],
      "text/plain": [
       "\u001b[1m Trainable params: \u001b[0m\u001b[38;5;34m330,361\u001b[0m (1.26 MB)\n"
      ]
     },
     "metadata": {},
     "output_type": "display_data"
    },
    {
     "data": {
      "text/html": [
       "<pre style=\"white-space:pre;overflow-x:auto;line-height:normal;font-family:Menlo,'DejaVu Sans Mono',consolas,'Courier New',monospace\"><span style=\"font-weight: bold\"> Non-trainable params: </span><span style=\"color: #00af00; text-decoration-color: #00af00\">0</span> (0.00 B)\n",
       "</pre>\n"
      ],
      "text/plain": [
       "\u001b[1m Non-trainable params: \u001b[0m\u001b[38;5;34m0\u001b[0m (0.00 B)\n"
      ]
     },
     "metadata": {},
     "output_type": "display_data"
    },
    {
     "data": {
      "text/html": [
       "<pre style=\"white-space:pre;overflow-x:auto;line-height:normal;font-family:Menlo,'DejaVu Sans Mono',consolas,'Courier New',monospace\"><span style=\"font-weight: bold\"> Optimizer params: </span><span style=\"color: #00af00; text-decoration-color: #00af00\">660,724</span> (2.52 MB)\n",
       "</pre>\n"
      ],
      "text/plain": [
       "\u001b[1m Optimizer params: \u001b[0m\u001b[38;5;34m660,724\u001b[0m (2.52 MB)\n"
      ]
     },
     "metadata": {},
     "output_type": "display_data"
    }
   ],
   "source": [
    "model_lstm.summary()"
   ]
  },
  {
   "cell_type": "code",
   "execution_count": 116,
   "id": "db742f21",
   "metadata": {},
   "outputs": [
    {
     "data": {
      "image/png": "[encoded data removed]",
      "text/plain": [
       "<Figure size 432x288 with 1 Axes>"
      ]
     },
     "metadata": {
      "needs_background": "light"
     },
     "output_type": "display_data"
    },
    {
     "data": {
      "image/png": "[encoded data removed]",
      "text/plain": [
       "<Figure size 432x288 with 1 Axes>"
      ]
     },
     "metadata": {
      "needs_background": "light"
     },
     "output_type": "display_data"
    }
   ],
   "source": [
    "acc = history_lstm.history['acc']\n",
    "val_acc = history_lstm.history['val_acc']\n",
    "loss = history_lstm.history['loss']\n",
    "val_loss = history_lstm.history['val_loss']\n",
    "\n",
    "epochs = range(len(acc))\n",
    "\n",
    "plt.plot(epochs, acc, 'bo', label='Training acc')\n",
    "plt.plot(epochs, val_acc, 'b', label='Validation acc')\n",
    "plt.title('Training and validation accuracy')\n",
    "plt.legend()\n",
    "\n",
    "plt.figure()\n",
    "\n",
    "plt.plot(epochs, loss, 'bo', label='Training loss')\n",
    "plt.plot(epochs, val_loss, 'b', label='Validation loss')\n",
    "plt.title('Training and validation loss')\n",
    "plt.legend()\n",
    "\n",
    "plt.show()"
   ]
  },
  {
   "cell_type": "code",
   "execution_count": 117,
   "id": "9d167ab1",
   "metadata": {},
   "outputs": [
    {
     "name": "stdout",
     "output_type": "stream",
     "text": [
      "\u001b[1m35/35\u001b[0m \u001b[32m━━━━━━━━━━━━━━━━━━━━\u001b[0m\u001b[37m\u001b[0m \u001b[1m0s\u001b[0m 12ms/step - acc: 0.9883 - loss: 0.1004\n",
      "loss : 0.10068593919277191  et acc : 0.9874439239501953\n"
     ]
    }
   ],
   "source": [
    "loss, acc = model_lstm.evaluate(x_test_pad, y_test)\n",
    "print(\"loss :\", loss, \" et acc :\", acc)"
   ]
  },
  {
   "cell_type": "markdown",
   "id": "aaee1c85",
   "metadata": {},
   "source": [
    "# Un peu de transfert learning avec les transformers\n",
    "\n",
    "Pour rappels les transformers sont des réseaux de neurones particuliers de type encoder-decoder \n",
    "avec des couches utilisant le phénomène d'attention.\n",
    "C'est cela qui a permis une révolution du NLP à partir de 2017.\n",
    "\n"
   ]
  },
  {
   "cell_type": "code",
   "execution_count": 118,
   "id": "9bd5a441",
   "metadata": {},
   "outputs": [],
   "source": [
    "from transformers import AutoTokenizer, TFAutoModelForSequenceClassification\n",
    "from transformers import pipeline"
   ]
  },
  {
   "cell_type": "code",
   "execution_count": 119,
   "id": "aed57eb5",
   "metadata": {},
   "outputs": [
    {
     "name": "stderr",
     "output_type": "stream",
     "text": [
      "All PyTorch model weights were used when initializing TFDistilBertForSequenceClassification.\n",
      "\n",
      "All the weights of TFDistilBertForSequenceClassification were initialized from the PyTorch model.\n",
      "If your task is similar to the task the model of the checkpoint was trained on, you can already use TFDistilBertForSequenceClassification for predictions without further training.\n"
     ]
    }
   ],
   "source": [
    "model_name = 'distilbert-base-uncased-finetuned-sst-2-english'\n",
    "# le modèle n'existe qu'en PyTorch , on utilise from_pt pour l'importer en tensorflow\n",
    "model = TFAutoModelForSequenceClassification.from_pretrained(model_name)\n",
    "tokenizer = AutoTokenizer.from_pretrained(model_name)\n",
    "classifier = pipeline('sentiment-analysis', model=model, tokenizer=tokenizer)"
   ]
  },
  {
   "cell_type": "code",
   "execution_count": 120,
   "id": "dadfcc5b",
   "metadata": {},
   "outputs": [],
   "source": [
    "from sklearn.metrics import classification_report"
   ]
  },
  {
   "cell_type": "code",
   "execution_count": 121,
   "id": "3fbdf166",
   "metadata": {},
   "outputs": [
    {
     "data": {
      "text/plain": [
       "'Go until jurong point, crazy.. Available only in bugis n great world la e buffet... Cine there got amore wat...'"
      ]
     },
     "execution_count": 121,
     "metadata": {},
     "output_type": "execute_result"
    }
   ],
   "source": [
    "x_train[0]"
   ]
  },
  {
   "cell_type": "code",
   "execution_count": 122,
   "id": "8a543984",
   "metadata": {},
   "outputs": [
    {
     "data": {
      "text/plain": [
       "[{'label': 'NEGATIVE', 'score': 0.9916266202926636}]"
      ]
     },
     "execution_count": 122,
     "metadata": {},
     "output_type": "execute_result"
    }
   ],
   "source": [
    "classifier(x_train[0])"
   ]
  },
  {
   "cell_type": "code",
   "execution_count": 123,
   "id": "105715db",
   "metadata": {},
   "outputs": [],
   "source": [
    "def labeling(text):\n",
    "    if text == 'NEGATIVE':\n",
    "        return 0\n",
    "    elif text == 'POSITIVE':\n",
    "        return 1"
   ]
  },
  {
   "cell_type": "code",
   "execution_count": 124,
   "id": "18f51eb4",
   "metadata": {},
   "outputs": [],
   "source": [
    "from tqdm import tqdm"
   ]
  },
  {
   "cell_type": "code",
   "execution_count": 125,
   "id": "ee20eb07",
   "metadata": {},
   "outputs": [],
   "source": [
    "y_pred = []\n",
    "indices = []\n",
    "for i in range(500):\n",
    "    try:\n",
    "        c = classifier(x_train[i])\n",
    "        indices.append(i)\n",
    "        y_pred.append(c)\n",
    "    except:\n",
    "        pass"
   ]
  },
  {
   "cell_type": "code",
   "execution_count": 126,
   "id": "19bc7873",
   "metadata": {},
   "outputs": [
    {
     "data": {
      "text/plain": [
       "[[{'label': 'NEGATIVE', 'score': 0.9916266202926636}],\n",
       " [{'label': 'NEGATIVE', 'score': 0.9911950826644897}],\n",
       " [{'label': 'NEGATIVE', 'score': 0.9950916767120361}],\n",
       " [{'label': 'POSITIVE', 'score': 0.9869717955589294}],\n",
       " [{'label': 'NEGATIVE', 'score': 0.9959768652915955}],\n",
       " [{'label': 'NEGATIVE', 'score': 0.9676997661590576}],\n",
       " [{'label': 'NEGATIVE', 'score': 0.9877546429634094}],\n",
       " [{'label': 'POSITIVE', 'score': 0.9998486042022705}],\n",
       " [{'label': 'POSITIVE', 'score': 0.9994812607765198}],\n",
       " [{'label': 'NEGATIVE', 'score': 0.9966681599617004}],\n",
       " [{'label': 'POSITIVE', 'score': 0.9497026801109314}],\n",
       " [{'label': 'NEGATIVE', 'score': 0.5919306874275208}],\n",
       " [{'label': 'NEGATIVE', 'score': 0.9973033666610718}],\n",
       " [{'label': 'NEGATIVE', 'score': 0.9990921020507812}],\n",
       " [{'label': 'NEGATIVE', 'score': 0.9972934126853943}],\n",
       " [{'label': 'NEGATIVE', 'score': 0.9876480102539062}],\n",
       " [{'label': 'POSITIVE', 'score': 0.9995300769805908}],\n",
       " [{'label': 'POSITIVE', 'score': 0.9606907963752747}],\n",
       " [{'label': 'NEGATIVE', 'score': 0.8553186058998108}],\n",
       " [{'label': 'NEGATIVE', 'score': 0.9996399879455566}],\n",
       " [{'label': 'POSITIVE', 'score': 0.9928239583969116}],\n",
       " [{'label': 'NEGATIVE', 'score': 0.5212027430534363}],\n",
       " [{'label': 'POSITIVE', 'score': 0.7442654967308044}],\n",
       " [{'label': 'NEGATIVE', 'score': 0.9807780981063843}],\n",
       " [{'label': 'NEGATIVE', 'score': 0.9705976843833923}],\n",
       " [{'label': 'NEGATIVE', 'score': 0.8706575632095337}],\n",
       " [{'label': 'NEGATIVE', 'score': 0.9775775074958801}],\n",
       " [{'label': 'POSITIVE', 'score': 0.9997678399085999}],\n",
       " [{'label': 'POSITIVE', 'score': 0.9996567964553833}],\n",
       " [{'label': 'NEGATIVE', 'score': 0.980699896812439}],\n",
       " [{'label': 'NEGATIVE', 'score': 0.998895525932312}],\n",
       " [{'label': 'NEGATIVE', 'score': 0.9168092012405396}],\n",
       " [{'label': 'NEGATIVE', 'score': 0.9472598433494568}],\n",
       " [{'label': 'POSITIVE', 'score': 0.8739150166511536}],\n",
       " [{'label': 'POSITIVE', 'score': 0.9990277290344238}],\n",
       " [{'label': 'NEGATIVE', 'score': 0.9641491770744324}],\n",
       " [{'label': 'NEGATIVE', 'score': 0.991890549659729}],\n",
       " [{'label': 'POSITIVE', 'score': 0.9179087281227112}],\n",
       " [{'label': 'POSITIVE', 'score': 0.9662817716598511}],\n",
       " [{'label': 'POSITIVE', 'score': 0.9904268980026245}],\n",
       " [{'label': 'NEGATIVE', 'score': 0.9996073842048645}],\n",
       " [{'label': 'NEGATIVE', 'score': 0.9852780699729919}],\n",
       " [{'label': 'NEGATIVE', 'score': 0.9695096015930176}],\n",
       " [{'label': 'NEGATIVE', 'score': 0.949718713760376}],\n",
       " [{'label': 'POSITIVE', 'score': 0.6210120916366577}],\n",
       " [{'label': 'POSITIVE', 'score': 0.9981324076652527}],\n",
       " [{'label': 'POSITIVE', 'score': 0.9701217412948608}],\n",
       " [{'label': 'NEGATIVE', 'score': 0.9986007809638977}],\n",
       " [{'label': 'NEGATIVE', 'score': 0.8000670075416565}],\n",
       " [{'label': 'POSITIVE', 'score': 0.9998582601547241}],\n",
       " [{'label': 'POSITIVE', 'score': 0.5788487195968628}],\n",
       " [{'label': 'NEGATIVE', 'score': 0.999688982963562}],\n",
       " [{'label': 'NEGATIVE', 'score': 0.9983194470405579}],\n",
       " [{'label': 'POSITIVE', 'score': 0.9993231296539307}],\n",
       " [{'label': 'NEGATIVE', 'score': 0.9964110255241394}],\n",
       " [{'label': 'NEGATIVE', 'score': 0.9970027804374695}],\n",
       " [{'label': 'NEGATIVE', 'score': 0.9983735084533691}],\n",
       " [{'label': 'NEGATIVE', 'score': 0.9988196492195129}],\n",
       " [{'label': 'NEGATIVE', 'score': 0.9574280381202698}],\n",
       " [{'label': 'NEGATIVE', 'score': 0.9994655251502991}],\n",
       " [{'label': 'NEGATIVE', 'score': 0.9449245929718018}],\n",
       " [{'label': 'NEGATIVE', 'score': 0.9969897270202637}],\n",
       " [{'label': 'NEGATIVE', 'score': 0.9981062412261963}],\n",
       " [{'label': 'NEGATIVE', 'score': 0.921919047832489}],\n",
       " [{'label': 'POSITIVE', 'score': 0.778322696685791}],\n",
       " [{'label': 'NEGATIVE', 'score': 0.9979210495948792}],\n",
       " [{'label': 'NEGATIVE', 'score': 0.9974027276039124}],\n",
       " [{'label': 'NEGATIVE', 'score': 0.9973329305648804}],\n",
       " [{'label': 'NEGATIVE', 'score': 0.9929189085960388}],\n",
       " [{'label': 'POSITIVE', 'score': 0.9992546439170837}],\n",
       " [{'label': 'POSITIVE', 'score': 0.9998683929443359}],\n",
       " [{'label': 'POSITIVE', 'score': 0.9985650181770325}],\n",
       " [{'label': 'NEGATIVE', 'score': 0.9978907704353333}],\n",
       " [{'label': 'POSITIVE', 'score': 0.9818728566169739}],\n",
       " [{'label': 'NEGATIVE', 'score': 0.9741237163543701}],\n",
       " [{'label': 'NEGATIVE', 'score': 0.9957279562950134}],\n",
       " [{'label': 'POSITIVE', 'score': 0.7787795662879944}],\n",
       " [{'label': 'NEGATIVE', 'score': 0.995399534702301}],\n",
       " [{'label': 'POSITIVE', 'score': 0.9992903470993042}],\n",
       " [{'label': 'POSITIVE', 'score': 0.6748534440994263}],\n",
       " [{'label': 'NEGATIVE', 'score': 0.9962791800498962}],\n",
       " [{'label': 'NEGATIVE', 'score': 0.9849770069122314}],\n",
       " [{'label': 'NEGATIVE', 'score': 0.9938786625862122}],\n",
       " [{'label': 'NEGATIVE', 'score': 0.9014171957969666}],\n",
       " [{'label': 'POSITIVE', 'score': 0.7657813429832458}],\n",
       " [{'label': 'NEGATIVE', 'score': 0.9974633455276489}],\n",
       " [{'label': 'POSITIVE', 'score': 0.999871015548706}],\n",
       " [{'label': 'NEGATIVE', 'score': 0.930040180683136}],\n",
       " [{'label': 'POSITIVE', 'score': 0.9972749352455139}],\n",
       " [{'label': 'NEGATIVE', 'score': 0.9902160167694092}],\n",
       " [{'label': 'NEGATIVE', 'score': 0.999277651309967}],\n",
       " [{'label': 'NEGATIVE', 'score': 0.9881089329719543}],\n",
       " [{'label': 'NEGATIVE', 'score': 0.5978012681007385}],\n",
       " [{'label': 'POSITIVE', 'score': 0.9827409386634827}],\n",
       " [{'label': 'NEGATIVE', 'score': 0.9993853569030762}],\n",
       " [{'label': 'NEGATIVE', 'score': 0.9980047345161438}],\n",
       " [{'label': 'NEGATIVE', 'score': 0.8804312348365784}],\n",
       " [{'label': 'NEGATIVE', 'score': 0.9983219504356384}],\n",
       " [{'label': 'NEGATIVE', 'score': 0.8067620992660522}],\n",
       " [{'label': 'NEGATIVE', 'score': 0.9984971284866333}],\n",
       " [{'label': 'POSITIVE', 'score': 0.7887769341468811}],\n",
       " [{'label': 'NEGATIVE', 'score': 0.9996055960655212}],\n",
       " [{'label': 'POSITIVE', 'score': 0.7449308037757874}],\n",
       " [{'label': 'POSITIVE', 'score': 0.9979808926582336}],\n",
       " [{'label': 'NEGATIVE', 'score': 0.9927924871444702}],\n",
       " [{'label': 'POSITIVE', 'score': 0.9992270469665527}],\n",
       " [{'label': 'NEGATIVE', 'score': 0.986851155757904}],\n",
       " [{'label': 'NEGATIVE', 'score': 0.6977227330207825}],\n",
       " [{'label': 'NEGATIVE', 'score': 0.9978635907173157}],\n",
       " [{'label': 'NEGATIVE', 'score': 0.9988514184951782}],\n",
       " [{'label': 'NEGATIVE', 'score': 0.9934837222099304}],\n",
       " [{'label': 'NEGATIVE', 'score': 0.994268536567688}],\n",
       " [{'label': 'NEGATIVE', 'score': 0.9954213500022888}],\n",
       " [{'label': 'NEGATIVE', 'score': 0.9975123405456543}],\n",
       " [{'label': 'POSITIVE', 'score': 0.9714216589927673}],\n",
       " [{'label': 'NEGATIVE', 'score': 0.9988333582878113}],\n",
       " [{'label': 'NEGATIVE', 'score': 0.982459545135498}],\n",
       " [{'label': 'POSITIVE', 'score': 0.9986472725868225}],\n",
       " [{'label': 'NEGATIVE', 'score': 0.9032897353172302}],\n",
       " [{'label': 'NEGATIVE', 'score': 0.7487919926643372}],\n",
       " [{'label': 'NEGATIVE', 'score': 0.9585238695144653}],\n",
       " [{'label': 'POSITIVE', 'score': 0.9925200939178467}],\n",
       " [{'label': 'POSITIVE', 'score': 0.9939318895339966}],\n",
       " [{'label': 'POSITIVE', 'score': 0.9994169473648071}],\n",
       " [{'label': 'NEGATIVE', 'score': 0.9968975782394409}],\n",
       " [{'label': 'NEGATIVE', 'score': 0.9918996095657349}],\n",
       " [{'label': 'POSITIVE', 'score': 0.784058690071106}],\n",
       " [{'label': 'POSITIVE', 'score': 0.8589228391647339}],\n",
       " [{'label': 'POSITIVE', 'score': 0.6270379424095154}],\n",
       " [{'label': 'POSITIVE', 'score': 0.9907673001289368}],\n",
       " [{'label': 'POSITIVE', 'score': 0.9982478618621826}],\n",
       " [{'label': 'POSITIVE', 'score': 0.7789514064788818}],\n",
       " [{'label': 'POSITIVE', 'score': 0.9992903470993042}],\n",
       " [{'label': 'NEGATIVE', 'score': 0.9940006136894226}],\n",
       " [{'label': 'NEGATIVE', 'score': 0.953057587146759}],\n",
       " [{'label': 'POSITIVE', 'score': 0.9984943866729736}],\n",
       " [{'label': 'POSITIVE', 'score': 0.9992006421089172}],\n",
       " [{'label': 'NEGATIVE', 'score': 0.998971700668335}],\n",
       " [{'label': 'POSITIVE', 'score': 0.9998099207878113}],\n",
       " [{'label': 'POSITIVE', 'score': 0.9703201651573181}],\n",
       " [{'label': 'NEGATIVE', 'score': 0.9984158277511597}],\n",
       " [{'label': 'POSITIVE', 'score': 0.9997565150260925}],\n",
       " [{'label': 'NEGATIVE', 'score': 0.9926772117614746}],\n",
       " [{'label': 'POSITIVE', 'score': 0.9953521490097046}],\n",
       " [{'label': 'NEGATIVE', 'score': 0.993259072303772}],\n",
       " [{'label': 'NEGATIVE', 'score': 0.8855298161506653}],\n",
       " [{'label': 'NEGATIVE', 'score': 0.9955958724021912}],\n",
       " [{'label': 'POSITIVE', 'score': 0.9974992871284485}],\n",
       " [{'label': 'POSITIVE', 'score': 0.9773241877555847}],\n",
       " [{'label': 'POSITIVE', 'score': 0.7110297679901123}],\n",
       " [{'label': 'POSITIVE', 'score': 0.6008409857749939}],\n",
       " [{'label': 'NEGATIVE', 'score': 0.8463769555091858}],\n",
       " [{'label': 'NEGATIVE', 'score': 0.9845684766769409}],\n",
       " [{'label': 'NEGATIVE', 'score': 0.9971575736999512}],\n",
       " [{'label': 'NEGATIVE', 'score': 0.5048868656158447}],\n",
       " [{'label': 'NEGATIVE', 'score': 0.9883865714073181}],\n",
       " [{'label': 'NEGATIVE', 'score': 0.9881891012191772}],\n",
       " [{'label': 'POSITIVE', 'score': 0.6714471578598022}],\n",
       " [{'label': 'NEGATIVE', 'score': 0.9990918636322021}],\n",
       " [{'label': 'NEGATIVE', 'score': 0.9988572597503662}],\n",
       " [{'label': 'POSITIVE', 'score': 0.9962814450263977}],\n",
       " [{'label': 'POSITIVE', 'score': 0.99277263879776}],\n",
       " [{'label': 'NEGATIVE', 'score': 0.9963560104370117}],\n",
       " [{'label': 'POSITIVE', 'score': 0.8036103248596191}],\n",
       " [{'label': 'NEGATIVE', 'score': 0.9265962839126587}],\n",
       " [{'label': 'NEGATIVE', 'score': 0.9909266233444214}],\n",
       " [{'label': 'NEGATIVE', 'score': 0.9977096319198608}],\n",
       " [{'label': 'POSITIVE', 'score': 0.985942542552948}],\n",
       " [{'label': 'POSITIVE', 'score': 0.9997860789299011}],\n",
       " [{'label': 'POSITIVE', 'score': 0.9615873098373413}],\n",
       " [{'label': 'NEGATIVE', 'score': 0.995984673500061}],\n",
       " [{'label': 'POSITIVE', 'score': 0.9970577955245972}],\n",
       " [{'label': 'NEGATIVE', 'score': 0.9979739785194397}],\n",
       " [{'label': 'NEGATIVE', 'score': 0.9987984895706177}],\n",
       " [{'label': 'NEGATIVE', 'score': 0.9972981810569763}],\n",
       " [{'label': 'NEGATIVE', 'score': 0.9878627061843872}],\n",
       " [{'label': 'NEGATIVE', 'score': 0.9990456700325012}],\n",
       " [{'label': 'NEGATIVE', 'score': 0.9798625111579895}],\n",
       " [{'label': 'POSITIVE', 'score': 0.9998522996902466}],\n",
       " [{'label': 'NEGATIVE', 'score': 0.6682446599006653}],\n",
       " [{'label': 'POSITIVE', 'score': 0.9983484745025635}],\n",
       " [{'label': 'POSITIVE', 'score': 0.9997062087059021}],\n",
       " [{'label': 'NEGATIVE', 'score': 0.9742377400398254}],\n",
       " [{'label': 'POSITIVE', 'score': 0.9994671940803528}],\n",
       " [{'label': 'POSITIVE', 'score': 0.9993405938148499}],\n",
       " [{'label': 'NEGATIVE', 'score': 0.9956647753715515}],\n",
       " [{'label': 'NEGATIVE', 'score': 0.99498051404953}],\n",
       " [{'label': 'NEGATIVE', 'score': 0.998593270778656}],\n",
       " [{'label': 'NEGATIVE', 'score': 0.9974333643913269}],\n",
       " [{'label': 'NEGATIVE', 'score': 0.9957591891288757}],\n",
       " [{'label': 'NEGATIVE', 'score': 0.988757312297821}],\n",
       " [{'label': 'NEGATIVE', 'score': 0.5373041033744812}],\n",
       " [{'label': 'POSITIVE', 'score': 0.6374243497848511}],\n",
       " [{'label': 'NEGATIVE', 'score': 0.9918892979621887}],\n",
       " [{'label': 'NEGATIVE', 'score': 0.9915640354156494}],\n",
       " [{'label': 'POSITIVE', 'score': 0.9965382814407349}],\n",
       " [{'label': 'NEGATIVE', 'score': 0.9990836381912231}],\n",
       " [{'label': 'NEGATIVE', 'score': 0.9759308695793152}],\n",
       " [{'label': 'NEGATIVE', 'score': 0.8597440719604492}],\n",
       " [{'label': 'NEGATIVE', 'score': 0.9953011274337769}],\n",
       " [{'label': 'POSITIVE', 'score': 0.9998600482940674}],\n",
       " [{'label': 'POSITIVE', 'score': 0.9990212917327881}],\n",
       " [{'label': 'NEGATIVE', 'score': 0.9979508519172668}],\n",
       " [{'label': 'POSITIVE', 'score': 0.9997830986976624}],\n",
       " [{'label': 'POSITIVE', 'score': 0.8607614040374756}],\n",
       " [{'label': 'NEGATIVE', 'score': 0.9965973496437073}],\n",
       " [{'label': 'POSITIVE', 'score': 0.9995816349983215}],\n",
       " [{'label': 'POSITIVE', 'score': 0.8018364310264587}],\n",
       " [{'label': 'NEGATIVE', 'score': 0.998895525932312}],\n",
       " [{'label': 'NEGATIVE', 'score': 0.9922616481781006}],\n",
       " [{'label': 'POSITIVE', 'score': 0.997916042804718}],\n",
       " [{'label': 'POSITIVE', 'score': 0.6395083069801331}],\n",
       " [{'label': 'NEGATIVE', 'score': 0.9942060112953186}],\n",
       " [{'label': 'NEGATIVE', 'score': 0.9996324777603149}],\n",
       " [{'label': 'POSITIVE', 'score': 0.9949965476989746}],\n",
       " [{'label': 'POSITIVE', 'score': 0.993458092212677}],\n",
       " [{'label': 'NEGATIVE', 'score': 0.953218936920166}],\n",
       " [{'label': 'NEGATIVE', 'score': 0.9983194470405579}],\n",
       " [{'label': 'NEGATIVE', 'score': 0.9935171604156494}],\n",
       " [{'label': 'POSITIVE', 'score': 0.9998700618743896}],\n",
       " [{'label': 'POSITIVE', 'score': 0.9995726943016052}],\n",
       " [{'label': 'NEGATIVE', 'score': 0.9948034882545471}],\n",
       " [{'label': 'POSITIVE', 'score': 0.644014835357666}],\n",
       " [{'label': 'NEGATIVE', 'score': 0.9957233667373657}],\n",
       " [{'label': 'NEGATIVE', 'score': 0.9991152882575989}],\n",
       " [{'label': 'NEGATIVE', 'score': 0.997706413269043}],\n",
       " [{'label': 'POSITIVE', 'score': 0.9987068176269531}],\n",
       " [{'label': 'NEGATIVE', 'score': 0.9650054574012756}],\n",
       " [{'label': 'NEGATIVE', 'score': 0.9802610874176025}],\n",
       " [{'label': 'POSITIVE', 'score': 0.9988399147987366}],\n",
       " [{'label': 'NEGATIVE', 'score': 0.9934271574020386}],\n",
       " [{'label': 'NEGATIVE', 'score': 0.835368275642395}],\n",
       " [{'label': 'NEGATIVE', 'score': 0.9986681938171387}],\n",
       " [{'label': 'POSITIVE', 'score': 0.9994951486587524}],\n",
       " [{'label': 'POSITIVE', 'score': 0.9998822212219238}],\n",
       " [{'label': 'POSITIVE', 'score': 0.9803933501243591}],\n",
       " [{'label': 'NEGATIVE', 'score': 0.9323878884315491}],\n",
       " [{'label': 'POSITIVE', 'score': 0.999450147151947}],\n",
       " [{'label': 'POSITIVE', 'score': 0.9995669722557068}],\n",
       " [{'label': 'POSITIVE', 'score': 0.9959560036659241}],\n",
       " [{'label': 'NEGATIVE', 'score': 0.8214747905731201}],\n",
       " [{'label': 'POSITIVE', 'score': 0.7337722778320312}],\n",
       " [{'label': 'NEGATIVE', 'score': 0.6907563805580139}],\n",
       " [{'label': 'NEGATIVE', 'score': 0.6084144711494446}],\n",
       " [{'label': 'POSITIVE', 'score': 0.955154299736023}],\n",
       " [{'label': 'NEGATIVE', 'score': 0.9873403906822205}],\n",
       " [{'label': 'NEGATIVE', 'score': 0.9979946613311768}],\n",
       " [{'label': 'POSITIVE', 'score': 0.9972307085990906}],\n",
       " [{'label': 'NEGATIVE', 'score': 0.9780514240264893}],\n",
       " [{'label': 'POSITIVE', 'score': 0.9513117671012878}],\n",
       " [{'label': 'POSITIVE', 'score': 0.9886332154273987}],\n",
       " [{'label': 'POSITIVE', 'score': 0.8095601201057434}],\n",
       " [{'label': 'NEGATIVE', 'score': 0.9975847005844116}],\n",
       " [{'label': 'NEGATIVE', 'score': 0.8875840902328491}],\n",
       " [{'label': 'POSITIVE', 'score': 0.5476896166801453}],\n",
       " [{'label': 'POSITIVE', 'score': 0.9997745156288147}],\n",
       " [{'label': 'NEGATIVE', 'score': 0.9990575909614563}],\n",
       " [{'label': 'NEGATIVE', 'score': 0.9963024854660034}],\n",
       " [{'label': 'POSITIVE', 'score': 0.9853942394256592}],\n",
       " [{'label': 'NEGATIVE', 'score': 0.9980249404907227}],\n",
       " [{'label': 'NEGATIVE', 'score': 0.9993041753768921}],\n",
       " [{'label': 'POSITIVE', 'score': 0.7000879049301147}],\n",
       " [{'label': 'POSITIVE', 'score': 0.9057162404060364}],\n",
       " [{'label': 'POSITIVE', 'score': 0.9906285405158997}],\n",
       " [{'label': 'POSITIVE', 'score': 0.90687495470047}],\n",
       " [{'label': 'NEGATIVE', 'score': 0.9997779726982117}],\n",
       " [{'label': 'NEGATIVE', 'score': 0.6695113778114319}],\n",
       " [{'label': 'POSITIVE', 'score': 0.9988666772842407}],\n",
       " [{'label': 'NEGATIVE', 'score': 0.9975348711013794}],\n",
       " [{'label': 'NEGATIVE', 'score': 0.9879423975944519}],\n",
       " [{'label': 'NEGATIVE', 'score': 0.9809221625328064}],\n",
       " [{'label': 'NEGATIVE', 'score': 0.6354377865791321}],\n",
       " [{'label': 'NEGATIVE', 'score': 0.9783414602279663}],\n",
       " [{'label': 'NEGATIVE', 'score': 0.9781422019004822}],\n",
       " [{'label': 'NEGATIVE', 'score': 0.9525964260101318}],\n",
       " [{'label': 'POSITIVE', 'score': 0.8002018332481384}],\n",
       " [{'label': 'POSITIVE', 'score': 0.9997887015342712}],\n",
       " [{'label': 'NEGATIVE', 'score': 0.9905080795288086}],\n",
       " [{'label': 'NEGATIVE', 'score': 0.9593755602836609}],\n",
       " [{'label': 'NEGATIVE', 'score': 0.9979698061943054}],\n",
       " [{'label': 'NEGATIVE', 'score': 0.9866553544998169}],\n",
       " [{'label': 'NEGATIVE', 'score': 0.9940452575683594}],\n",
       " [{'label': 'POSITIVE', 'score': 0.9894313812255859}],\n",
       " [{'label': 'NEGATIVE', 'score': 0.9976370334625244}],\n",
       " [{'label': 'NEGATIVE', 'score': 0.997159481048584}],\n",
       " [{'label': 'NEGATIVE', 'score': 0.9983818531036377}],\n",
       " [{'label': 'POSITIVE', 'score': 0.9996645450592041}],\n",
       " [{'label': 'POSITIVE', 'score': 0.5569319128990173}],\n",
       " [{'label': 'NEGATIVE', 'score': 0.9705665707588196}],\n",
       " [{'label': 'NEGATIVE', 'score': 0.9983194470405579}],\n",
       " [{'label': 'NEGATIVE', 'score': 0.9990769624710083}],\n",
       " [{'label': 'POSITIVE', 'score': 0.8497111201286316}],\n",
       " [{'label': 'POSITIVE', 'score': 0.9954114556312561}],\n",
       " [{'label': 'NEGATIVE', 'score': 0.9818999767303467}],\n",
       " [{'label': 'NEGATIVE', 'score': 0.9915844202041626}],\n",
       " [{'label': 'NEGATIVE', 'score': 0.8633262515068054}],\n",
       " [{'label': 'NEGATIVE', 'score': 0.9985867738723755}],\n",
       " [{'label': 'POSITIVE', 'score': 0.9216951131820679}],\n",
       " [{'label': 'NEGATIVE', 'score': 0.9827110171318054}],\n",
       " [{'label': 'POSITIVE', 'score': 0.9975016713142395}],\n",
       " [{'label': 'NEGATIVE', 'score': 0.9829373955726624}],\n",
       " [{'label': 'POSITIVE', 'score': 0.5750092267990112}],\n",
       " [{'label': 'POSITIVE', 'score': 0.9987571239471436}],\n",
       " [{'label': 'NEGATIVE', 'score': 0.9991286396980286}],\n",
       " [{'label': 'NEGATIVE', 'score': 0.706348180770874}],\n",
       " [{'label': 'NEGATIVE', 'score': 0.9831086993217468}],\n",
       " [{'label': 'POSITIVE', 'score': 0.9787178039550781}],\n",
       " [{'label': 'NEGATIVE', 'score': 0.9912211894989014}],\n",
       " [{'label': 'NEGATIVE', 'score': 0.9983819723129272}],\n",
       " [{'label': 'POSITIVE', 'score': 0.9981129169464111}],\n",
       " [{'label': 'POSITIVE', 'score': 0.9885258674621582}],\n",
       " [{'label': 'POSITIVE', 'score': 0.9998155236244202}],\n",
       " [{'label': 'NEGATIVE', 'score': 0.9967108964920044}],\n",
       " [{'label': 'NEGATIVE', 'score': 0.996002733707428}],\n",
       " [{'label': 'NEGATIVE', 'score': 0.9974976181983948}],\n",
       " [{'label': 'NEGATIVE', 'score': 0.9423103928565979}],\n",
       " [{'label': 'NEGATIVE', 'score': 0.9675937294960022}],\n",
       " [{'label': 'POSITIVE', 'score': 0.9997801184654236}],\n",
       " [{'label': 'POSITIVE', 'score': 0.6480311751365662}],\n",
       " [{'label': 'NEGATIVE', 'score': 0.9744540452957153}],\n",
       " [{'label': 'NEGATIVE', 'score': 0.997704803943634}],\n",
       " [{'label': 'NEGATIVE', 'score': 0.9997648596763611}],\n",
       " [{'label': 'POSITIVE', 'score': 0.9179087281227112}],\n",
       " [{'label': 'NEGATIVE', 'score': 0.9984063506126404}],\n",
       " [{'label': 'NEGATIVE', 'score': 0.9902016520500183}],\n",
       " [{'label': 'NEGATIVE', 'score': 0.9906812310218811}],\n",
       " [{'label': 'NEGATIVE', 'score': 0.9954713582992554}],\n",
       " [{'label': 'NEGATIVE', 'score': 0.9995740056037903}],\n",
       " [{'label': 'NEGATIVE', 'score': 0.9519165754318237}],\n",
       " [{'label': 'NEGATIVE', 'score': 0.9706590175628662}]]"
      ]
     },
     "execution_count": 126,
     "metadata": {},
     "output_type": "execute_result"
    }
   ],
   "source": [
    "y_pred"
   ]
  },
  {
   "cell_type": "code",
   "execution_count": 127,
   "id": "41bcc934",
   "metadata": {},
   "outputs": [],
   "source": [
    "y_pred = [y_pred[i][0]['label'] for i in range(len(y_pred))]\n",
    "y_pred = [labeling(y_pred[i]) for i in range(len(y_pred))]"
   ]
  },
  {
   "cell_type": "markdown",
   "id": "a5f8c6ec",
   "metadata": {},
   "source": [
    "Ici il n'y a même pas besoin de préprocessing !"
   ]
  },
  {
   "cell_type": "code",
   "execution_count": 128,
   "id": "7d28e176",
   "metadata": {},
   "outputs": [
    {
     "name": "stdout",
     "output_type": "stream",
     "text": [
      "              precision    recall  f1-score   support\n",
      "\n",
      "           0       0.82      0.58      0.68       286\n",
      "           1       0.06      0.18      0.09        44\n",
      "\n",
      "    accuracy                           0.53       330\n",
      "   macro avg       0.44      0.38      0.39       330\n",
      "weighted avg       0.72      0.53      0.60       330\n",
      "\n"
     ]
    }
   ],
   "source": [
    "print(classification_report(y_train[indices], y_pred))"
   ]
  },
  {
   "cell_type": "markdown",
   "id": "8e63f57b",
   "metadata": {},
   "source": [
    "# Finissons sur Bert le game changer\n",
    "\n",
    "https://www.quantmetry.com/glossaire/bert-nlp/\n",
    "https://datascientest.com/bert-un-outil-de-traitement-du-langage-innovant\n",
    "https://fr.wikipedia.org/wiki/BERT_(mod%C3%A8le_de_langage)\n",
    "\n",
    "Mais surtout : https://arxiv.org/pdf/1810.04805.pdf"
   ]
  },
  {
   "cell_type": "code",
   "execution_count": 129,
   "id": "12a9f7e5",
   "metadata": {},
   "outputs": [],
   "source": [
    "num_classes = 2"
   ]
  },
  {
   "cell_type": "code",
   "execution_count": 137,
   "id": "1585c20b",
   "metadata": {},
   "outputs": [
    {
     "name": "stderr",
     "output_type": "stream",
     "text": [
      "loading file vocab.txt from cache at /home/cytech/.cache/huggingface/hub/models--bert-base-uncased/snapshots/86b5e0934494bd15c9632b12f734a8a67f723594/vocab.txt\n",
      "loading file added_tokens.json from cache at None\n",
      "loading file special_tokens_map.json from cache at None\n",
      "loading file tokenizer_config.json from cache at /home/cytech/.cache/huggingface/hub/models--bert-base-uncased/snapshots/86b5e0934494bd15c9632b12f734a8a67f723594/tokenizer_config.json\n",
      "loading file tokenizer.json from cache at /home/cytech/.cache/huggingface/hub/models--bert-base-uncased/snapshots/86b5e0934494bd15c9632b12f734a8a67f723594/tokenizer.json\n",
      "loading configuration file config.json from cache at /home/cytech/.cache/huggingface/hub/models--bert-base-uncased/snapshots/86b5e0934494bd15c9632b12f734a8a67f723594/config.json\n",
      "Model config BertConfig {\n",
      "  \"_name_or_path\": \"bert-base-uncased\",\n",
      "  \"architectures\": [\n",
      "    \"BertForMaskedLM\"\n",
      "  ],\n",
      "  \"attention_probs_dropout_prob\": 0.1,\n",
      "  \"classifier_dropout\": null,\n",
      "  \"gradient_checkpointing\": false,\n",
      "  \"hidden_act\": \"gelu\",\n",
      "  \"hidden_dropout_prob\": 0.1,\n",
      "  \"hidden_size\": 768,\n",
      "  \"initializer_range\": 0.02,\n",
      "  \"intermediate_size\": 3072,\n",
      "  \"layer_norm_eps\": 1e-12,\n",
      "  \"max_position_embeddings\": 512,\n",
      "  \"model_type\": \"bert\",\n",
      "  \"num_attention_heads\": 12,\n",
      "  \"num_hidden_layers\": 12,\n",
      "  \"pad_token_id\": 0,\n",
      "  \"position_embedding_type\": \"absolute\",\n",
      "  \"transformers_version\": \"4.45.1\",\n",
      "  \"type_vocab_size\": 2,\n",
      "  \"use_cache\": true,\n",
      "  \"vocab_size\": 30522\n",
      "}\n",
      "\n",
      "loading configuration file config.json from cache at /home/cytech/.cache/huggingface/hub/models--bert-base-uncased/snapshots/86b5e0934494bd15c9632b12f734a8a67f723594/config.json\n",
      "Model config BertConfig {\n",
      "  \"architectures\": [\n",
      "    \"BertForMaskedLM\"\n",
      "  ],\n",
      "  \"attention_probs_dropout_prob\": 0.1,\n",
      "  \"classifier_dropout\": null,\n",
      "  \"gradient_checkpointing\": false,\n",
      "  \"hidden_act\": \"gelu\",\n",
      "  \"hidden_dropout_prob\": 0.1,\n",
      "  \"hidden_size\": 768,\n",
      "  \"initializer_range\": 0.02,\n",
      "  \"intermediate_size\": 3072,\n",
      "  \"layer_norm_eps\": 1e-12,\n",
      "  \"max_position_embeddings\": 512,\n",
      "  \"model_type\": \"bert\",\n",
      "  \"num_attention_heads\": 12,\n",
      "  \"num_hidden_layers\": 12,\n",
      "  \"pad_token_id\": 0,\n",
      "  \"position_embedding_type\": \"absolute\",\n",
      "  \"transformers_version\": \"4.45.1\",\n",
      "  \"type_vocab_size\": 2,\n",
      "  \"use_cache\": true,\n",
      "  \"vocab_size\": 30522\n",
      "}\n",
      "\n"
     ]
    },
    {
     "data": {
      "application/vnd.jupyter.widget-view+json": {
       "model_id": "dc5d671b1463459ebc4fbc57e1837d4a",
       "version_major": 2,
       "version_minor": 0
      },
      "text/plain": [
       "model.safetensors:   0%|          | 0.00/440M [00:00<?, ?B/s]"
      ]
     },
     "metadata": {},
     "output_type": "display_data"
    },
    {
     "name": "stderr",
     "output_type": "stream",
     "text": [
      "loading weights file model.safetensors from cache at /home/cytech/.cache/huggingface/hub/models--bert-base-uncased/snapshots/86b5e0934494bd15c9632b12f734a8a67f723594/model.safetensors\n",
      "Loaded 109,482,240 parameters in the TF 2.0 model.\n",
      "All PyTorch model weights were used when initializing TFBertForSequenceClassification.\n",
      "\n",
      "Some weights or buffers of the TF 2.0 model TFBertForSequenceClassification were not initialized from the PyTorch model and are newly initialized: ['classifier.weight', 'classifier.bias']\n",
      "You should probably TRAIN this model on a down-stream task to be able to use it for predictions and inference.\n"
     ]
    }
   ],
   "source": [
    "#from transformers import *\n",
    "from transformers import BertTokenizer, TFBertModel, BertConfig,  TFBertForSequenceClassification\n",
    "bert_tokenizer = BertTokenizer.from_pretrained(\"bert-base-uncased\")\n",
    "bert_model = TFBertForSequenceClassification.from_pretrained('bert-base-uncased',num_labels=num_classes)"
   ]
  },
  {
   "cell_type": "code",
   "execution_count": 138,
   "id": "f35ffb6a",
   "metadata": {},
   "outputs": [
    {
     "data": {
      "text/plain": [
       "(3565, 3565)"
      ]
     },
     "execution_count": 138,
     "metadata": {},
     "output_type": "execute_result"
    }
   ],
   "source": [
    "sentences = x_train\n",
    "labels = y_train\n",
    "len(sentences),len(labels)"
   ]
  },
  {
   "cell_type": "code",
   "execution_count": 139,
   "id": "fc14845c",
   "metadata": {},
   "outputs": [
    {
     "name": "stderr",
     "output_type": "stream",
     "text": [
      "100%|█████████████████████████████████████| 3565/3565 [00:00<00:00, 3984.23it/s]\n"
     ]
    }
   ],
   "source": [
    "input_ids=[]\n",
    "attention_masks=[]\n",
    "\n",
    "for sent in tqdm(sentences):\n",
    "    bert_inp=bert_tokenizer.encode_plus(sent,add_special_tokens = True,\n",
    "                                        max_length =64,pad_to_max_length = True,\n",
    "                                        return_attention_mask = True,\n",
    "                                        truncation=True)\n",
    "    input_ids.append(bert_inp['input_ids'])\n",
    "    attention_masks.append(bert_inp['attention_mask'])\n",
    "\n",
    "input_ids=np.asarray(input_ids)\n",
    "attention_masks=np.array(attention_masks)\n",
    "labels=np.array(labels)"
   ]
  },
  {
   "cell_type": "code",
   "execution_count": 140,
   "id": "e6c3b734",
   "metadata": {},
   "outputs": [
    {
     "name": "stdout",
     "output_type": "stream",
     "text": [
      "Preparing the pickle file.....\n",
      "Pickle files saved as  ./bert_inp.pkl ./bert_mask.pkl ./bert_label.pkl\n"
     ]
    }
   ],
   "source": [
    "import pickle\n",
    "\n",
    "print('Preparing the pickle file.....')\n",
    "\n",
    "pickle_inp_path='./bert_inp.pkl'\n",
    "pickle_mask_path='./bert_mask.pkl'\n",
    "pickle_label_path='./bert_label.pkl'\n",
    "\n",
    "pickle.dump((input_ids),open(pickle_inp_path,'wb'))\n",
    "pickle.dump((attention_masks),open(pickle_mask_path,'wb'))\n",
    "pickle.dump((labels),open(pickle_label_path,'wb'))\n",
    "\n",
    "\n",
    "print('Pickle files saved as ',pickle_inp_path,pickle_mask_path,pickle_label_path)"
   ]
  },
  {
   "cell_type": "code",
   "execution_count": 141,
   "id": "f683091c",
   "metadata": {},
   "outputs": [
    {
     "name": "stdout",
     "output_type": "stream",
     "text": [
      "Loading the saved pickle files..\n",
      "Input shape (3565, 64) Attention mask shape (3565, 64) Input label shape (3565,)\n"
     ]
    }
   ],
   "source": [
    "print('Loading the saved pickle files..')\n",
    "\n",
    "input_ids=pickle.load(open(pickle_inp_path, 'rb'))\n",
    "attention_masks=pickle.load(open(pickle_mask_path, 'rb'))\n",
    "labels=pickle.load(open(pickle_label_path, 'rb'))\n",
    "\n",
    "print('Input shape {} Attention mask shape {} Input label shape {}'.format(input_ids.shape,attention_masks.shape,labels.shape))"
   ]
  },
  {
   "cell_type": "code",
   "execution_count": 142,
   "id": "b599156a",
   "metadata": {},
   "outputs": [
    {
     "name": "stdout",
     "output_type": "stream",
     "text": [
      "Train inp shape (2852, 64) Val input shape (713, 64)\n",
      "Train label shape (2852,) Val label shape (713,)\n",
      "Train attention mask shape (2852, 64) Val attention mask shape (713, 64)\n"
     ]
    }
   ],
   "source": [
    "\n",
    "train_inp, val_inp, train_label, val_label, train_mask, val_mask = train_test_split(\n",
    "    input_ids, labels, attention_masks, test_size=0.2, stratify=labels ,random_state=42)\n",
    "\n",
    "print('Train inp shape {} Val input shape {}\\nTrain label shape {} Val label shape {}\\nTrain attention mask shape {} Val attention mask shape {}'.format(\n",
    "    train_inp.shape, val_inp.shape, train_label.shape, val_label.shape, train_mask.shape, val_mask.shape))"
   ]
  },
  {
   "cell_type": "code",
   "execution_count": 150,
   "id": "ede81844",
   "metadata": {},
   "outputs": [],
   "source": [
    "model_save_path='./bert_model.weights.h5'\n",
    "\n",
    "log_dir='tensorboard_data/tb_bert'"
   ]
  },
  {
   "cell_type": "markdown",
   "id": "9f834d76",
   "metadata": {},
   "source": [
    "**A vous de débugger !**"
   ]
  },
  {
   "cell_type": "code",
   "execution_count": 151,
   "id": "bc3c4f15",
   "metadata": {},
   "outputs": [
    {
     "name": "stdout",
     "output_type": "stream",
     "text": [
      "Model: \"tf_bert_for_sequence_classification\"\n",
      "_________________________________________________________________\n",
      " Layer (type)                Output Shape              Param #   \n",
      "=================================================================\n",
      " bert (TFBertMainLayer)      multiple                  109482240 \n",
      "                                                                 \n",
      " dropout_57 (Dropout)        multiple                  0 (unused)\n",
      "                                                                 \n",
      " classifier (Dense)          multiple                  1538      \n",
      "                                                                 \n",
      "=================================================================\n",
      "Total params: 109483778 (417.65 MB)\n",
      "Trainable params: 109483778 (417.65 MB)\n",
      "Non-trainable params: 0 (0.00 Byte)\n",
      "_________________________________________________________________\n",
      "\n",
      "Bert Model None\n"
     ]
    },
    {
     "ename": "AttributeError",
     "evalue": "'Variable' object has no attribute '_distribute_strategy'",
     "output_type": "error",
     "traceback": [
      "\u001b[0;31m---------------------------------------------------------------------------\u001b[0m",
      "\u001b[0;31mAttributeError\u001b[0m                            Traceback (most recent call last)",
      "Input \u001b[0;32mIn [151]\u001b[0m, in \u001b[0;36m<cell line: 11>\u001b[0;34m()\u001b[0m\n\u001b[1;32m      8\u001b[0m metric \u001b[38;5;241m=\u001b[39m tf\u001b[38;5;241m.\u001b[39mkeras\u001b[38;5;241m.\u001b[39mmetrics\u001b[38;5;241m.\u001b[39mSparseCategoricalAccuracy(\u001b[38;5;124m'\u001b[39m\u001b[38;5;124maccuracy\u001b[39m\u001b[38;5;124m'\u001b[39m)\n\u001b[1;32m      9\u001b[0m optimizer \u001b[38;5;241m=\u001b[39m tf\u001b[38;5;241m.\u001b[39mkeras\u001b[38;5;241m.\u001b[39moptimizers\u001b[38;5;241m.\u001b[39mAdam(learning_rate\u001b[38;5;241m=\u001b[39m\u001b[38;5;241m2e-5\u001b[39m, epsilon\u001b[38;5;241m=\u001b[39m\u001b[38;5;241m1e-08\u001b[39m)\n\u001b[0;32m---> 11\u001b[0m \u001b[43mbert_model\u001b[49m\u001b[38;5;241;43m.\u001b[39;49m\u001b[43mcompile\u001b[49m\u001b[43m(\u001b[49m\u001b[43mloss\u001b[49m\u001b[38;5;241;43m=\u001b[39;49m\u001b[43mloss\u001b[49m\u001b[43m,\u001b[49m\u001b[43m \u001b[49m\u001b[43moptimizer\u001b[49m\u001b[38;5;241;43m=\u001b[39;49m\u001b[43moptimizer\u001b[49m\u001b[43m,\u001b[49m\u001b[43m \u001b[49m\u001b[43mmetrics\u001b[49m\u001b[38;5;241;43m=\u001b[39;49m\u001b[43m[\u001b[49m\u001b[43mmetric\u001b[49m\u001b[43m]\u001b[49m\u001b[43m)\u001b[49m\n",
      "File \u001b[0;32m~/anaconda3/lib/python3.9/site-packages/transformers/modeling_tf_utils.py:1563\u001b[0m, in \u001b[0;36mTFPreTrainedModel.compile\u001b[0;34m(self, optimizer, loss, metrics, loss_weights, weighted_metrics, run_eagerly, steps_per_execution, **kwargs)\u001b[0m\n\u001b[1;32m   1561\u001b[0m \u001b[38;5;66;03m# This argument got renamed, we need to support both versions\u001b[39;00m\n\u001b[1;32m   1562\u001b[0m \u001b[38;5;28;01mif\u001b[39;00m \u001b[38;5;124m\"\u001b[39m\u001b[38;5;124msteps_per_execution\u001b[39m\u001b[38;5;124m\"\u001b[39m \u001b[38;5;129;01min\u001b[39;00m parent_args:\n\u001b[0;32m-> 1563\u001b[0m     \u001b[38;5;28;43msuper\u001b[39;49m\u001b[43m(\u001b[49m\u001b[43m)\u001b[49m\u001b[38;5;241;43m.\u001b[39;49m\u001b[43mcompile\u001b[49m\u001b[43m(\u001b[49m\n\u001b[1;32m   1564\u001b[0m \u001b[43m        \u001b[49m\u001b[43moptimizer\u001b[49m\u001b[38;5;241;43m=\u001b[39;49m\u001b[43moptimizer\u001b[49m\u001b[43m,\u001b[49m\n\u001b[1;32m   1565\u001b[0m \u001b[43m        \u001b[49m\u001b[43mloss\u001b[49m\u001b[38;5;241;43m=\u001b[39;49m\u001b[43mloss\u001b[49m\u001b[43m,\u001b[49m\n\u001b[1;32m   1566\u001b[0m \u001b[43m        \u001b[49m\u001b[43mmetrics\u001b[49m\u001b[38;5;241;43m=\u001b[39;49m\u001b[43mmetrics\u001b[49m\u001b[43m,\u001b[49m\n\u001b[1;32m   1567\u001b[0m \u001b[43m        \u001b[49m\u001b[43mloss_weights\u001b[49m\u001b[38;5;241;43m=\u001b[39;49m\u001b[43mloss_weights\u001b[49m\u001b[43m,\u001b[49m\n\u001b[1;32m   1568\u001b[0m \u001b[43m        \u001b[49m\u001b[43mweighted_metrics\u001b[49m\u001b[38;5;241;43m=\u001b[39;49m\u001b[43mweighted_metrics\u001b[49m\u001b[43m,\u001b[49m\n\u001b[1;32m   1569\u001b[0m \u001b[43m        \u001b[49m\u001b[43mrun_eagerly\u001b[49m\u001b[38;5;241;43m=\u001b[39;49m\u001b[43mrun_eagerly\u001b[49m\u001b[43m,\u001b[49m\n\u001b[1;32m   1570\u001b[0m \u001b[43m        \u001b[49m\u001b[43msteps_per_execution\u001b[49m\u001b[38;5;241;43m=\u001b[39;49m\u001b[43msteps_per_execution\u001b[49m\u001b[43m,\u001b[49m\n\u001b[1;32m   1571\u001b[0m \u001b[43m        \u001b[49m\u001b[38;5;241;43m*\u001b[39;49m\u001b[38;5;241;43m*\u001b[39;49m\u001b[43mkwargs\u001b[49m\u001b[43m,\u001b[49m\n\u001b[1;32m   1572\u001b[0m \u001b[43m    \u001b[49m\u001b[43m)\u001b[49m\n\u001b[1;32m   1573\u001b[0m \u001b[38;5;28;01melse\u001b[39;00m:\n\u001b[1;32m   1574\u001b[0m     \u001b[38;5;28msuper\u001b[39m()\u001b[38;5;241m.\u001b[39mcompile(\n\u001b[1;32m   1575\u001b[0m         optimizer\u001b[38;5;241m=\u001b[39moptimizer,\n\u001b[1;32m   1576\u001b[0m         loss\u001b[38;5;241m=\u001b[39mloss,\n\u001b[0;32m   (...)\u001b[0m\n\u001b[1;32m   1582\u001b[0m         \u001b[38;5;241m*\u001b[39m\u001b[38;5;241m*\u001b[39mkwargs,\n\u001b[1;32m   1583\u001b[0m     )\n",
      "File \u001b[0;32m~/anaconda3/lib/python3.9/site-packages/tf_keras/src/utils/traceback_utils.py:70\u001b[0m, in \u001b[0;36mfilter_traceback.<locals>.error_handler\u001b[0;34m(*args, **kwargs)\u001b[0m\n\u001b[1;32m     67\u001b[0m     filtered_tb \u001b[38;5;241m=\u001b[39m _process_traceback_frames(e\u001b[38;5;241m.\u001b[39m__traceback__)\n\u001b[1;32m     68\u001b[0m     \u001b[38;5;66;03m# To get the full stack trace, call:\u001b[39;00m\n\u001b[1;32m     69\u001b[0m     \u001b[38;5;66;03m# `tf.debugging.disable_traceback_filtering()`\u001b[39;00m\n\u001b[0;32m---> 70\u001b[0m     \u001b[38;5;28;01mraise\u001b[39;00m e\u001b[38;5;241m.\u001b[39mwith_traceback(filtered_tb) \u001b[38;5;28;01mfrom\u001b[39;00m \u001b[38;5;28;01mNone\u001b[39;00m\n\u001b[1;32m     71\u001b[0m \u001b[38;5;28;01mfinally\u001b[39;00m:\n\u001b[1;32m     72\u001b[0m     \u001b[38;5;28;01mdel\u001b[39;00m filtered_tb\n",
      "File \u001b[0;32m~/anaconda3/lib/python3.9/site-packages/tensorflow/python/distribute/distribute_lib.py:4021\u001b[0m, in \u001b[0;36m_DefaultDistributionExtended.variable_created_in_scope\u001b[0;34m(self, v)\u001b[0m\n\u001b[1;32m   4020\u001b[0m \u001b[38;5;28;01mdef\u001b[39;00m \u001b[38;5;21mvariable_created_in_scope\u001b[39m(\u001b[38;5;28mself\u001b[39m, v):\n\u001b[0;32m-> 4021\u001b[0m   \u001b[38;5;28;01mreturn\u001b[39;00m \u001b[43mv\u001b[49m\u001b[38;5;241;43m.\u001b[39;49m\u001b[43m_distribute_strategy\u001b[49m \u001b[38;5;129;01mis\u001b[39;00m \u001b[38;5;28;01mNone\u001b[39;00m\n",
      "\u001b[0;31mAttributeError\u001b[0m: 'Variable' object has no attribute '_distribute_strategy'"
     ]
    }
   ],
   "source": [
    "callbacks = [tf.keras.callbacks.ModelCheckpoint(filepath=model_save_path, save_weights_only=True,\n",
    "                                                monitor='val_loss', mode='min', save_best_only=True),\n",
    "             tf.keras.callbacks.TensorBoard(log_dir=log_dir)]\n",
    "\n",
    "print('\\nBert Model', bert_model.summary())\n",
    "\n",
    "loss = tf.keras.losses.SparseCategoricalCrossentropy(from_logits=True)\n",
    "metric = tf.keras.metrics.SparseCategoricalAccuracy('accuracy')\n",
    "optimizer = tf.keras.optimizers.Adam(learning_rate=2e-5, epsilon=1e-08)\n",
    "\n",
    "bert_model.compile(loss=loss, optimizer=optimizer, metrics=[metric])"
   ]
  },
  {
   "cell_type": "markdown",
   "id": "6229ae23",
   "metadata": {},
   "source": [
    "ET OUI QUASIMENT 110 MILLIONS DE PARAMÈTRES!"
   ]
  },
  {
   "cell_type": "code",
   "execution_count": 151,
   "id": "f5689d5a",
   "metadata": {},
   "outputs": [
    {
     "name": "stdout",
     "output_type": "stream",
     "text": [
      "Epoch 1/4\n"
     ]
    },
    {
     "name": "stderr",
     "output_type": "stream",
     "text": [
      "  0%|▏                                      | 2/500 [15:32<64:31:13, 466.41s/it]\n"
     ]
    },
    {
     "name": "stdout",
     "output_type": "stream",
     "text": [
      "800/800 [==============================] - 157s 185ms/step - loss: 0.4143 - accuracy: 0.8052 - val_loss: 0.3544 - val_accuracy: 0.8405\n",
      "Epoch 2/4\n",
      "800/800 [==============================] - 147s 184ms/step - loss: 0.2795 - accuracy: 0.8810 - val_loss: 0.3435 - val_accuracy: 0.8481\n",
      "Epoch 3/4\n",
      "800/800 [==============================] - 143s 178ms/step - loss: 0.1608 - accuracy: 0.9373 - val_loss: 0.4201 - val_accuracy: 0.8472\n",
      "Epoch 4/4\n",
      "800/800 [==============================] - 143s 179ms/step - loss: 0.0817 - accuracy: 0.9720 - val_loss: 0.5454 - val_accuracy: 0.8422\n"
     ]
    }
   ],
   "source": [
    "history = bert_model.fit([train_inp, train_mask], train_label, batch_size=32,\n",
    "                         epochs=4, validation_data=([val_inp, val_mask], val_label), callbacks=callbacks)"
   ]
  },
  {
   "cell_type": "code",
   "execution_count": 152,
   "id": "28afc1a2",
   "metadata": {},
   "outputs": [
    {
     "name": "stderr",
     "output_type": "stream",
     "text": [
      "loading configuration file config.json from cache at /home/jordy/.cache/huggingface/hub/models--bert-base-uncased/snapshots/0a6aa9128b6194f4f3c4db429b6cb4891cdb421b/config.json\n",
      "Model config BertConfig {\n",
      "  \"architectures\": [\n",
      "    \"BertForMaskedLM\"\n",
      "  ],\n",
      "  \"attention_probs_dropout_prob\": 0.1,\n",
      "  \"classifier_dropout\": null,\n",
      "  \"gradient_checkpointing\": false,\n",
      "  \"hidden_act\": \"gelu\",\n",
      "  \"hidden_dropout_prob\": 0.1,\n",
      "  \"hidden_size\": 768,\n",
      "  \"initializer_range\": 0.02,\n",
      "  \"intermediate_size\": 3072,\n",
      "  \"layer_norm_eps\": 1e-12,\n",
      "  \"max_position_embeddings\": 512,\n",
      "  \"model_type\": \"bert\",\n",
      "  \"num_attention_heads\": 12,\n",
      "  \"num_hidden_layers\": 12,\n",
      "  \"pad_token_id\": 0,\n",
      "  \"position_embedding_type\": \"absolute\",\n",
      "  \"transformers_version\": \"4.26.1\",\n",
      "  \"type_vocab_size\": 2,\n",
      "  \"use_cache\": true,\n",
      "  \"vocab_size\": 30522\n",
      "}\n",
      "\n",
      "loading weights file tf_model.h5 from cache at /home/jordy/.cache/huggingface/hub/models--bert-base-uncased/snapshots/0a6aa9128b6194f4f3c4db429b6cb4891cdb421b/tf_model.h5\n",
      "All model checkpoint layers were used when initializing TFBertForSequenceClassification.\n",
      "\n",
      "Some layers of TFBertForSequenceClassification were not initialized from the model checkpoint at bert-base-uncased and are newly initialized: ['classifier']\n",
      "You should probably TRAIN this model on a down-stream task to be able to use it for predictions and inference.\n"
     ]
    },
    {
     "name": "stdout",
     "output_type": "stream",
     "text": [
      "Classification Report\n",
      "              precision    recall  f1-score   support\n",
      "\n",
      "           0       0.84      0.86      0.85      3200\n",
      "           1       0.86      0.84      0.85      3200\n",
      "\n",
      "    accuracy                           0.85      6400\n",
      "   macro avg       0.85      0.85      0.85      6400\n",
      "weighted avg       0.85      0.85      0.85      6400\n",
      "\n",
      "Training and saving built model.....\n"
     ]
    }
   ],
   "source": [
    "model_save_path='./bert_model.h5'\n",
    "\n",
    "trained_model = TFBertForSequenceClassification.from_pretrained('bert-base-uncased',num_labels=2)\n",
    "trained_model.compile(loss=loss,optimizer=optimizer, metrics=[metric])\n",
    "trained_model.load_weights(model_save_path)\n",
    "\n",
    "preds = trained_model.predict([val_inp,val_mask],batch_size=32)\n",
    "\n",
    "pred_labels = np.argmax(preds[0], axis=1)\n",
    "\n",
    "print('Classification Report')\n",
    "print(classification_report(val_label,pred_labels))\n",
    "\n",
    "print('Training and saving built model.....')"
   ]
  },
  {
   "cell_type": "markdown",
   "id": "d47b74b3",
   "metadata": {},
   "source": [
    "Pour aller plus voir et découvrir les autres taches du NLP comme les NER, voir : \n",
    "    https://keras.io/"
   ]
  },
  {
   "cell_type": "code",
   "execution_count": null,
   "id": "0a532f43",
   "metadata": {},
   "outputs": [],
   "source": []
  }
 ],
 "metadata": {
  "kernelspec": {
   "display_name": "Python 3 (ipykernel)",
   "language": "python",
   "name": "python3"
  },
  "language_info": {
   "codemirror_mode": {
    "name": "ipython",
    "version": 3
   },
   "file_extension": ".py",
   "mimetype": "text/x-python",
   "name": "python",
   "nbconvert_exporter": "python",
   "pygments_lexer": "ipython3",
   "version": "3.11.9"
  }
 },
 "nbformat": 4,
 "nbformat_minor": 5
}
